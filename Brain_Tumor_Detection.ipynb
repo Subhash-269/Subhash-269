{
  "nbformat": 4,
  "nbformat_minor": 0,
  "metadata": {
    "colab": {
      "name": "OD1.ipynb",
      "provenance": [],
      "collapsed_sections": [
        "4zbY2HWxDEXS",
        "T9KeR5yCDSxM",
        "jSh5H4iiIpyY"
      ],
      "authorship_tag": "ABX9TyNb4pglnuDI9Y8t4IY0ivth",
      "include_colab_link": true
    },
    "kernelspec": {
      "name": "python3",
      "display_name": "Python 3"
    },
    "language_info": {
      "name": "python"
    },
    "accelerator": "GPU"
  },
  "cells": [
    {
      "cell_type": "markdown",
      "metadata": {
        "id": "view-in-github",
        "colab_type": "text"
      },
      "source": [
        "<a href=\"https://colab.research.google.com/github/Subhash-269/Subhash-269/blob/main/Brain_Tumor_Detection.ipynb\" target=\"_parent\"><img src=\"https://colab.research.google.com/assets/colab-badge.svg\" alt=\"Open In Colab\"/></a>"
      ]
    },
    {
      "cell_type": "code",
      "source": [
        "from google.colab import files\n",
        "import zipfile\n",
        "import os\n",
        "import seaborn as sns\n",
        "import pandas as pd\n",
        "import matplotlib.pyplot as plt\n",
        "import PIL\n",
        "import numpy as np\n",
        "import glob"
      ],
      "metadata": {
        "id": "wFY28P6Ejl02"
      },
      "execution_count": null,
      "outputs": []
    },
    {
      "cell_type": "markdown",
      "source": [
        "#Loading Dataset"
      ],
      "metadata": {
        "id": "4zbY2HWxDEXS"
      }
    },
    {
      "cell_type": "code",
      "source": [
        "cd /content/"
      ],
      "metadata": {
        "colab": {
          "base_uri": "https://localhost:8080/"
        },
        "id": "rZs4gyXYZQdT",
        "outputId": "83351f1d-c705-4871-b36f-50dd933d6035"
      },
      "execution_count": null,
      "outputs": [
        {
          "output_type": "stream",
          "name": "stdout",
          "text": [
            "/content\n"
          ]
        }
      ]
    },
    {
      "cell_type": "code",
      "source": [
        "!mkdir Brain_Tumor_detection"
      ],
      "metadata": {
        "id": "sV9y4VB2CLqX"
      },
      "execution_count": null,
      "outputs": []
    },
    {
      "cell_type": "code",
      "source": [
        "os.chdir('/content/Brain_Tumor_detection')"
      ],
      "metadata": {
        "id": "CPdcm-R4CXEu"
      },
      "execution_count": null,
      "outputs": []
    },
    {
      "cell_type": "code",
      "source": [
        "uploaded = files.upload()\n",
        "\n",
        "for fn in uploaded.keys():\n",
        "  print('User uploaded file \"{name}\" with length {length} bytes'.format\n",
        "        (name = fn,length = len(uploaded[fn])))"
      ],
      "metadata": {
        "colab": {
          "resources": {
            "http://localhost:8080/nbextensions/google.colab/files.js": {
              "data": "Ly8gQ29weXJpZ2h0IDIwMTcgR29vZ2xlIExMQwovLwovLyBMaWNlbnNlZCB1bmRlciB0aGUgQXBhY2hlIExpY2Vuc2UsIFZlcnNpb24gMi4wICh0aGUgIkxpY2Vuc2UiKTsKLy8geW91IG1heSBub3QgdXNlIHRoaXMgZmlsZSBleGNlcHQgaW4gY29tcGxpYW5jZSB3aXRoIHRoZSBMaWNlbnNlLgovLyBZb3UgbWF5IG9idGFpbiBhIGNvcHkgb2YgdGhlIExpY2Vuc2UgYXQKLy8KLy8gICAgICBodHRwOi8vd3d3LmFwYWNoZS5vcmcvbGljZW5zZXMvTElDRU5TRS0yLjAKLy8KLy8gVW5sZXNzIHJlcXVpcmVkIGJ5IGFwcGxpY2FibGUgbGF3IG9yIGFncmVlZCB0byBpbiB3cml0aW5nLCBzb2Z0d2FyZQovLyBkaXN0cmlidXRlZCB1bmRlciB0aGUgTGljZW5zZSBpcyBkaXN0cmlidXRlZCBvbiBhbiAiQVMgSVMiIEJBU0lTLAovLyBXSVRIT1VUIFdBUlJBTlRJRVMgT1IgQ09ORElUSU9OUyBPRiBBTlkgS0lORCwgZWl0aGVyIGV4cHJlc3Mgb3IgaW1wbGllZC4KLy8gU2VlIHRoZSBMaWNlbnNlIGZvciB0aGUgc3BlY2lmaWMgbGFuZ3VhZ2UgZ292ZXJuaW5nIHBlcm1pc3Npb25zIGFuZAovLyBsaW1pdGF0aW9ucyB1bmRlciB0aGUgTGljZW5zZS4KCi8qKgogKiBAZmlsZW92ZXJ2aWV3IEhlbHBlcnMgZm9yIGdvb2dsZS5jb2xhYiBQeXRob24gbW9kdWxlLgogKi8KKGZ1bmN0aW9uKHNjb3BlKSB7CmZ1bmN0aW9uIHNwYW4odGV4dCwgc3R5bGVBdHRyaWJ1dGVzID0ge30pIHsKICBjb25zdCBlbGVtZW50ID0gZG9jdW1lbnQuY3JlYXRlRWxlbWVudCgnc3BhbicpOwogIGVsZW1lbnQudGV4dENvbnRlbnQgPSB0ZXh0OwogIGZvciAoY29uc3Qga2V5IG9mIE9iamVjdC5rZXlzKHN0eWxlQXR0cmlidXRlcykpIHsKICAgIGVsZW1lbnQuc3R5bGVba2V5XSA9IHN0eWxlQXR0cmlidXRlc1trZXldOwogIH0KICByZXR1cm4gZWxlbWVudDsKfQoKLy8gTWF4IG51bWJlciBvZiBieXRlcyB3aGljaCB3aWxsIGJlIHVwbG9hZGVkIGF0IGEgdGltZS4KY29uc3QgTUFYX1BBWUxPQURfU0laRSA9IDEwMCAqIDEwMjQ7CgpmdW5jdGlvbiBfdXBsb2FkRmlsZXMoaW5wdXRJZCwgb3V0cHV0SWQpIHsKICBjb25zdCBzdGVwcyA9IHVwbG9hZEZpbGVzU3RlcChpbnB1dElkLCBvdXRwdXRJZCk7CiAgY29uc3Qgb3V0cHV0RWxlbWVudCA9IGRvY3VtZW50LmdldEVsZW1lbnRCeUlkKG91dHB1dElkKTsKICAvLyBDYWNoZSBzdGVwcyBvbiB0aGUgb3V0cHV0RWxlbWVudCB0byBtYWtlIGl0IGF2YWlsYWJsZSBmb3IgdGhlIG5leHQgY2FsbAogIC8vIHRvIHVwbG9hZEZpbGVzQ29udGludWUgZnJvbSBQeXRob24uCiAgb3V0cHV0RWxlbWVudC5zdGVwcyA9IHN0ZXBzOwoKICByZXR1cm4gX3VwbG9hZEZpbGVzQ29udGludWUob3V0cHV0SWQpOwp9CgovLyBUaGlzIGlzIHJvdWdobHkgYW4gYXN5bmMgZ2VuZXJhdG9yIChub3Qgc3VwcG9ydGVkIGluIHRoZSBicm93c2VyIHlldCksCi8vIHdoZXJlIHRoZXJlIGFyZSBtdWx0aXBsZSBhc3luY2hyb25vdXMgc3RlcHMgYW5kIHRoZSBQeXRob24gc2lkZSBpcyBnb2luZwovLyB0byBwb2xsIGZvciBjb21wbGV0aW9uIG9mIGVhY2ggc3RlcC4KLy8gVGhpcyB1c2VzIGEgUHJvbWlzZSB0byBibG9jayB0aGUgcHl0aG9uIHNpZGUgb24gY29tcGxldGlvbiBvZiBlYWNoIHN0ZXAsCi8vIHRoZW4gcGFzc2VzIHRoZSByZXN1bHQgb2YgdGhlIHByZXZpb3VzIHN0ZXAgYXMgdGhlIGlucHV0IHRvIHRoZSBuZXh0IHN0ZXAuCmZ1bmN0aW9uIF91cGxvYWRGaWxlc0NvbnRpbnVlKG91dHB1dElkKSB7CiAgY29uc3Qgb3V0cHV0RWxlbWVudCA9IGRvY3VtZW50LmdldEVsZW1lbnRCeUlkKG91dHB1dElkKTsKICBjb25zdCBzdGVwcyA9IG91dHB1dEVsZW1lbnQuc3RlcHM7CgogIGNvbnN0IG5leHQgPSBzdGVwcy5uZXh0KG91dHB1dEVsZW1lbnQubGFzdFByb21pc2VWYWx1ZSk7CiAgcmV0dXJuIFByb21pc2UucmVzb2x2ZShuZXh0LnZhbHVlLnByb21pc2UpLnRoZW4oKHZhbHVlKSA9PiB7CiAgICAvLyBDYWNoZSB0aGUgbGFzdCBwcm9taXNlIHZhbHVlIHRvIG1ha2UgaXQgYXZhaWxhYmxlIHRvIHRoZSBuZXh0CiAgICAvLyBzdGVwIG9mIHRoZSBnZW5lcmF0b3IuCiAgICBvdXRwdXRFbGVtZW50Lmxhc3RQcm9taXNlVmFsdWUgPSB2YWx1ZTsKICAgIHJldHVybiBuZXh0LnZhbHVlLnJlc3BvbnNlOwogIH0pOwp9CgovKioKICogR2VuZXJhdG9yIGZ1bmN0aW9uIHdoaWNoIGlzIGNhbGxlZCBiZXR3ZWVuIGVhY2ggYXN5bmMgc3RlcCBvZiB0aGUgdXBsb2FkCiAqIHByb2Nlc3MuCiAqIEBwYXJhbSB7c3RyaW5nfSBpbnB1dElkIEVsZW1lbnQgSUQgb2YgdGhlIGlucHV0IGZpbGUgcGlja2VyIGVsZW1lbnQuCiAqIEBwYXJhbSB7c3RyaW5nfSBvdXRwdXRJZCBFbGVtZW50IElEIG9mIHRoZSBvdXRwdXQgZGlzcGxheS4KICogQHJldHVybiB7IUl0ZXJhYmxlPCFPYmplY3Q+fSBJdGVyYWJsZSBvZiBuZXh0IHN0ZXBzLgogKi8KZnVuY3Rpb24qIHVwbG9hZEZpbGVzU3RlcChpbnB1dElkLCBvdXRwdXRJZCkgewogIGNvbnN0IGlucHV0RWxlbWVudCA9IGRvY3VtZW50LmdldEVsZW1lbnRCeUlkKGlucHV0SWQpOwogIGlucHV0RWxlbWVudC5kaXNhYmxlZCA9IGZhbHNlOwoKICBjb25zdCBvdXRwdXRFbGVtZW50ID0gZG9jdW1lbnQuZ2V0RWxlbWVudEJ5SWQob3V0cHV0SWQpOwogIG91dHB1dEVsZW1lbnQuaW5uZXJIVE1MID0gJyc7CgogIGNvbnN0IHBpY2tlZFByb21pc2UgPSBuZXcgUHJvbWlzZSgocmVzb2x2ZSkgPT4gewogICAgaW5wdXRFbGVtZW50LmFkZEV2ZW50TGlzdGVuZXIoJ2NoYW5nZScsIChlKSA9PiB7CiAgICAgIHJlc29sdmUoZS50YXJnZXQuZmlsZXMpOwogICAgfSk7CiAgfSk7CgogIGNvbnN0IGNhbmNlbCA9IGRvY3VtZW50LmNyZWF0ZUVsZW1lbnQoJ2J1dHRvbicpOwogIGlucHV0RWxlbWVudC5wYXJlbnRFbGVtZW50LmFwcGVuZENoaWxkKGNhbmNlbCk7CiAgY2FuY2VsLnRleHRDb250ZW50ID0gJ0NhbmNlbCB1cGxvYWQnOwogIGNvbnN0IGNhbmNlbFByb21pc2UgPSBuZXcgUHJvbWlzZSgocmVzb2x2ZSkgPT4gewogICAgY2FuY2VsLm9uY2xpY2sgPSAoKSA9PiB7CiAgICAgIHJlc29sdmUobnVsbCk7CiAgICB9OwogIH0pOwoKICAvLyBXYWl0IGZvciB0aGUgdXNlciB0byBwaWNrIHRoZSBmaWxlcy4KICBjb25zdCBmaWxlcyA9IHlpZWxkIHsKICAgIHByb21pc2U6IFByb21pc2UucmFjZShbcGlja2VkUHJvbWlzZSwgY2FuY2VsUHJvbWlzZV0pLAogICAgcmVzcG9uc2U6IHsKICAgICAgYWN0aW9uOiAnc3RhcnRpbmcnLAogICAgfQogIH07CgogIGNhbmNlbC5yZW1vdmUoKTsKCiAgLy8gRGlzYWJsZSB0aGUgaW5wdXQgZWxlbWVudCBzaW5jZSBmdXJ0aGVyIHBpY2tzIGFyZSBub3QgYWxsb3dlZC4KICBpbnB1dEVsZW1lbnQuZGlzYWJsZWQgPSB0cnVlOwoKICBpZiAoIWZpbGVzKSB7CiAgICByZXR1cm4gewogICAgICByZXNwb25zZTogewogICAgICAgIGFjdGlvbjogJ2NvbXBsZXRlJywKICAgICAgfQogICAgfTsKICB9CgogIGZvciAoY29uc3QgZmlsZSBvZiBmaWxlcykgewogICAgY29uc3QgbGkgPSBkb2N1bWVudC5jcmVhdGVFbGVtZW50KCdsaScpOwogICAgbGkuYXBwZW5kKHNwYW4oZmlsZS5uYW1lLCB7Zm9udFdlaWdodDogJ2JvbGQnfSkpOwogICAgbGkuYXBwZW5kKHNwYW4oCiAgICAgICAgYCgke2ZpbGUudHlwZSB8fCAnbi9hJ30pIC0gJHtmaWxlLnNpemV9IGJ5dGVzLCBgICsKICAgICAgICBgbGFzdCBtb2RpZmllZDogJHsKICAgICAgICAgICAgZmlsZS5sYXN0TW9kaWZpZWREYXRlID8gZmlsZS5sYXN0TW9kaWZpZWREYXRlLnRvTG9jYWxlRGF0ZVN0cmluZygpIDoKICAgICAgICAgICAgICAgICAgICAgICAgICAgICAgICAgICAgJ24vYSd9IC0gYCkpOwogICAgY29uc3QgcGVyY2VudCA9IHNwYW4oJzAlIGRvbmUnKTsKICAgIGxpLmFwcGVuZENoaWxkKHBlcmNlbnQpOwoKICAgIG91dHB1dEVsZW1lbnQuYXBwZW5kQ2hpbGQobGkpOwoKICAgIGNvbnN0IGZpbGVEYXRhUHJvbWlzZSA9IG5ldyBQcm9taXNlKChyZXNvbHZlKSA9PiB7CiAgICAgIGNvbnN0IHJlYWRlciA9IG5ldyBGaWxlUmVhZGVyKCk7CiAgICAgIHJlYWRlci5vbmxvYWQgPSAoZSkgPT4gewogICAgICAgIHJlc29sdmUoZS50YXJnZXQucmVzdWx0KTsKICAgICAgfTsKICAgICAgcmVhZGVyLnJlYWRBc0FycmF5QnVmZmVyKGZpbGUpOwogICAgfSk7CiAgICAvLyBXYWl0IGZvciB0aGUgZGF0YSB0byBiZSByZWFkeS4KICAgIGxldCBmaWxlRGF0YSA9IHlpZWxkIHsKICAgICAgcHJvbWlzZTogZmlsZURhdGFQcm9taXNlLAogICAgICByZXNwb25zZTogewogICAgICAgIGFjdGlvbjogJ2NvbnRpbnVlJywKICAgICAgfQogICAgfTsKCiAgICAvLyBVc2UgYSBjaHVua2VkIHNlbmRpbmcgdG8gYXZvaWQgbWVzc2FnZSBzaXplIGxpbWl0cy4gU2VlIGIvNjIxMTU2NjAuCiAgICBsZXQgcG9zaXRpb24gPSAwOwogICAgZG8gewogICAgICBjb25zdCBsZW5ndGggPSBNYXRoLm1pbihmaWxlRGF0YS5ieXRlTGVuZ3RoIC0gcG9zaXRpb24sIE1BWF9QQVlMT0FEX1NJWkUpOwogICAgICBjb25zdCBjaHVuayA9IG5ldyBVaW50OEFycmF5KGZpbGVEYXRhLCBwb3NpdGlvbiwgbGVuZ3RoKTsKICAgICAgcG9zaXRpb24gKz0gbGVuZ3RoOwoKICAgICAgY29uc3QgYmFzZTY0ID0gYnRvYShTdHJpbmcuZnJvbUNoYXJDb2RlLmFwcGx5KG51bGwsIGNodW5rKSk7CiAgICAgIHlpZWxkIHsKICAgICAgICByZXNwb25zZTogewogICAgICAgICAgYWN0aW9uOiAnYXBwZW5kJywKICAgICAgICAgIGZpbGU6IGZpbGUubmFtZSwKICAgICAgICAgIGRhdGE6IGJhc2U2NCwKICAgICAgICB9LAogICAgICB9OwoKICAgICAgbGV0IHBlcmNlbnREb25lID0gZmlsZURhdGEuYnl0ZUxlbmd0aCA9PT0gMCA/CiAgICAgICAgICAxMDAgOgogICAgICAgICAgTWF0aC5yb3VuZCgocG9zaXRpb24gLyBmaWxlRGF0YS5ieXRlTGVuZ3RoKSAqIDEwMCk7CiAgICAgIHBlcmNlbnQudGV4dENvbnRlbnQgPSBgJHtwZXJjZW50RG9uZX0lIGRvbmVgOwoKICAgIH0gd2hpbGUgKHBvc2l0aW9uIDwgZmlsZURhdGEuYnl0ZUxlbmd0aCk7CiAgfQoKICAvLyBBbGwgZG9uZS4KICB5aWVsZCB7CiAgICByZXNwb25zZTogewogICAgICBhY3Rpb246ICdjb21wbGV0ZScsCiAgICB9CiAgfTsKfQoKc2NvcGUuZ29vZ2xlID0gc2NvcGUuZ29vZ2xlIHx8IHt9OwpzY29wZS5nb29nbGUuY29sYWIgPSBzY29wZS5nb29nbGUuY29sYWIgfHwge307CnNjb3BlLmdvb2dsZS5jb2xhYi5fZmlsZXMgPSB7CiAgX3VwbG9hZEZpbGVzLAogIF91cGxvYWRGaWxlc0NvbnRpbnVlLAp9Owp9KShzZWxmKTsK",
              "ok": true,
              "headers": [
                [
                  "content-type",
                  "application/javascript"
                ]
              ],
              "status": 200,
              "status_text": ""
            }
          },
          "base_uri": "https://localhost:8080/",
          "height": 92
        },
        "id": "9BmTXIkcjlyD",
        "outputId": "25d9e440-6d22-4c11-a629-096738f0196c"
      },
      "execution_count": null,
      "outputs": [
        {
          "output_type": "display_data",
          "data": {
            "text/html": [
              "\n",
              "     <input type=\"file\" id=\"files-300a882b-315f-4943-9d05-4cc1402af077\" name=\"files[]\" multiple disabled\n",
              "        style=\"border:none\" />\n",
              "     <output id=\"result-300a882b-315f-4943-9d05-4cc1402af077\">\n",
              "      Upload widget is only available when the cell has been executed in the\n",
              "      current browser session. Please rerun this cell to enable.\n",
              "      </output>\n",
              "      <script src=\"/nbextensions/google.colab/files.js\"></script> "
            ],
            "text/plain": [
              "<IPython.core.display.HTML object>"
            ]
          },
          "metadata": {}
        },
        {
          "output_type": "stream",
          "name": "stdout",
          "text": [
            "Saving OD.v2-v2.voc.zip to OD.v2-v2.voc.zip\n",
            "User uploaded file \"OD.v2-v2.voc.zip\" with length 3535567 bytes\n"
          ]
        }
      ]
    },
    {
      "cell_type": "code",
      "source": [
        "!unzip \"/content/Brain_Tumor_detection/OD.v2-v2.voc.zip\" -d \"/content/Brain_Tumor_detection\""
      ],
      "metadata": {
        "colab": {
          "base_uri": "https://localhost:8080/"
        },
        "collapsed": true,
        "id": "SntZxgXIB3k2",
        "outputId": "b9870f4c-ac28-4f7b-84e8-6f3b7dafd7b8"
      },
      "execution_count": null,
      "outputs": [
        {
          "output_type": "stream",
          "name": "stdout",
          "text": [
            "Archive:  /content/Brain_Tumor_detection/OD.v2-v2.voc.zip\n",
            " extracting: /content/Brain_Tumor_detection/README.dataset.txt  \n",
            " extracting: /content/Brain_Tumor_detection/README.roboflow.txt  \n",
            "   creating: /content/Brain_Tumor_detection/test/\n",
            " extracting: /content/Brain_Tumor_detection/test/00018_101_jpg.rf.1dd2a7906775439da0ff17fe11cd0959.jpg  \n",
            " extracting: /content/Brain_Tumor_detection/test/00018_101_jpg.rf.1dd2a7906775439da0ff17fe11cd0959.xml  \n",
            " extracting: /content/Brain_Tumor_detection/test/00018_109_jpg.rf.b755db4d4ab45ccd167e3f0beb633c50.jpg  \n",
            " extracting: /content/Brain_Tumor_detection/test/00018_109_jpg.rf.b755db4d4ab45ccd167e3f0beb633c50.xml  \n",
            " extracting: /content/Brain_Tumor_detection/test/00018_111_jpg.rf.37f1da86cb607c0302e3cfbc565e4bac.jpg  \n",
            " extracting: /content/Brain_Tumor_detection/test/00018_111_jpg.rf.37f1da86cb607c0302e3cfbc565e4bac.xml  \n",
            " extracting: /content/Brain_Tumor_detection/test/00018_117_jpg.rf.200ce5cfc563fb4958bbc4346e58f7c4.jpg  \n",
            " extracting: /content/Brain_Tumor_detection/test/00018_117_jpg.rf.200ce5cfc563fb4958bbc4346e58f7c4.xml  \n",
            " extracting: /content/Brain_Tumor_detection/test/00018_121_jpg.rf.5fcd98aabe169d8a0a8aedc43064634d.jpg  \n",
            " extracting: /content/Brain_Tumor_detection/test/00018_121_jpg.rf.5fcd98aabe169d8a0a8aedc43064634d.xml  \n",
            " extracting: /content/Brain_Tumor_detection/test/00018_126_jpg.rf.b2dcf481fef357f3be3b6638568b5fec.jpg  \n",
            " extracting: /content/Brain_Tumor_detection/test/00018_126_jpg.rf.b2dcf481fef357f3be3b6638568b5fec.xml  \n",
            " extracting: /content/Brain_Tumor_detection/test/00018_134_jpg.rf.144b06f63d99a258d1d05cba195cfbf6.jpg  \n",
            " extracting: /content/Brain_Tumor_detection/test/00018_134_jpg.rf.144b06f63d99a258d1d05cba195cfbf6.xml  \n",
            " extracting: /content/Brain_Tumor_detection/test/00019_66_jpg.rf.6d9e67bff0c979a1bd8433595ba9dadb.jpg  \n",
            " extracting: /content/Brain_Tumor_detection/test/00019_66_jpg.rf.6d9e67bff0c979a1bd8433595ba9dadb.xml  \n",
            " extracting: /content/Brain_Tumor_detection/test/00019_75_jpg.rf.50a1f079bc61d14abe6313aaa2225d4b.jpg  \n",
            " extracting: /content/Brain_Tumor_detection/test/00019_75_jpg.rf.50a1f079bc61d14abe6313aaa2225d4b.xml  \n",
            " extracting: /content/Brain_Tumor_detection/test/00019_84_jpg.rf.b460569614a0eea2f829baf8d4ae40ed.jpg  \n",
            " extracting: /content/Brain_Tumor_detection/test/00019_84_jpg.rf.b460569614a0eea2f829baf8d4ae40ed.xml  \n",
            " extracting: /content/Brain_Tumor_detection/test/00019_85_jpg.rf.a1f04155399bbd407bab80bf7c702ced.jpg  \n",
            " extracting: /content/Brain_Tumor_detection/test/00019_85_jpg.rf.a1f04155399bbd407bab80bf7c702ced.xml  \n",
            " extracting: /content/Brain_Tumor_detection/test/00021_53_jpg.rf.1d5ee24a315a27e13196bc90ad653f09.jpg  \n",
            " extracting: /content/Brain_Tumor_detection/test/00021_53_jpg.rf.1d5ee24a315a27e13196bc90ad653f09.xml  \n",
            " extracting: /content/Brain_Tumor_detection/test/00022_73_jpg.rf.47d0545c9d1bfa3e1d2b70f5a9fae4ca.jpg  \n",
            " extracting: /content/Brain_Tumor_detection/test/00022_73_jpg.rf.47d0545c9d1bfa3e1d2b70f5a9fae4ca.xml  \n",
            " extracting: /content/Brain_Tumor_detection/test/00022_75_jpg.rf.3c1cbc18823f5f80e86b88a4ae45ac4d.jpg  \n",
            " extracting: /content/Brain_Tumor_detection/test/00022_75_jpg.rf.3c1cbc18823f5f80e86b88a4ae45ac4d.xml  \n",
            " extracting: /content/Brain_Tumor_detection/test/00022_77_jpg.rf.b278d702712eca1d26c2708d948c9e9a.jpg  \n",
            " extracting: /content/Brain_Tumor_detection/test/00022_77_jpg.rf.b278d702712eca1d26c2708d948c9e9a.xml  \n",
            " extracting: /content/Brain_Tumor_detection/test/00022_79_jpg.rf.1374e57ea57a086d4ca34aa077b4d85a.jpg  \n",
            " extracting: /content/Brain_Tumor_detection/test/00022_79_jpg.rf.1374e57ea57a086d4ca34aa077b4d85a.xml  \n",
            " extracting: /content/Brain_Tumor_detection/test/00022_81_jpg.rf.f7e843f569feb08c0ff4c4a775317104.jpg  \n",
            " extracting: /content/Brain_Tumor_detection/test/00022_81_jpg.rf.f7e843f569feb08c0ff4c4a775317104.xml  \n",
            " extracting: /content/Brain_Tumor_detection/test/00022_83_jpg.rf.a61db867a70338a89bee7e8b57e64c43.jpg  \n",
            " extracting: /content/Brain_Tumor_detection/test/00022_83_jpg.rf.a61db867a70338a89bee7e8b57e64c43.xml  \n",
            " extracting: /content/Brain_Tumor_detection/test/00022_85_jpg.rf.e414e77675cf8b9b5eadbf43105ff561.jpg  \n",
            " extracting: /content/Brain_Tumor_detection/test/00022_85_jpg.rf.e414e77675cf8b9b5eadbf43105ff561.xml  \n",
            " extracting: /content/Brain_Tumor_detection/test/00022_86_jpg.rf.b10880edd9c5a44809e03b65b3175bc4.jpg  \n",
            " extracting: /content/Brain_Tumor_detection/test/00022_86_jpg.rf.b10880edd9c5a44809e03b65b3175bc4.xml  \n",
            " extracting: /content/Brain_Tumor_detection/test/00022_87_jpg.rf.d8d65d30d5cb49b0b24a747e7f2d614c.jpg  \n",
            " extracting: /content/Brain_Tumor_detection/test/00022_87_jpg.rf.d8d65d30d5cb49b0b24a747e7f2d614c.xml  \n",
            " extracting: /content/Brain_Tumor_detection/test/00022_88_jpg.rf.e211ccc9b8c3e8b649f651d7009bfc4a.jpg  \n",
            " extracting: /content/Brain_Tumor_detection/test/00022_88_jpg.rf.e211ccc9b8c3e8b649f651d7009bfc4a.xml  \n",
            " extracting: /content/Brain_Tumor_detection/test/00044_101_jpg.rf.277a57003a0931bd4755fdb8d707ffc2.jpg  \n",
            " extracting: /content/Brain_Tumor_detection/test/00044_101_jpg.rf.277a57003a0931bd4755fdb8d707ffc2.xml  \n",
            " extracting: /content/Brain_Tumor_detection/test/00044_109_jpg.rf.a20b8cc5adb76f0b6fef31d93f6fb3be.jpg  \n",
            " extracting: /content/Brain_Tumor_detection/test/00044_109_jpg.rf.a20b8cc5adb76f0b6fef31d93f6fb3be.xml  \n",
            " extracting: /content/Brain_Tumor_detection/test/00044_111_jpg.rf.3fc3aee47f5f9051f451a73530f89201.jpg  \n",
            " extracting: /content/Brain_Tumor_detection/test/00044_111_jpg.rf.3fc3aee47f5f9051f451a73530f89201.xml  \n",
            " extracting: /content/Brain_Tumor_detection/test/00044_118_jpg.rf.a00249a688b81793c8b4bac1aee05e47.jpg  \n",
            " extracting: /content/Brain_Tumor_detection/test/00044_118_jpg.rf.a00249a688b81793c8b4bac1aee05e47.xml  \n",
            " extracting: /content/Brain_Tumor_detection/test/00045_118_jpg.rf.95d8b713df06d8321d308c129773cb02.jpg  \n",
            " extracting: /content/Brain_Tumor_detection/test/00045_118_jpg.rf.95d8b713df06d8321d308c129773cb02.xml  \n",
            " extracting: /content/Brain_Tumor_detection/test/00045_127_jpg.rf.146c6e8b962daa620c28f644da66f39f.jpg  \n",
            " extracting: /content/Brain_Tumor_detection/test/00045_127_jpg.rf.146c6e8b962daa620c28f644da66f39f.xml  \n",
            " extracting: /content/Brain_Tumor_detection/test/00045_136_jpg.rf.6f043f251df5351468f0f99de5c5ca16.jpg  \n",
            " extracting: /content/Brain_Tumor_detection/test/00045_136_jpg.rf.6f043f251df5351468f0f99de5c5ca16.xml  \n",
            " extracting: /content/Brain_Tumor_detection/test/00053_207_jpg.rf.37a8959ccb4652fd0db0871f6aef8cc4.jpg  \n",
            " extracting: /content/Brain_Tumor_detection/test/00053_207_jpg.rf.37a8959ccb4652fd0db0871f6aef8cc4.xml  \n",
            " extracting: /content/Brain_Tumor_detection/test/00053_221_jpg.rf.658d03ddbd28562a798dd476fd03cde5.jpg  \n",
            " extracting: /content/Brain_Tumor_detection/test/00053_221_jpg.rf.658d03ddbd28562a798dd476fd03cde5.xml  \n",
            " extracting: /content/Brain_Tumor_detection/test/00053_235_jpg.rf.cc7a703e307d75e1a260695eee5b1ca0.jpg  \n",
            " extracting: /content/Brain_Tumor_detection/test/00053_235_jpg.rf.cc7a703e307d75e1a260695eee5b1ca0.xml  \n",
            " extracting: /content/Brain_Tumor_detection/test/00053_237_jpg.rf.f3d513c53b195983c48782aaa7ddfb6c.jpg  \n",
            " extracting: /content/Brain_Tumor_detection/test/00053_237_jpg.rf.f3d513c53b195983c48782aaa7ddfb6c.xml  \n",
            " extracting: /content/Brain_Tumor_detection/test/00053_249_jpg.rf.7df1ec340cd56b01db0b8a2c8ab2f031.jpg  \n",
            " extracting: /content/Brain_Tumor_detection/test/00053_249_jpg.rf.7df1ec340cd56b01db0b8a2c8ab2f031.xml  \n",
            " extracting: /content/Brain_Tumor_detection/test/00053_253_jpg.rf.bcf0aab8a4d57dd08d8220c69bdc2ea6.jpg  \n",
            " extracting: /content/Brain_Tumor_detection/test/00053_253_jpg.rf.bcf0aab8a4d57dd08d8220c69bdc2ea6.xml  \n",
            " extracting: /content/Brain_Tumor_detection/test/00053_263_jpg.rf.52e3cb27f0a8b0ecab4d9901edc1958d.jpg  \n",
            " extracting: /content/Brain_Tumor_detection/test/00053_263_jpg.rf.52e3cb27f0a8b0ecab4d9901edc1958d.xml  \n",
            " extracting: /content/Brain_Tumor_detection/test/00053_269_jpg.rf.099286d388d2cb12fb49aabdcdd3b48a.jpg  \n",
            " extracting: /content/Brain_Tumor_detection/test/00053_269_jpg.rf.099286d388d2cb12fb49aabdcdd3b48a.xml  \n",
            " extracting: /content/Brain_Tumor_detection/test/00053_277_jpg.rf.82a44680d560c1d142b6b2dcaa4b833f.jpg  \n",
            " extracting: /content/Brain_Tumor_detection/test/00053_277_jpg.rf.82a44680d560c1d142b6b2dcaa4b833f.xml  \n",
            " extracting: /content/Brain_Tumor_detection/test/00061_172_jpg.rf.d3dbd71ce695e654b56c935a630dd564.jpg  \n",
            " extracting: /content/Brain_Tumor_detection/test/00061_172_jpg.rf.d3dbd71ce695e654b56c935a630dd564.xml  \n",
            " extracting: /content/Brain_Tumor_detection/test/00061_178_jpg.rf.2190c9bff1232d19fdda7f4bb6a0adb4.jpg  \n",
            " extracting: /content/Brain_Tumor_detection/test/00061_178_jpg.rf.2190c9bff1232d19fdda7f4bb6a0adb4.xml  \n",
            " extracting: /content/Brain_Tumor_detection/test/00064_158_jpg.rf.226d537b985c5528f62417ab0300eac3.jpg  \n",
            " extracting: /content/Brain_Tumor_detection/test/00064_158_jpg.rf.226d537b985c5528f62417ab0300eac3.xml  \n",
            " extracting: /content/Brain_Tumor_detection/test/00064_170_jpg.rf.171fdbe744395e359b299709d540352a.jpg  \n",
            " extracting: /content/Brain_Tumor_detection/test/00064_170_jpg.rf.171fdbe744395e359b299709d540352a.xml  \n",
            " extracting: /content/Brain_Tumor_detection/test/00064_209_jpg.rf.ce5b20af29766811a65fa78376ff8ac0.jpg  \n",
            " extracting: /content/Brain_Tumor_detection/test/00064_209_jpg.rf.ce5b20af29766811a65fa78376ff8ac0.xml  \n",
            " extracting: /content/Brain_Tumor_detection/test/00064_220_jpg.rf.8125b772d1018a7a3b5acc2aa39dca5c.jpg  \n",
            " extracting: /content/Brain_Tumor_detection/test/00064_220_jpg.rf.8125b772d1018a7a3b5acc2aa39dca5c.xml  \n",
            " extracting: /content/Brain_Tumor_detection/test/00072_66_jpg.rf.777046e4608d2f1c172af588a19b5a80.jpg  \n",
            " extracting: /content/Brain_Tumor_detection/test/00072_66_jpg.rf.777046e4608d2f1c172af588a19b5a80.xml  \n",
            " extracting: /content/Brain_Tumor_detection/test/00072_73_jpg.rf.d4552ee2773de880d77fb1e7f568aba4.jpg  \n",
            " extracting: /content/Brain_Tumor_detection/test/00072_73_jpg.rf.d4552ee2773de880d77fb1e7f568aba4.xml  \n",
            " extracting: /content/Brain_Tumor_detection/test/00072_76_jpg.rf.04c6e1e64f5519fac1877342d743e71c.jpg  \n",
            " extracting: /content/Brain_Tumor_detection/test/00072_76_jpg.rf.04c6e1e64f5519fac1877342d743e71c.xml  \n",
            " extracting: /content/Brain_Tumor_detection/test/00072_77_jpg.rf.1f2806a3bcc2bf65741586106aa44052.jpg  \n",
            " extracting: /content/Brain_Tumor_detection/test/00072_77_jpg.rf.1f2806a3bcc2bf65741586106aa44052.xml  \n",
            " extracting: /content/Brain_Tumor_detection/test/00072_80_jpg.rf.3792277ac86d63762001301ccac71284.jpg  \n",
            " extracting: /content/Brain_Tumor_detection/test/00072_80_jpg.rf.3792277ac86d63762001301ccac71284.xml  \n",
            " extracting: /content/Brain_Tumor_detection/test/00072_81_jpg.rf.b6cf68d1a019f1680f5d818a76a53bc3.jpg  \n",
            " extracting: /content/Brain_Tumor_detection/test/00072_81_jpg.rf.b6cf68d1a019f1680f5d818a76a53bc3.xml  \n",
            " extracting: /content/Brain_Tumor_detection/test/00081_107_jpg.rf.32ece3fbe26c87a426c0505ab836cbc2.jpg  \n",
            " extracting: /content/Brain_Tumor_detection/test/00081_107_jpg.rf.32ece3fbe26c87a426c0505ab836cbc2.xml  \n",
            " extracting: /content/Brain_Tumor_detection/test/00081_80_jpg.rf.4e85c5f619a331ef965c40012bac5a88.jpg  \n",
            " extracting: /content/Brain_Tumor_detection/test/00081_80_jpg.rf.4e85c5f619a331ef965c40012bac5a88.xml  \n",
            " extracting: /content/Brain_Tumor_detection/test/00081_89_jpg.rf.290da10880310e2d11cccaba66d4399b.jpg  \n",
            " extracting: /content/Brain_Tumor_detection/test/00081_89_jpg.rf.290da10880310e2d11cccaba66d4399b.xml  \n",
            " extracting: /content/Brain_Tumor_detection/test/00081_98_jpg.rf.ac63cefaf7d5cd9781da1e9aaa288a69.jpg  \n",
            " extracting: /content/Brain_Tumor_detection/test/00081_98_jpg.rf.ac63cefaf7d5cd9781da1e9aaa288a69.xml  \n",
            " extracting: /content/Brain_Tumor_detection/test/00084_123_jpg.rf.76e72637f22649e782d3d889e1b6db2a.jpg  \n",
            " extracting: /content/Brain_Tumor_detection/test/00084_123_jpg.rf.76e72637f22649e782d3d889e1b6db2a.xml  \n",
            " extracting: /content/Brain_Tumor_detection/test/00084_130_jpg.rf.e3945fd97acae79b8dc0bf14370dc9aa.jpg  \n",
            " extracting: /content/Brain_Tumor_detection/test/00084_130_jpg.rf.e3945fd97acae79b8dc0bf14370dc9aa.xml  \n",
            " extracting: /content/Brain_Tumor_detection/test/00084_137_jpg.rf.6701458c4733794167e6681915744432.jpg  \n",
            " extracting: /content/Brain_Tumor_detection/test/00084_137_jpg.rf.6701458c4733794167e6681915744432.xml  \n",
            " extracting: /content/Brain_Tumor_detection/test/00084_138_jpg.rf.2e66cce0d77f6499b903e72ab9ad09a7.jpg  \n",
            " extracting: /content/Brain_Tumor_detection/test/00084_138_jpg.rf.2e66cce0d77f6499b903e72ab9ad09a7.xml  \n",
            " extracting: /content/Brain_Tumor_detection/test/00084_145_jpg.rf.084731847798827d20575fb9bf938194.jpg  \n",
            " extracting: /content/Brain_Tumor_detection/test/00084_145_jpg.rf.084731847798827d20575fb9bf938194.xml  \n",
            " extracting: /content/Brain_Tumor_detection/test/00084_152_jpg.rf.b5488ab4fb4c4648ec8f4d7618cb096c.jpg  \n",
            " extracting: /content/Brain_Tumor_detection/test/00084_152_jpg.rf.b5488ab4fb4c4648ec8f4d7618cb096c.xml  \n",
            " extracting: /content/Brain_Tumor_detection/test/00084_156_jpg.rf.dfa5232df804636f193196b070b392da.jpg  \n",
            " extracting: /content/Brain_Tumor_detection/test/00084_156_jpg.rf.dfa5232df804636f193196b070b392da.xml  \n",
            " extracting: /content/Brain_Tumor_detection/test/00084_160_jpg.rf.790def267a1bad24cb3ace97a40ea3d5.jpg  \n",
            " extracting: /content/Brain_Tumor_detection/test/00084_160_jpg.rf.790def267a1bad24cb3ace97a40ea3d5.xml  \n",
            " extracting: /content/Brain_Tumor_detection/test/00088_108_jpg.rf.e28d3834d4e197323c02495540b32b23.jpg  \n",
            " extracting: /content/Brain_Tumor_detection/test/00088_108_jpg.rf.e28d3834d4e197323c02495540b32b23.xml  \n",
            " extracting: /content/Brain_Tumor_detection/test/00088_115_jpg.rf.2882a49a36345c1819b7b0788bc3e696.jpg  \n",
            " extracting: /content/Brain_Tumor_detection/test/00088_115_jpg.rf.2882a49a36345c1819b7b0788bc3e696.xml  \n",
            " extracting: /content/Brain_Tumor_detection/test/00088_122_jpg.rf.129bf26fa3d9c442bb30b5bbef8f59bf.jpg  \n",
            " extracting: /content/Brain_Tumor_detection/test/00088_122_jpg.rf.129bf26fa3d9c442bb30b5bbef8f59bf.xml  \n",
            " extracting: /content/Brain_Tumor_detection/test/00088_129_jpg.rf.5ff4bcaa9f5806ca6eaf4e7e90392d2f.jpg  \n",
            " extracting: /content/Brain_Tumor_detection/test/00088_129_jpg.rf.5ff4bcaa9f5806ca6eaf4e7e90392d2f.xml  \n",
            " extracting: /content/Brain_Tumor_detection/test/00088_136_jpg.rf.527cdcd48daf1f0f687cea7a4f5ac7b6.jpg  \n",
            " extracting: /content/Brain_Tumor_detection/test/00088_136_jpg.rf.527cdcd48daf1f0f687cea7a4f5ac7b6.xml  \n",
            " extracting: /content/Brain_Tumor_detection/test/00088_137_jpg.rf.cbfb1ab808bee8b2fa6de3ca2dfdf9e7.jpg  \n",
            " extracting: /content/Brain_Tumor_detection/test/00088_137_jpg.rf.cbfb1ab808bee8b2fa6de3ca2dfdf9e7.xml  \n",
            " extracting: /content/Brain_Tumor_detection/test/00088_143_jpg.rf.0cde609f80f7363f4cc7d7c7e2c5318c.jpg  \n",
            " extracting: /content/Brain_Tumor_detection/test/00088_143_jpg.rf.0cde609f80f7363f4cc7d7c7e2c5318c.xml  \n",
            " extracting: /content/Brain_Tumor_detection/test/00088_145_jpg.rf.6f5a6821117ce613918b2e4d5a86bee4.jpg  \n",
            " extracting: /content/Brain_Tumor_detection/test/00088_145_jpg.rf.6f5a6821117ce613918b2e4d5a86bee4.xml  \n",
            " extracting: /content/Brain_Tumor_detection/test/00088_150_jpg.rf.81f6568993a6460abc0d10b7ec43c1a2.jpg  \n",
            " extracting: /content/Brain_Tumor_detection/test/00088_150_jpg.rf.81f6568993a6460abc0d10b7ec43c1a2.xml  \n",
            " extracting: /content/Brain_Tumor_detection/test/00088_153_jpg.rf.de096fbe7e3a49344c6639398792656a.jpg  \n",
            " extracting: /content/Brain_Tumor_detection/test/00088_153_jpg.rf.de096fbe7e3a49344c6639398792656a.xml  \n",
            " extracting: /content/Brain_Tumor_detection/test/00090_157_jpg.rf.4f411cb94ad00d687d70bc6a22b0eea1.jpg  \n",
            " extracting: /content/Brain_Tumor_detection/test/00090_157_jpg.rf.4f411cb94ad00d687d70bc6a22b0eea1.xml  \n",
            " extracting: /content/Brain_Tumor_detection/test/00090_169_jpg.rf.dadc9b66dc09d9e463e07cb92fa4b0f6.jpg  \n",
            " extracting: /content/Brain_Tumor_detection/test/00090_169_jpg.rf.dadc9b66dc09d9e463e07cb92fa4b0f6.xml  \n",
            " extracting: /content/Brain_Tumor_detection/test/00090_181_jpg.rf.2b5f111ca853afd4461d1af5c2171686.jpg  \n",
            " extracting: /content/Brain_Tumor_detection/test/00090_181_jpg.rf.2b5f111ca853afd4461d1af5c2171686.xml  \n",
            "   creating: /content/Brain_Tumor_detection/train/\n",
            " extracting: /content/Brain_Tumor_detection/train/00095_170_jpg.rf.e671222ae6bb595d24e38b6687648059.jpg  \n",
            " extracting: /content/Brain_Tumor_detection/train/00095_170_jpg.rf.e671222ae6bb595d24e38b6687648059.xml  \n",
            " extracting: /content/Brain_Tumor_detection/train/00095_176_jpg.rf.6c3d433bae7256cb6b3da3774f5ed214.jpg  \n",
            " extracting: /content/Brain_Tumor_detection/train/00095_176_jpg.rf.6c3d433bae7256cb6b3da3774f5ed214.xml  \n",
            " extracting: /content/Brain_Tumor_detection/train/00095_188_jpg.rf.35af3c8e82fc5f1bf82813f53f76b60e.jpg  \n",
            " extracting: /content/Brain_Tumor_detection/train/00095_188_jpg.rf.35af3c8e82fc5f1bf82813f53f76b60e.xml  \n",
            " extracting: /content/Brain_Tumor_detection/train/00095_200_jpg.rf.0f4f2aac2467389da4ff1aa9f9c227d6.jpg  \n",
            " extracting: /content/Brain_Tumor_detection/train/00095_200_jpg.rf.0f4f2aac2467389da4ff1aa9f9c227d6.xml  \n",
            " extracting: /content/Brain_Tumor_detection/train/00095_212_jpg.rf.ec44a640db2301e8813553b43fc73e94.jpg  \n",
            " extracting: /content/Brain_Tumor_detection/train/00095_212_jpg.rf.ec44a640db2301e8813553b43fc73e94.xml  \n",
            " extracting: /content/Brain_Tumor_detection/train/00095_224_jpg.rf.d9751f71fcf4606358f51e97c6fbad6a.jpg  \n",
            " extracting: /content/Brain_Tumor_detection/train/00095_224_jpg.rf.d9751f71fcf4606358f51e97c6fbad6a.xml  \n",
            " extracting: /content/Brain_Tumor_detection/train/00095_226_jpg.rf.925abec90b1b58c39e78d2985c863e78.jpg  \n",
            " extracting: /content/Brain_Tumor_detection/train/00095_226_jpg.rf.925abec90b1b58c39e78d2985c863e78.xml  \n",
            " extracting: /content/Brain_Tumor_detection/train/00095_236_jpg.rf.8ce5922bccba697feb8690a58154616c.jpg  \n",
            " extracting: /content/Brain_Tumor_detection/train/00095_236_jpg.rf.8ce5922bccba697feb8690a58154616c.xml  \n",
            " extracting: /content/Brain_Tumor_detection/train/00097_65_jpg.rf.88a4c35f6a237abede496709cf7b37a3.jpg  \n",
            " extracting: /content/Brain_Tumor_detection/train/00097_65_jpg.rf.88a4c35f6a237abede496709cf7b37a3.xml  \n",
            " extracting: /content/Brain_Tumor_detection/train/00097_68_jpg.rf.b620dbd26181593daf23561938a11277.jpg  \n",
            " extracting: /content/Brain_Tumor_detection/train/00097_68_jpg.rf.b620dbd26181593daf23561938a11277.xml  \n",
            " extracting: /content/Brain_Tumor_detection/train/00097_70_jpg.rf.e0f5a0a84697443928ab915d36626865.jpg  \n",
            " extracting: /content/Brain_Tumor_detection/train/00097_70_jpg.rf.e0f5a0a84697443928ab915d36626865.xml  \n",
            " extracting: /content/Brain_Tumor_detection/train/00097_72_jpg.rf.f82f2e6da42ca1ddf87822d8db463ae5.jpg  \n",
            " extracting: /content/Brain_Tumor_detection/train/00097_72_jpg.rf.f82f2e6da42ca1ddf87822d8db463ae5.xml  \n",
            " extracting: /content/Brain_Tumor_detection/train/00097_74_jpg.rf.a1b3e216ea82bc59e7b46532916c94ee.jpg  \n",
            " extracting: /content/Brain_Tumor_detection/train/00097_74_jpg.rf.a1b3e216ea82bc59e7b46532916c94ee.xml  \n",
            " extracting: /content/Brain_Tumor_detection/train/00097_76_jpg.rf.de8879769c85a3c00d7b859fb534f966.jpg  \n",
            " extracting: /content/Brain_Tumor_detection/train/00097_76_jpg.rf.de8879769c85a3c00d7b859fb534f966.xml  \n",
            " extracting: /content/Brain_Tumor_detection/train/00097_77_jpg.rf.b0ef5ab8ba819275e7acba01a8cb4345.jpg  \n",
            " extracting: /content/Brain_Tumor_detection/train/00097_77_jpg.rf.b0ef5ab8ba819275e7acba01a8cb4345.xml  \n",
            " extracting: /content/Brain_Tumor_detection/train/00097_79_jpg.rf.c7947c2551583425258d95ae94892324.jpg  \n",
            " extracting: /content/Brain_Tumor_detection/train/00097_79_jpg.rf.c7947c2551583425258d95ae94892324.xml  \n",
            " extracting: /content/Brain_Tumor_detection/train/00097_80_jpg.rf.45cb2a19a0f41e120402c5f22d7530fe.jpg  \n",
            " extracting: /content/Brain_Tumor_detection/train/00097_80_jpg.rf.45cb2a19a0f41e120402c5f22d7530fe.xml  \n",
            " extracting: /content/Brain_Tumor_detection/train/00097_81_jpg.rf.a6f475c1c394ec35179ae356a2c2a9f8.jpg  \n",
            " extracting: /content/Brain_Tumor_detection/train/00097_81_jpg.rf.a6f475c1c394ec35179ae356a2c2a9f8.xml  \n",
            " extracting: /content/Brain_Tumor_detection/train/00097_83_jpg.rf.4f628c5406b8a9096c1441529c676233.jpg  \n",
            " extracting: /content/Brain_Tumor_detection/train/00097_83_jpg.rf.4f628c5406b8a9096c1441529c676233.xml  \n",
            " extracting: /content/Brain_Tumor_detection/train/00099_129_jpg.rf.2b79fd120b18a70832d0a2e1be32e932.jpg  \n",
            " extracting: /content/Brain_Tumor_detection/train/00099_129_jpg.rf.2b79fd120b18a70832d0a2e1be32e932.xml  \n",
            " extracting: /content/Brain_Tumor_detection/train/00099_130_jpg.rf.c776f9225f455abaf766586eb74a0e83.jpg  \n",
            " extracting: /content/Brain_Tumor_detection/train/00099_130_jpg.rf.c776f9225f455abaf766586eb74a0e83.xml  \n",
            " extracting: /content/Brain_Tumor_detection/train/00099_137_jpg.rf.9d8293b065e0b1e974cc0d11ea965b69.jpg  \n",
            " extracting: /content/Brain_Tumor_detection/train/00099_137_jpg.rf.9d8293b065e0b1e974cc0d11ea965b69.xml  \n",
            " extracting: /content/Brain_Tumor_detection/train/00099_139_jpg.rf.0e36f899eaf236d29ca5ec588e97adee.jpg  \n",
            " extracting: /content/Brain_Tumor_detection/train/00099_139_jpg.rf.0e36f899eaf236d29ca5ec588e97adee.xml  \n",
            " extracting: /content/Brain_Tumor_detection/train/00099_145_jpg.rf.93642e38500a51dadbac16bcd32b37ea.jpg  \n",
            " extracting: /content/Brain_Tumor_detection/train/00099_145_jpg.rf.93642e38500a51dadbac16bcd32b37ea.xml  \n",
            " extracting: /content/Brain_Tumor_detection/train/00099_149_jpg.rf.b5d85a311a5cc3fed10e7a9579e88675.jpg  \n",
            " extracting: /content/Brain_Tumor_detection/train/00099_149_jpg.rf.b5d85a311a5cc3fed10e7a9579e88675.xml  \n",
            " extracting: /content/Brain_Tumor_detection/train/00099_154_jpg.rf.0720c2f6af19d77cdc67dc40dd4cba82.jpg  \n",
            " extracting: /content/Brain_Tumor_detection/train/00099_154_jpg.rf.0720c2f6af19d77cdc67dc40dd4cba82.xml  \n",
            " extracting: /content/Brain_Tumor_detection/train/00104_14_jpg.rf.1debb12d03d6e758760af023c015cb2d.jpg  \n",
            " extracting: /content/Brain_Tumor_detection/train/00104_14_jpg.rf.1debb12d03d6e758760af023c015cb2d.xml  \n",
            " extracting: /content/Brain_Tumor_detection/train/00104_15_jpg.rf.4b24a82fcc1a414635910e21881d9ddc.jpg  \n",
            " extracting: /content/Brain_Tumor_detection/train/00104_15_jpg.rf.4b24a82fcc1a414635910e21881d9ddc.xml  \n",
            " extracting: /content/Brain_Tumor_detection/train/00104_16_jpg.rf.c554ccd845d468f4f1fa486fa93bd7b9.jpg  \n",
            " extracting: /content/Brain_Tumor_detection/train/00104_16_jpg.rf.c554ccd845d468f4f1fa486fa93bd7b9.xml  \n",
            " extracting: /content/Brain_Tumor_detection/train/00104_17_jpg.rf.090477a4a9691d45ee39667b2480a981.jpg  \n",
            " extracting: /content/Brain_Tumor_detection/train/00104_17_jpg.rf.090477a4a9691d45ee39667b2480a981.xml  \n",
            " extracting: /content/Brain_Tumor_detection/train/00104_18_jpg.rf.25dfc48c47b7a6a2294f2e77d7ed7885.jpg  \n",
            " extracting: /content/Brain_Tumor_detection/train/00104_18_jpg.rf.25dfc48c47b7a6a2294f2e77d7ed7885.xml  \n",
            " extracting: /content/Brain_Tumor_detection/train/00104_19_jpg.rf.dd3197ef42bf4d1ecc8a3f60acae5fae.jpg  \n",
            " extracting: /content/Brain_Tumor_detection/train/00104_19_jpg.rf.dd3197ef42bf4d1ecc8a3f60acae5fae.xml  \n",
            " extracting: /content/Brain_Tumor_detection/train/00111_110_jpg.rf.061d48e906e7579e2e34be683b97e8bc.jpg  \n",
            " extracting: /content/Brain_Tumor_detection/train/00111_110_jpg.rf.061d48e906e7579e2e34be683b97e8bc.xml  \n",
            " extracting: /content/Brain_Tumor_detection/train/00111_98_jpg.rf.e975cee8554d29801717997fba313233.jpg  \n",
            " extracting: /content/Brain_Tumor_detection/train/00111_98_jpg.rf.e975cee8554d29801717997fba313233.xml  \n",
            " extracting: /content/Brain_Tumor_detection/train/00112_10_jpg.rf.77dfd992cf7d25a2b7099938b835b52b.jpg  \n",
            " extracting: /content/Brain_Tumor_detection/train/00112_10_jpg.rf.77dfd992cf7d25a2b7099938b835b52b.xml  \n",
            " extracting: /content/Brain_Tumor_detection/train/00112_11_jpg.rf.33815e76256342d72a48c259fd5a9bb8.jpg  \n",
            " extracting: /content/Brain_Tumor_detection/train/00112_11_jpg.rf.33815e76256342d72a48c259fd5a9bb8.xml  \n",
            " extracting: /content/Brain_Tumor_detection/train/00112_12_jpg.rf.dae80e9009b158fa023f8cf2507cca83.jpg  \n",
            " extracting: /content/Brain_Tumor_detection/train/00112_12_jpg.rf.dae80e9009b158fa023f8cf2507cca83.xml  \n",
            " extracting: /content/Brain_Tumor_detection/train/00116_11_jpg.rf.fddd795a0395f254c3bad2ebbcec0f2c.jpg  \n",
            " extracting: /content/Brain_Tumor_detection/train/00116_11_jpg.rf.fddd795a0395f254c3bad2ebbcec0f2c.xml  \n",
            " extracting: /content/Brain_Tumor_detection/train/00116_12_jpg.rf.2a5589d7a1ed0c319815e412a1a78573.jpg  \n",
            " extracting: /content/Brain_Tumor_detection/train/00116_12_jpg.rf.2a5589d7a1ed0c319815e412a1a78573.xml  \n",
            " extracting: /content/Brain_Tumor_detection/train/00116_13_jpg.rf.91e577ea08e3d0a169ab1d0930a486f4.jpg  \n",
            " extracting: /content/Brain_Tumor_detection/train/00116_13_jpg.rf.91e577ea08e3d0a169ab1d0930a486f4.xml  \n",
            " extracting: /content/Brain_Tumor_detection/train/00116_14_jpg.rf.c4b21106d23199fe37100cb2beaae950.jpg  \n",
            " extracting: /content/Brain_Tumor_detection/train/00116_14_jpg.rf.c4b21106d23199fe37100cb2beaae950.xml  \n",
            " extracting: /content/Brain_Tumor_detection/train/00116_15_jpg.rf.748a50f769262bdc915285aecd1ba901.jpg  \n",
            " extracting: /content/Brain_Tumor_detection/train/00116_15_jpg.rf.748a50f769262bdc915285aecd1ba901.xml  \n",
            " extracting: /content/Brain_Tumor_detection/train/00116_16_jpg.rf.dfa6b7a8b520eb6093d647d1ed913e82.jpg  \n",
            " extracting: /content/Brain_Tumor_detection/train/00116_16_jpg.rf.dfa6b7a8b520eb6093d647d1ed913e82.xml  \n",
            " extracting: /content/Brain_Tumor_detection/train/00116_8_jpg.rf.f2fdfd7231d82ae266451749d9c20ac0.jpg  \n",
            " extracting: /content/Brain_Tumor_detection/train/00116_8_jpg.rf.f2fdfd7231d82ae266451749d9c20ac0.xml  \n",
            " extracting: /content/Brain_Tumor_detection/train/00116_9_jpg.rf.2b66b1696bdaac28455b34ffea6a7fde.jpg  \n",
            " extracting: /content/Brain_Tumor_detection/train/00116_9_jpg.rf.2b66b1696bdaac28455b34ffea6a7fde.xml  \n",
            " extracting: /content/Brain_Tumor_detection/train/00122_10_jpg.rf.da66c778c0a283a794c830c89a924add.jpg  \n",
            " extracting: /content/Brain_Tumor_detection/train/00122_10_jpg.rf.da66c778c0a283a794c830c89a924add.xml  \n",
            " extracting: /content/Brain_Tumor_detection/train/00122_11_jpg.rf.9c0aeb186a985d40a6179631f8fbf3ff.jpg  \n",
            " extracting: /content/Brain_Tumor_detection/train/00122_11_jpg.rf.9c0aeb186a985d40a6179631f8fbf3ff.xml  \n",
            " extracting: /content/Brain_Tumor_detection/train/00122_8_jpg.rf.753fd487e7503d9d2c0eef0ebc6212b7.jpg  \n",
            " extracting: /content/Brain_Tumor_detection/train/00122_8_jpg.rf.753fd487e7503d9d2c0eef0ebc6212b7.xml  \n",
            " extracting: /content/Brain_Tumor_detection/train/00122_9_jpg.rf.17f0e3d52dbae1eb5380ebd5bb5ddd1b.jpg  \n",
            " extracting: /content/Brain_Tumor_detection/train/00122_9_jpg.rf.17f0e3d52dbae1eb5380ebd5bb5ddd1b.xml  \n",
            " extracting: /content/Brain_Tumor_detection/train/00123_10_jpg.rf.ba1eb05ccf6c414197712c95856c6c69.jpg  \n",
            " extracting: /content/Brain_Tumor_detection/train/00123_10_jpg.rf.ba1eb05ccf6c414197712c95856c6c69.xml  \n",
            " extracting: /content/Brain_Tumor_detection/train/00123_11_jpg.rf.2bbd773fc55e3186b07de9d820ee4f3f.jpg  \n",
            " extracting: /content/Brain_Tumor_detection/train/00123_11_jpg.rf.2bbd773fc55e3186b07de9d820ee4f3f.xml  \n",
            " extracting: /content/Brain_Tumor_detection/train/00123_12_jpg.rf.0443f5b8992eb84722860734a3bf9ae0.jpg  \n",
            " extracting: /content/Brain_Tumor_detection/train/00123_12_jpg.rf.0443f5b8992eb84722860734a3bf9ae0.xml  \n",
            " extracting: /content/Brain_Tumor_detection/train/00123_13_jpg.rf.9c8f9d49bad3581b0924cec0efce210a.jpg  \n",
            " extracting: /content/Brain_Tumor_detection/train/00123_13_jpg.rf.9c8f9d49bad3581b0924cec0efce210a.xml  \n",
            " extracting: /content/Brain_Tumor_detection/train/00123_14_jpg.rf.052a4083b95df03be5d9916100f06858.jpg  \n",
            " extracting: /content/Brain_Tumor_detection/train/00123_14_jpg.rf.052a4083b95df03be5d9916100f06858.xml  \n",
            " extracting: /content/Brain_Tumor_detection/train/00123_15_jpg.rf.01879bc3ccd8ed8568532b9a307cc399.jpg  \n",
            " extracting: /content/Brain_Tumor_detection/train/00123_15_jpg.rf.01879bc3ccd8ed8568532b9a307cc399.xml  \n",
            " extracting: /content/Brain_Tumor_detection/train/00123_16_jpg.rf.0ad743eb86c901c5cbce1d745da2ab15.jpg  \n",
            " extracting: /content/Brain_Tumor_detection/train/00123_16_jpg.rf.0ad743eb86c901c5cbce1d745da2ab15.xml  \n",
            " extracting: /content/Brain_Tumor_detection/train/00124_10_jpg.rf.23204f5e0318cdec86a9c46e125e041d.jpg  \n",
            " extracting: /content/Brain_Tumor_detection/train/00124_10_jpg.rf.23204f5e0318cdec86a9c46e125e041d.xml  \n",
            " extracting: /content/Brain_Tumor_detection/train/00124_11_jpg.rf.71527ace17f31e036e53b2575c459769.jpg  \n",
            " extracting: /content/Brain_Tumor_detection/train/00124_11_jpg.rf.71527ace17f31e036e53b2575c459769.xml  \n",
            " extracting: /content/Brain_Tumor_detection/train/00124_12_jpg.rf.dbc1fb1f63184281408037d5d74cb6a9.jpg  \n",
            " extracting: /content/Brain_Tumor_detection/train/00124_12_jpg.rf.dbc1fb1f63184281408037d5d74cb6a9.xml  \n",
            " extracting: /content/Brain_Tumor_detection/train/00124_6_jpg.rf.c947f768f8b338e19511c14a29b3bb95.jpg  \n",
            " extracting: /content/Brain_Tumor_detection/train/00124_6_jpg.rf.c947f768f8b338e19511c14a29b3bb95.xml  \n",
            " extracting: /content/Brain_Tumor_detection/train/00124_7_jpg.rf.b52c5ee7474d74a94aad5d1c1ec514aa.jpg  \n",
            " extracting: /content/Brain_Tumor_detection/train/00124_7_jpg.rf.b52c5ee7474d74a94aad5d1c1ec514aa.xml  \n",
            " extracting: /content/Brain_Tumor_detection/train/00124_8_jpg.rf.f389d1ef9c52303bc2516ed5e41c8b55.jpg  \n",
            " extracting: /content/Brain_Tumor_detection/train/00124_8_jpg.rf.f389d1ef9c52303bc2516ed5e41c8b55.xml  \n",
            " extracting: /content/Brain_Tumor_detection/train/00124_9_jpg.rf.633198a1be6a866df92eb57690b48e18.jpg  \n",
            " extracting: /content/Brain_Tumor_detection/train/00124_9_jpg.rf.633198a1be6a866df92eb57690b48e18.xml  \n",
            " extracting: /content/Brain_Tumor_detection/train/00130_100_jpg.rf.347324f61e7020a8d85e88c453f74b12.jpg  \n",
            " extracting: /content/Brain_Tumor_detection/train/00130_100_jpg.rf.347324f61e7020a8d85e88c453f74b12.xml  \n",
            " extracting: /content/Brain_Tumor_detection/train/00130_107_jpg.rf.922b5dc6b3abe933c140411fd9e6ca13.jpg  \n",
            " extracting: /content/Brain_Tumor_detection/train/00130_107_jpg.rf.922b5dc6b3abe933c140411fd9e6ca13.xml  \n",
            " extracting: /content/Brain_Tumor_detection/train/00130_112_jpg.rf.4b473694933fc68a754b6bdb99f3e682.jpg  \n",
            " extracting: /content/Brain_Tumor_detection/train/00130_112_jpg.rf.4b473694933fc68a754b6bdb99f3e682.xml  \n",
            " extracting: /content/Brain_Tumor_detection/train/00130_114_jpg.rf.00051e6df09727b809b848ee596127ea.jpg  \n",
            " extracting: /content/Brain_Tumor_detection/train/00130_114_jpg.rf.00051e6df09727b809b848ee596127ea.xml  \n",
            " extracting: /content/Brain_Tumor_detection/train/00130_119_jpg.rf.5cb14467e801a9990cdaa2a4fff50db4.jpg  \n",
            " extracting: /content/Brain_Tumor_detection/train/00130_119_jpg.rf.5cb14467e801a9990cdaa2a4fff50db4.xml  \n",
            " extracting: /content/Brain_Tumor_detection/train/00130_78_jpg.rf.a054f8d9f7da77aa32ef50be7232d863.jpg  \n",
            " extracting: /content/Brain_Tumor_detection/train/00130_78_jpg.rf.a054f8d9f7da77aa32ef50be7232d863.xml  \n",
            " extracting: /content/Brain_Tumor_detection/train/00130_81_jpg.rf.eff5fda0cdf56b374f36c3516f66e963.jpg  \n",
            " extracting: /content/Brain_Tumor_detection/train/00130_81_jpg.rf.eff5fda0cdf56b374f36c3516f66e963.xml  \n",
            " extracting: /content/Brain_Tumor_detection/train/00130_88_jpg.rf.6ea743f8d7f78d3ec21433c6013f0e9c.jpg  \n",
            " extracting: /content/Brain_Tumor_detection/train/00130_88_jpg.rf.6ea743f8d7f78d3ec21433c6013f0e9c.xml  \n",
            " extracting: /content/Brain_Tumor_detection/train/00130_94_jpg.rf.26bb650ba65387da3d5bf61565f3ad03.jpg  \n",
            " extracting: /content/Brain_Tumor_detection/train/00130_94_jpg.rf.26bb650ba65387da3d5bf61565f3ad03.xml  \n",
            " extracting: /content/Brain_Tumor_detection/train/00148_19_jpg.rf.9b34a4bd2fdca8c86f58b2bf6f2c010b.jpg  \n",
            " extracting: /content/Brain_Tumor_detection/train/00148_19_jpg.rf.9b34a4bd2fdca8c86f58b2bf6f2c010b.xml  \n",
            " extracting: /content/Brain_Tumor_detection/train/00148_20_jpg.rf.0549e3a2c3ec91adb28854061977cd40.jpg  \n",
            " extracting: /content/Brain_Tumor_detection/train/00148_20_jpg.rf.0549e3a2c3ec91adb28854061977cd40.xml  \n",
            " extracting: /content/Brain_Tumor_detection/train/00148_22_jpg.rf.b88866da061312dcef5eb59ca3b00a61.jpg  \n",
            " extracting: /content/Brain_Tumor_detection/train/00148_22_jpg.rf.b88866da061312dcef5eb59ca3b00a61.xml  \n",
            " extracting: /content/Brain_Tumor_detection/train/00148_24_jpg.rf.49ed63d46bce27d0f533df30ad0f92ed.jpg  \n",
            " extracting: /content/Brain_Tumor_detection/train/00148_24_jpg.rf.49ed63d46bce27d0f533df30ad0f92ed.xml  \n",
            " extracting: /content/Brain_Tumor_detection/train/00150_10_jpg.rf.1f67726fdc3dba62669405688f6c798f.jpg  \n",
            " extracting: /content/Brain_Tumor_detection/train/00150_10_jpg.rf.1f67726fdc3dba62669405688f6c798f.xml  \n",
            " extracting: /content/Brain_Tumor_detection/train/00150_11_jpg.rf.f9cb0e4b8052752f8912fdcf9d150e9c.jpg  \n",
            " extracting: /content/Brain_Tumor_detection/train/00150_11_jpg.rf.f9cb0e4b8052752f8912fdcf9d150e9c.xml  \n",
            " extracting: /content/Brain_Tumor_detection/train/00150_12_jpg.rf.a2cf9f5e63565cd562d4c641ccb0c0e6.jpg  \n",
            " extracting: /content/Brain_Tumor_detection/train/00150_12_jpg.rf.a2cf9f5e63565cd562d4c641ccb0c0e6.xml  \n",
            " extracting: /content/Brain_Tumor_detection/train/00150_8_jpg.rf.528aa646dbfc65539ba6c4971c92356f.jpg  \n",
            " extracting: /content/Brain_Tumor_detection/train/00150_8_jpg.rf.528aa646dbfc65539ba6c4971c92356f.xml  \n",
            " extracting: /content/Brain_Tumor_detection/train/00150_9_jpg.rf.0fa7ae46c5c28298474132f5af3f8d7b.jpg  \n",
            " extracting: /content/Brain_Tumor_detection/train/00150_9_jpg.rf.0fa7ae46c5c28298474132f5af3f8d7b.xml  \n",
            " extracting: /content/Brain_Tumor_detection/train/00151_10_jpg.rf.238b813aeef2fdae24c1658ee147fa11.jpg  \n",
            " extracting: /content/Brain_Tumor_detection/train/00151_10_jpg.rf.238b813aeef2fdae24c1658ee147fa11.xml  \n",
            " extracting: /content/Brain_Tumor_detection/train/00151_12_jpg.rf.a11cd045cb9eeb68729d65eadc9f61dd.jpg  \n",
            " extracting: /content/Brain_Tumor_detection/train/00151_12_jpg.rf.a11cd045cb9eeb68729d65eadc9f61dd.xml  \n",
            " extracting: /content/Brain_Tumor_detection/train/00151_13_jpg.rf.07df7d70bddbf0b9b6f3fcf3c900ec5d.jpg  \n",
            " extracting: /content/Brain_Tumor_detection/train/00151_13_jpg.rf.07df7d70bddbf0b9b6f3fcf3c900ec5d.xml  \n",
            " extracting: /content/Brain_Tumor_detection/train/00151_14_jpg.rf.817a31df679cdd21e3b99e2a9ae8ab3c.jpg  \n",
            " extracting: /content/Brain_Tumor_detection/train/00151_14_jpg.rf.817a31df679cdd21e3b99e2a9ae8ab3c.xml  \n",
            " extracting: /content/Brain_Tumor_detection/train/00151_15_jpg.rf.c505acfe848a10bcb745b548d1054dc5.jpg  \n",
            " extracting: /content/Brain_Tumor_detection/train/00151_15_jpg.rf.c505acfe848a10bcb745b548d1054dc5.xml  \n",
            " extracting: /content/Brain_Tumor_detection/train/00151_17_jpg.rf.a8aefe19516a4c0ee4ed835ebe90286d.jpg  \n",
            " extracting: /content/Brain_Tumor_detection/train/00151_17_jpg.rf.a8aefe19516a4c0ee4ed835ebe90286d.xml  \n",
            " extracting: /content/Brain_Tumor_detection/train/00158_102_jpg.rf.9d05fe32102ba4c2fcceda16ab339fbe.jpg  \n",
            " extracting: /content/Brain_Tumor_detection/train/00158_102_jpg.rf.9d05fe32102ba4c2fcceda16ab339fbe.xml  \n",
            " extracting: /content/Brain_Tumor_detection/train/00158_108_jpg.rf.45c1ecd8e04dbb045a11750a63d34cb1.jpg  \n",
            " extracting: /content/Brain_Tumor_detection/train/00158_108_jpg.rf.45c1ecd8e04dbb045a11750a63d34cb1.xml  \n",
            " extracting: /content/Brain_Tumor_detection/train/00158_114_jpg.rf.3455d7e61ac2b4e0e571ef6905d99013.jpg  \n",
            " extracting: /content/Brain_Tumor_detection/train/00158_114_jpg.rf.3455d7e61ac2b4e0e571ef6905d99013.xml  \n",
            " extracting: /content/Brain_Tumor_detection/train/00158_115_jpg.rf.7164a5dce081b9b865cedafa400c2890.jpg  \n",
            " extracting: /content/Brain_Tumor_detection/train/00158_115_jpg.rf.7164a5dce081b9b865cedafa400c2890.xml  \n",
            " extracting: /content/Brain_Tumor_detection/train/00158_86_jpg.rf.12c433ca2506aedf98df2bd2137027c0.jpg  \n",
            " extracting: /content/Brain_Tumor_detection/train/00158_86_jpg.rf.12c433ca2506aedf98df2bd2137027c0.xml  \n",
            " extracting: /content/Brain_Tumor_detection/train/00158_90_jpg.rf.ea3f15b7d543ec9444b43f7b9b1f699c.jpg  \n",
            " extracting: /content/Brain_Tumor_detection/train/00158_90_jpg.rf.ea3f15b7d543ec9444b43f7b9b1f699c.xml  \n",
            " extracting: /content/Brain_Tumor_detection/train/00158_96_jpg.rf.e0877b242690b35654b019db0e98fd77.jpg  \n",
            " extracting: /content/Brain_Tumor_detection/train/00158_96_jpg.rf.e0877b242690b35654b019db0e98fd77.xml  \n",
            " extracting: /content/Brain_Tumor_detection/train/00165_110_jpg.rf.4f87d2cdc53da09edd950fb0e349bf0e.jpg  \n",
            " extracting: /content/Brain_Tumor_detection/train/00165_110_jpg.rf.4f87d2cdc53da09edd950fb0e349bf0e.xml  \n",
            " extracting: /content/Brain_Tumor_detection/train/00165_111_jpg.rf.75de0bee815867a94dba601926c08d18.jpg  \n",
            " extracting: /content/Brain_Tumor_detection/train/00165_111_jpg.rf.75de0bee815867a94dba601926c08d18.xml  \n",
            " extracting: /content/Brain_Tumor_detection/train/00165_116_jpg.rf.b86891697a80718d6edda0ba824d7bb8.jpg  \n",
            " extracting: /content/Brain_Tumor_detection/train/00165_116_jpg.rf.b86891697a80718d6edda0ba824d7bb8.xml  \n",
            " extracting: /content/Brain_Tumor_detection/train/00165_118_jpg.rf.24791787d75f743643c19c429f1ddcf3.jpg  \n",
            " extracting: /content/Brain_Tumor_detection/train/00165_118_jpg.rf.24791787d75f743643c19c429f1ddcf3.xml  \n",
            " extracting: /content/Brain_Tumor_detection/train/00165_123_jpg.rf.7087ad9700af5ae304bc09ef30961300.jpg  \n",
            " extracting: /content/Brain_Tumor_detection/train/00165_123_jpg.rf.7087ad9700af5ae304bc09ef30961300.xml  \n",
            " extracting: /content/Brain_Tumor_detection/train/00165_125_jpg.rf.a99b3979b28273b4f59a6917042def20.jpg  \n",
            " extracting: /content/Brain_Tumor_detection/train/00165_125_jpg.rf.a99b3979b28273b4f59a6917042def20.xml  \n",
            " extracting: /content/Brain_Tumor_detection/train/00165_129_jpg.rf.2969420110a35f2e3f0efa8bea87abe9.jpg  \n",
            " extracting: /content/Brain_Tumor_detection/train/00165_129_jpg.rf.2969420110a35f2e3f0efa8bea87abe9.xml  \n",
            " extracting: /content/Brain_Tumor_detection/train/00165_135_jpg.rf.c26622e8f76440faef19080ca27dd54e.jpg  \n",
            " extracting: /content/Brain_Tumor_detection/train/00165_135_jpg.rf.c26622e8f76440faef19080ca27dd54e.xml  \n",
            " extracting: /content/Brain_Tumor_detection/train/00167_125_jpg.rf.878824ce9274f17c6cbdf939db60d2d2.jpg  \n",
            " extracting: /content/Brain_Tumor_detection/train/00167_125_jpg.rf.878824ce9274f17c6cbdf939db60d2d2.xml  \n",
            " extracting: /content/Brain_Tumor_detection/train/00167_127_jpg.rf.7861512045a993e65f3080846fb66fab.jpg  \n",
            " extracting: /content/Brain_Tumor_detection/train/00167_127_jpg.rf.7861512045a993e65f3080846fb66fab.xml  \n",
            " extracting: /content/Brain_Tumor_detection/train/00169_112_jpg.rf.91349b0df2aa9d7aa3774e6692478d65.jpg  \n",
            " extracting: /content/Brain_Tumor_detection/train/00169_112_jpg.rf.91349b0df2aa9d7aa3774e6692478d65.xml  \n",
            " extracting: /content/Brain_Tumor_detection/train/00169_119_jpg.rf.a2a4b4c263b4f8fff3f256fe0a3eaaf6.jpg  \n",
            " extracting: /content/Brain_Tumor_detection/train/00169_119_jpg.rf.a2a4b4c263b4f8fff3f256fe0a3eaaf6.xml  \n",
            " extracting: /content/Brain_Tumor_detection/train/00169_127_jpg.rf.50124055bfd92d404556b07f4620950b.jpg  \n",
            " extracting: /content/Brain_Tumor_detection/train/00169_127_jpg.rf.50124055bfd92d404556b07f4620950b.xml  \n",
            " extracting: /content/Brain_Tumor_detection/train/00169_134_jpg.rf.b84f6f9705c17708103948fd8a6b98a4.jpg  \n",
            " extracting: /content/Brain_Tumor_detection/train/00169_134_jpg.rf.b84f6f9705c17708103948fd8a6b98a4.xml  \n",
            " extracting: /content/Brain_Tumor_detection/train/00169_141_jpg.rf.b6b2973b5dd42b1869c007866ba0998a.jpg  \n",
            " extracting: /content/Brain_Tumor_detection/train/00169_141_jpg.rf.b6b2973b5dd42b1869c007866ba0998a.xml  \n",
            " extracting: /content/Brain_Tumor_detection/train/00169_142_jpg.rf.6f1c99ccc18df104565f28db4536d0fe.jpg  \n",
            " extracting: /content/Brain_Tumor_detection/train/00169_142_jpg.rf.6f1c99ccc18df104565f28db4536d0fe.xml  \n",
            " extracting: /content/Brain_Tumor_detection/train/00169_149_jpg.rf.4494bd9e904254e2c9c11d8d639f8d4f.jpg  \n",
            " extracting: /content/Brain_Tumor_detection/train/00169_149_jpg.rf.4494bd9e904254e2c9c11d8d639f8d4f.xml  \n",
            " extracting: /content/Brain_Tumor_detection/train/00172_102_jpg.rf.46e52f482ded22d57112d35e11a7291b.jpg  \n",
            " extracting: /content/Brain_Tumor_detection/train/00172_102_jpg.rf.46e52f482ded22d57112d35e11a7291b.xml  \n",
            " extracting: /content/Brain_Tumor_detection/train/00172_108_jpg.rf.9fc1028e6b5cfde5cb40dda1a8d84d07.jpg  \n",
            " extracting: /content/Brain_Tumor_detection/train/00172_108_jpg.rf.9fc1028e6b5cfde5cb40dda1a8d84d07.xml  \n",
            " extracting: /content/Brain_Tumor_detection/train/00172_114_jpg.rf.69441aefdbd0b4261c440b32f35be99b.jpg  \n",
            " extracting: /content/Brain_Tumor_detection/train/00172_114_jpg.rf.69441aefdbd0b4261c440b32f35be99b.xml  \n",
            " extracting: /content/Brain_Tumor_detection/train/00172_92_jpg.rf.8191598c0a4f948cac1b7390f89f686b.jpg  \n",
            " extracting: /content/Brain_Tumor_detection/train/00172_92_jpg.rf.8191598c0a4f948cac1b7390f89f686b.xml  \n",
            " extracting: /content/Brain_Tumor_detection/train/00172_96_jpg.rf.2c885bc68ba0032dc9d267b6df6fde52.jpg  \n",
            " extracting: /content/Brain_Tumor_detection/train/00172_96_jpg.rf.2c885bc68ba0032dc9d267b6df6fde52.xml  \n",
            " extracting: /content/Brain_Tumor_detection/train/00176_104_jpg.rf.a637428068012ed5971e8aa923212ec8.jpg  \n",
            " extracting: /content/Brain_Tumor_detection/train/00176_104_jpg.rf.a637428068012ed5971e8aa923212ec8.xml  \n",
            " extracting: /content/Brain_Tumor_detection/train/00176_89_jpg.rf.94b2324da8adaa3dd7589fc8415ca646.jpg  \n",
            " extracting: /content/Brain_Tumor_detection/train/00176_89_jpg.rf.94b2324da8adaa3dd7589fc8415ca646.xml  \n",
            " extracting: /content/Brain_Tumor_detection/train/00176_92_jpg.rf.6f87c488cc6957a68b00852fedc539e9.jpg  \n",
            " extracting: /content/Brain_Tumor_detection/train/00176_92_jpg.rf.6f87c488cc6957a68b00852fedc539e9.xml  \n",
            " extracting: /content/Brain_Tumor_detection/train/00176_98_jpg.rf.da3860edf935ecf60b4ebaa7d1a41ecc.jpg  \n",
            " extracting: /content/Brain_Tumor_detection/train/00176_98_jpg.rf.da3860edf935ecf60b4ebaa7d1a41ecc.xml  \n",
            " extracting: /content/Brain_Tumor_detection/train/00183_80_jpg.rf.8647678cd512421c2dd9ae2366c18e61.jpg  \n",
            " extracting: /content/Brain_Tumor_detection/train/00183_80_jpg.rf.8647678cd512421c2dd9ae2366c18e61.xml  \n",
            " extracting: /content/Brain_Tumor_detection/train/00183_86_jpg.rf.8958aab92cb1d747c04df28da4024c98.jpg  \n",
            " extracting: /content/Brain_Tumor_detection/train/00183_86_jpg.rf.8958aab92cb1d747c04df28da4024c98.xml  \n",
            " extracting: /content/Brain_Tumor_detection/train/00240_134_jpg.rf.fcad12d3993df610b91cd6c987a7882b.jpg  \n",
            " extracting: /content/Brain_Tumor_detection/train/00240_134_jpg.rf.fcad12d3993df610b91cd6c987a7882b.xml  \n",
            " extracting: /content/Brain_Tumor_detection/train/00240_138_jpg.rf.80630e1267b37468fbc3ee217b8f4a67.jpg  \n",
            " extracting: /content/Brain_Tumor_detection/train/00240_138_jpg.rf.80630e1267b37468fbc3ee217b8f4a67.xml  \n",
            " extracting: /content/Brain_Tumor_detection/train/00240_144_jpg.rf.25316376985ea25db97d4a2ee57d3dec.jpg  \n",
            " extracting: /content/Brain_Tumor_detection/train/00240_144_jpg.rf.25316376985ea25db97d4a2ee57d3dec.xml  \n",
            " extracting: /content/Brain_Tumor_detection/train/00240_151_jpg.rf.e55cbe17a390be7daba235885b7b6c74.jpg  \n",
            " extracting: /content/Brain_Tumor_detection/train/00240_151_jpg.rf.e55cbe17a390be7daba235885b7b6c74.xml  \n",
            " extracting: /content/Brain_Tumor_detection/train/00240_157_jpg.rf.d2621882f0b68b3e030a3b9afd83ae23.jpg  \n",
            " extracting: /content/Brain_Tumor_detection/train/00240_157_jpg.rf.d2621882f0b68b3e030a3b9afd83ae23.xml  \n",
            " extracting: /content/Brain_Tumor_detection/train/00245_101_jpg.rf.faa213932fe207f0750355c06cd4a1c7.jpg  \n",
            " extracting: /content/Brain_Tumor_detection/train/00245_101_jpg.rf.faa213932fe207f0750355c06cd4a1c7.xml  \n",
            " extracting: /content/Brain_Tumor_detection/train/00246_103_jpg.rf.05fbf6a3b024e2ca17c60e4e68528b91.jpg  \n",
            " extracting: /content/Brain_Tumor_detection/train/00246_103_jpg.rf.05fbf6a3b024e2ca17c60e4e68528b91.xml  \n",
            " extracting: /content/Brain_Tumor_detection/train/00246_96_jpg.rf.a4ca13e8abcba96d214d66303b01487e.jpg  \n",
            " extracting: /content/Brain_Tumor_detection/train/00246_96_jpg.rf.a4ca13e8abcba96d214d66303b01487e.xml  \n",
            " extracting: /content/Brain_Tumor_detection/train/00250_104_jpg.rf.c437a6b9e39926b09fe1cef213cf494c.jpg  \n",
            " extracting: /content/Brain_Tumor_detection/train/00250_104_jpg.rf.c437a6b9e39926b09fe1cef213cf494c.xml  \n",
            " extracting: /content/Brain_Tumor_detection/train/00250_110_jpg.rf.b0cfb21bffd2ba7af213b9fd80726348.jpg  \n",
            " extracting: /content/Brain_Tumor_detection/train/00250_110_jpg.rf.b0cfb21bffd2ba7af213b9fd80726348.xml  \n",
            " extracting: /content/Brain_Tumor_detection/train/00250_115_jpg.rf.dfea950db95257263903c9934184134c.jpg  \n",
            " extracting: /content/Brain_Tumor_detection/train/00250_115_jpg.rf.dfea950db95257263903c9934184134c.xml  \n",
            " extracting: /content/Brain_Tumor_detection/train/00250_120_jpg.rf.89d1586ce9857feac6ec413701035e7f.jpg  \n",
            " extracting: /content/Brain_Tumor_detection/train/00250_120_jpg.rf.89d1586ce9857feac6ec413701035e7f.xml  \n",
            " extracting: /content/Brain_Tumor_detection/train/00250_121_jpg.rf.aa8f581f19bff19f39452fec5e6ed908.jpg  \n",
            " extracting: /content/Brain_Tumor_detection/train/00250_121_jpg.rf.aa8f581f19bff19f39452fec5e6ed908.xml  \n",
            " extracting: /content/Brain_Tumor_detection/train/00253_79_jpg.rf.97e9a33bbf328a261beb6f658ef8b540.jpg  \n",
            " extracting: /content/Brain_Tumor_detection/train/00253_79_jpg.rf.97e9a33bbf328a261beb6f658ef8b540.xml  \n",
            " extracting: /content/Brain_Tumor_detection/train/00253_85_jpg.rf.ddbccb8771a685ccb173fad8b5d7c7fe.jpg  \n",
            " extracting: /content/Brain_Tumor_detection/train/00253_85_jpg.rf.ddbccb8771a685ccb173fad8b5d7c7fe.xml  \n",
            " extracting: /content/Brain_Tumor_detection/train/00253_92_jpg.rf.8cf2db05880255276793aaa54aba5f5a.jpg  \n",
            " extracting: /content/Brain_Tumor_detection/train/00253_92_jpg.rf.8cf2db05880255276793aaa54aba5f5a.xml  \n",
            " extracting: /content/Brain_Tumor_detection/train/00254_79_jpg.rf.e6c1273b3ec51704f56cd2066a897caa.jpg  \n",
            " extracting: /content/Brain_Tumor_detection/train/00254_79_jpg.rf.e6c1273b3ec51704f56cd2066a897caa.xml  \n",
            " extracting: /content/Brain_Tumor_detection/train/00254_83_jpg.rf.d6c7263ce9f4c51732b06d99d5bf459a.jpg  \n",
            " extracting: /content/Brain_Tumor_detection/train/00254_83_jpg.rf.d6c7263ce9f4c51732b06d99d5bf459a.xml  \n",
            " extracting: /content/Brain_Tumor_detection/train/00254_89_jpg.rf.8b1221bfb1fae063ce6426f5d103fff3.jpg  \n",
            " extracting: /content/Brain_Tumor_detection/train/00254_89_jpg.rf.8b1221bfb1fae063ce6426f5d103fff3.xml  \n",
            " extracting: /content/Brain_Tumor_detection/train/00260_113_jpg.rf.5fd93fe1bf1d64aa9118666c5e941aa5.jpg  \n",
            " extracting: /content/Brain_Tumor_detection/train/00260_113_jpg.rf.5fd93fe1bf1d64aa9118666c5e941aa5.xml  \n",
            " extracting: /content/Brain_Tumor_detection/train/00260_115_jpg.rf.b3513491dde3824a16397150f6818365.jpg  \n",
            " extracting: /content/Brain_Tumor_detection/train/00260_115_jpg.rf.b3513491dde3824a16397150f6818365.xml  \n",
            " extracting: /content/Brain_Tumor_detection/train/00260_119_jpg.rf.44801d4dcad89882d8cf5e80bd238d79.jpg  \n",
            " extracting: /content/Brain_Tumor_detection/train/00260_119_jpg.rf.44801d4dcad89882d8cf5e80bd238d79.xml  \n",
            " extracting: /content/Brain_Tumor_detection/train/00260_121_jpg.rf.e8ad1c2da94d473c46de93d8e9704e22.jpg  \n",
            " extracting: /content/Brain_Tumor_detection/train/00260_121_jpg.rf.e8ad1c2da94d473c46de93d8e9704e22.xml  \n",
            " extracting: /content/Brain_Tumor_detection/train/00260_125_jpg.rf.6be3eedbfc3c2be8210af82a540eaccb.jpg  \n",
            " extracting: /content/Brain_Tumor_detection/train/00260_125_jpg.rf.6be3eedbfc3c2be8210af82a540eaccb.xml  \n",
            " extracting: /content/Brain_Tumor_detection/train/00260_130_jpg.rf.d3b006ac582dadcba56a472a6d076bbf.jpg  \n",
            " extracting: /content/Brain_Tumor_detection/train/00260_130_jpg.rf.d3b006ac582dadcba56a472a6d076bbf.xml  \n",
            " extracting: /content/Brain_Tumor_detection/train/00260_136_jpg.rf.d6c936a608036751585c63937aa4d5cf.jpg  \n",
            " extracting: /content/Brain_Tumor_detection/train/00260_136_jpg.rf.d6c936a608036751585c63937aa4d5cf.xml  \n",
            " extracting: /content/Brain_Tumor_detection/train/00260_142_jpg.rf.809d73e0233b29a9f7c626dd1cb990f7.jpg  \n",
            " extracting: /content/Brain_Tumor_detection/train/00260_142_jpg.rf.809d73e0233b29a9f7c626dd1cb990f7.xml  \n",
            " extracting: /content/Brain_Tumor_detection/train/00263_109_jpg.rf.e7f89f3dab7e643bedeab02e1e914f93.jpg  \n",
            " extracting: /content/Brain_Tumor_detection/train/00263_109_jpg.rf.e7f89f3dab7e643bedeab02e1e914f93.xml  \n",
            " extracting: /content/Brain_Tumor_detection/train/00263_116_jpg.rf.fb61c123910f7cabad127d0e132bf2ed.jpg  \n",
            " extracting: /content/Brain_Tumor_detection/train/00263_116_jpg.rf.fb61c123910f7cabad127d0e132bf2ed.xml  \n",
            " extracting: /content/Brain_Tumor_detection/train/00263_117_jpg.rf.8212111fe2ebbc5fdc83a4c6668f6494.jpg  \n",
            " extracting: /content/Brain_Tumor_detection/train/00263_117_jpg.rf.8212111fe2ebbc5fdc83a4c6668f6494.xml  \n",
            " extracting: /content/Brain_Tumor_detection/train/00263_123_jpg.rf.baf650e01ca3e9bb769f4cb1f90ac868.jpg  \n",
            " extracting: /content/Brain_Tumor_detection/train/00263_123_jpg.rf.baf650e01ca3e9bb769f4cb1f90ac868.xml  \n",
            " extracting: /content/Brain_Tumor_detection/train/00263_125_jpg.rf.5c16739c18da608eeebf558e7e6d3bd9.jpg  \n",
            " extracting: /content/Brain_Tumor_detection/train/00263_125_jpg.rf.5c16739c18da608eeebf558e7e6d3bd9.xml  \n",
            " extracting: /content/Brain_Tumor_detection/train/00263_130_jpg.rf.fb28144ed897ea372c4408fb1a033f4c.jpg  \n",
            " extracting: /content/Brain_Tumor_detection/train/00263_130_jpg.rf.fb28144ed897ea372c4408fb1a033f4c.xml  \n",
            " extracting: /content/Brain_Tumor_detection/train/00263_133_jpg.rf.ddfecff3a100009de8abd36f5352f3fe.jpg  \n",
            " extracting: /content/Brain_Tumor_detection/train/00263_133_jpg.rf.ddfecff3a100009de8abd36f5352f3fe.xml  \n",
            " extracting: /content/Brain_Tumor_detection/train/00263_137_jpg.rf.08457ab4131a03aab4fca94fcb56cec7.jpg  \n",
            " extracting: /content/Brain_Tumor_detection/train/00263_137_jpg.rf.08457ab4131a03aab4fca94fcb56cec7.xml  \n",
            " extracting: /content/Brain_Tumor_detection/train/00270_11_jpg.rf.a59ffc54401011c0306e822fc124b8f1.jpg  \n",
            " extracting: /content/Brain_Tumor_detection/train/00270_11_jpg.rf.a59ffc54401011c0306e822fc124b8f1.xml  \n",
            " extracting: /content/Brain_Tumor_detection/train/00270_12_jpg.rf.8d9073502dfbf186fec2c95a048557a6.jpg  \n",
            " extracting: /content/Brain_Tumor_detection/train/00270_12_jpg.rf.8d9073502dfbf186fec2c95a048557a6.xml  \n",
            " extracting: /content/Brain_Tumor_detection/train/00270_13_jpg.rf.1dbb44e10db5dd786de78141194cf8bc.jpg  \n",
            " extracting: /content/Brain_Tumor_detection/train/00270_13_jpg.rf.1dbb44e10db5dd786de78141194cf8bc.xml  \n",
            " extracting: /content/Brain_Tumor_detection/train/00271_106_jpg.rf.ea181b6f3d2891abff7c5afd7de7a5eb.jpg  \n",
            " extracting: /content/Brain_Tumor_detection/train/00271_106_jpg.rf.ea181b6f3d2891abff7c5afd7de7a5eb.xml  \n",
            " extracting: /content/Brain_Tumor_detection/train/00271_111_jpg.rf.00ec47a8148220e5f8bf6d2da19fdd45.jpg  \n",
            " extracting: /content/Brain_Tumor_detection/train/00271_111_jpg.rf.00ec47a8148220e5f8bf6d2da19fdd45.xml  \n",
            " extracting: /content/Brain_Tumor_detection/train/00271_116_jpg.rf.4a5c4621f004d670dd31f913dfe0339b.jpg  \n",
            " extracting: /content/Brain_Tumor_detection/train/00271_116_jpg.rf.4a5c4621f004d670dd31f913dfe0339b.xml  \n",
            " extracting: /content/Brain_Tumor_detection/train/00271_117_jpg.rf.e73a34260298491f1197cc95a61a5ca9.jpg  \n",
            " extracting: /content/Brain_Tumor_detection/train/00271_117_jpg.rf.e73a34260298491f1197cc95a61a5ca9.xml  \n",
            " extracting: /content/Brain_Tumor_detection/train/00271_122_jpg.rf.ca0a9462ca51d4d7743275feb9d5c258.jpg  \n",
            " extracting: /content/Brain_Tumor_detection/train/00271_122_jpg.rf.ca0a9462ca51d4d7743275feb9d5c258.xml  \n",
            " extracting: /content/Brain_Tumor_detection/train/00271_124_jpg.rf.65781be540d6ca3234c93914fba9057a.jpg  \n",
            " extracting: /content/Brain_Tumor_detection/train/00271_124_jpg.rf.65781be540d6ca3234c93914fba9057a.xml  \n",
            " extracting: /content/Brain_Tumor_detection/train/00271_128_jpg.rf.21edb068e022941b55e688926bffd7cf.jpg  \n",
            " extracting: /content/Brain_Tumor_detection/train/00271_128_jpg.rf.21edb068e022941b55e688926bffd7cf.xml  \n",
            " extracting: /content/Brain_Tumor_detection/train/00271_130_jpg.rf.6d5b9866210d4338f968c9e0f0998555.jpg  \n",
            " extracting: /content/Brain_Tumor_detection/train/00271_130_jpg.rf.6d5b9866210d4338f968c9e0f0998555.xml  \n",
            " extracting: /content/Brain_Tumor_detection/train/00271_134_jpg.rf.4a6b549f9a68da9fae78f99e5897ec38.jpg  \n",
            " extracting: /content/Brain_Tumor_detection/train/00271_134_jpg.rf.4a6b549f9a68da9fae78f99e5897ec38.xml  \n",
            " extracting: /content/Brain_Tumor_detection/train/00271_145_jpg.rf.b55815b5756367fe265f95ca3d3763e1.jpg  \n",
            " extracting: /content/Brain_Tumor_detection/train/00271_145_jpg.rf.b55815b5756367fe265f95ca3d3763e1.xml  \n",
            " extracting: /content/Brain_Tumor_detection/train/00273_103_jpg.rf.c169ea719c1632a604e070b0b777cf2c.jpg  \n",
            " extracting: /content/Brain_Tumor_detection/train/00273_103_jpg.rf.c169ea719c1632a604e070b0b777cf2c.xml  \n",
            " extracting: /content/Brain_Tumor_detection/train/00273_109_jpg.rf.a27f9418205826c419f0415271d0fffe.jpg  \n",
            " extracting: /content/Brain_Tumor_detection/train/00273_109_jpg.rf.a27f9418205826c419f0415271d0fffe.xml  \n",
            " extracting: /content/Brain_Tumor_detection/train/00273_86_jpg.rf.2a804da0221453eca197199db2487103.jpg  \n",
            " extracting: /content/Brain_Tumor_detection/train/00273_86_jpg.rf.2a804da0221453eca197199db2487103.xml  \n",
            " extracting: /content/Brain_Tumor_detection/train/00273_90_jpg.rf.87a01d3ae593c2543663cb32bc3c306a.jpg  \n",
            " extracting: /content/Brain_Tumor_detection/train/00273_90_jpg.rf.87a01d3ae593c2543663cb32bc3c306a.xml  \n",
            " extracting: /content/Brain_Tumor_detection/train/00273_96_jpg.rf.a22759bc8cf7d7fe94a4ff050645b2bd.jpg  \n",
            " extracting: /content/Brain_Tumor_detection/train/00273_96_jpg.rf.a22759bc8cf7d7fe94a4ff050645b2bd.xml  \n",
            " extracting: /content/Brain_Tumor_detection/train/00281_104_jpg.rf.f596e7e241b095758ecfd77d318ff069.jpg  \n",
            " extracting: /content/Brain_Tumor_detection/train/00281_104_jpg.rf.f596e7e241b095758ecfd77d318ff069.xml  \n",
            " extracting: /content/Brain_Tumor_detection/train/00281_110_jpg.rf.e85d5c976f88d3b202194c01bde7ce00.jpg  \n",
            " extracting: /content/Brain_Tumor_detection/train/00281_110_jpg.rf.e85d5c976f88d3b202194c01bde7ce00.xml  \n",
            " extracting: /content/Brain_Tumor_detection/train/00281_116_jpg.rf.31e9dd91f58d263b8d6627121463c273.jpg  \n",
            " extracting: /content/Brain_Tumor_detection/train/00281_116_jpg.rf.31e9dd91f58d263b8d6627121463c273.xml  \n",
            " extracting: /content/Brain_Tumor_detection/train/00281_117_jpg.rf.089fe2c369caa4a4e02fab7be992e7f2.jpg  \n",
            " extracting: /content/Brain_Tumor_detection/train/00281_117_jpg.rf.089fe2c369caa4a4e02fab7be992e7f2.xml  \n",
            " extracting: /content/Brain_Tumor_detection/train/00281_122_jpg.rf.e44ce00f4aee6a4f5d2ffea1f75d702c.jpg  \n",
            " extracting: /content/Brain_Tumor_detection/train/00281_122_jpg.rf.e44ce00f4aee6a4f5d2ffea1f75d702c.xml  \n",
            " extracting: /content/Brain_Tumor_detection/train/00281_124_jpg.rf.5df6986dbdb5f0be777a116c772342ed.jpg  \n",
            " extracting: /content/Brain_Tumor_detection/train/00281_124_jpg.rf.5df6986dbdb5f0be777a116c772342ed.xml  \n",
            " extracting: /content/Brain_Tumor_detection/train/00281_128_jpg.rf.9da359980442b6a1e7025f3d2c8f60fc.jpg  \n",
            " extracting: /content/Brain_Tumor_detection/train/00281_128_jpg.rf.9da359980442b6a1e7025f3d2c8f60fc.xml  \n",
            " extracting: /content/Brain_Tumor_detection/train/00281_98_jpg.rf.c42372e99812e7f89284184801a1224f.jpg  \n",
            " extracting: /content/Brain_Tumor_detection/train/00281_98_jpg.rf.c42372e99812e7f89284184801a1224f.xml  \n",
            " extracting: /content/Brain_Tumor_detection/train/00282_83_jpg.rf.ab4ebd015fcb580515403f4c07fc2add.jpg  \n",
            " extracting: /content/Brain_Tumor_detection/train/00282_83_jpg.rf.ab4ebd015fcb580515403f4c07fc2add.xml  \n",
            " extracting: /content/Brain_Tumor_detection/train/00282_87_jpg.rf.b84fb816891a8e97b599518fc1f7fe7a.jpg  \n",
            " extracting: /content/Brain_Tumor_detection/train/00282_87_jpg.rf.b84fb816891a8e97b599518fc1f7fe7a.xml  \n",
            " extracting: /content/Brain_Tumor_detection/train/00282_93_jpg.rf.d32b637d22b4a7abcb85c9d8534ef203.jpg  \n",
            " extracting: /content/Brain_Tumor_detection/train/00282_93_jpg.rf.d32b637d22b4a7abcb85c9d8534ef203.xml  \n",
            " extracting: /content/Brain_Tumor_detection/train/00282_99_jpg.rf.1f10d27d6b2425b94a31245d785f91bc.jpg  \n",
            " extracting: /content/Brain_Tumor_detection/train/00282_99_jpg.rf.1f10d27d6b2425b94a31245d785f91bc.xml  \n",
            " extracting: /content/Brain_Tumor_detection/train/00284_149_jpg.rf.6b1c4258fc5729fd8ab9fdc825423a46.jpg  \n",
            " extracting: /content/Brain_Tumor_detection/train/00284_149_jpg.rf.6b1c4258fc5729fd8ab9fdc825423a46.xml  \n",
            " extracting: /content/Brain_Tumor_detection/train/00285_87_jpg.rf.afa45bf2055044387ea8b4dc8e41f7fa.jpg  \n",
            " extracting: /content/Brain_Tumor_detection/train/00285_87_jpg.rf.afa45bf2055044387ea8b4dc8e41f7fa.xml  \n",
            " extracting: /content/Brain_Tumor_detection/train/00285_93_jpg.rf.0b928538716c1411a540a654675aef7c.jpg  \n",
            " extracting: /content/Brain_Tumor_detection/train/00285_93_jpg.rf.0b928538716c1411a540a654675aef7c.xml  \n",
            " extracting: /content/Brain_Tumor_detection/train/00291_22_jpg.rf.b022725f56780ec3955960c942598fae.jpg  \n",
            " extracting: /content/Brain_Tumor_detection/train/00291_22_jpg.rf.b022725f56780ec3955960c942598fae.xml  \n",
            " extracting: /content/Brain_Tumor_detection/train/00291_23_jpg.rf.a940eba93a8b2d0e9bd6e286f7b625cf.jpg  \n",
            " extracting: /content/Brain_Tumor_detection/train/00291_23_jpg.rf.a940eba93a8b2d0e9bd6e286f7b625cf.xml  \n",
            " extracting: /content/Brain_Tumor_detection/train/00291_24_jpg.rf.fbb0d3117772e48e34253a68468d297d.jpg  \n",
            " extracting: /content/Brain_Tumor_detection/train/00291_24_jpg.rf.fbb0d3117772e48e34253a68468d297d.xml  \n",
            " extracting: /content/Brain_Tumor_detection/train/00294_20_jpg.rf.9a825782bfa160ecc13d6a5313329d06.jpg  \n",
            " extracting: /content/Brain_Tumor_detection/train/00294_20_jpg.rf.9a825782bfa160ecc13d6a5313329d06.xml  \n",
            " extracting: /content/Brain_Tumor_detection/train/00294_21_jpg.rf.695c04e78cdbf781965ff86d74160e87.jpg  \n",
            " extracting: /content/Brain_Tumor_detection/train/00294_21_jpg.rf.695c04e78cdbf781965ff86d74160e87.xml  \n",
            " extracting: /content/Brain_Tumor_detection/train/00294_22_jpg.rf.468db3c2f57b5bfd9459700622039db7.jpg  \n",
            " extracting: /content/Brain_Tumor_detection/train/00294_22_jpg.rf.468db3c2f57b5bfd9459700622039db7.xml  \n",
            " extracting: /content/Brain_Tumor_detection/train/00294_23_jpg.rf.395361a832b063d14d4b2eb5da209b37.jpg  \n",
            " extracting: /content/Brain_Tumor_detection/train/00294_23_jpg.rf.395361a832b063d14d4b2eb5da209b37.xml  \n",
            " extracting: /content/Brain_Tumor_detection/train/00296_118_jpg.rf.bec3485f4bdc7bf476d54a7efbc913c8.jpg  \n",
            " extracting: /content/Brain_Tumor_detection/train/00296_118_jpg.rf.bec3485f4bdc7bf476d54a7efbc913c8.xml  \n",
            " extracting: /content/Brain_Tumor_detection/train/00296_124_jpg.rf.5c6f2e9b0c16726dd00aabf3d407875d.jpg  \n",
            " extracting: /content/Brain_Tumor_detection/train/00296_124_jpg.rf.5c6f2e9b0c16726dd00aabf3d407875d.xml  \n",
            " extracting: /content/Brain_Tumor_detection/train/00296_125_jpg.rf.33667454e392713377b634162533cbc6.jpg  \n",
            " extracting: /content/Brain_Tumor_detection/train/00296_125_jpg.rf.33667454e392713377b634162533cbc6.xml  \n",
            " extracting: /content/Brain_Tumor_detection/train/00296_130_jpg.rf.8cfe6e0b8f2d507762f8d194b02813bb.jpg  \n",
            " extracting: /content/Brain_Tumor_detection/train/00296_130_jpg.rf.8cfe6e0b8f2d507762f8d194b02813bb.xml  \n",
            " extracting: /content/Brain_Tumor_detection/train/00296_132_jpg.rf.9c1fdcd748113a2006f67d1a1d35852b.jpg  \n",
            " extracting: /content/Brain_Tumor_detection/train/00296_132_jpg.rf.9c1fdcd748113a2006f67d1a1d35852b.xml  \n",
            " extracting: /content/Brain_Tumor_detection/train/00299_101_jpg.rf.ee1939b447ff6e8df9f00e57a2f9f50c.jpg  \n",
            " extracting: /content/Brain_Tumor_detection/train/00299_101_jpg.rf.ee1939b447ff6e8df9f00e57a2f9f50c.xml  \n",
            " extracting: /content/Brain_Tumor_detection/train/00299_91_jpg.rf.cecd2fb4a0d4bd175c8a00fdc9e37975.jpg  \n",
            " extracting: /content/Brain_Tumor_detection/train/00299_91_jpg.rf.cecd2fb4a0d4bd175c8a00fdc9e37975.xml  \n",
            " extracting: /content/Brain_Tumor_detection/train/00303_81_jpg.rf.0a2a1cce086bdb56365897304fac47b1.jpg  \n",
            " extracting: /content/Brain_Tumor_detection/train/00303_81_jpg.rf.0a2a1cce086bdb56365897304fac47b1.xml  \n",
            " extracting: /content/Brain_Tumor_detection/train/00303_85_jpg.rf.6e97d2c772a17712d6295ba91654bbaa.jpg  \n",
            " extracting: /content/Brain_Tumor_detection/train/00303_85_jpg.rf.6e97d2c772a17712d6295ba91654bbaa.xml  \n",
            " extracting: /content/Brain_Tumor_detection/train/00304_101_jpg.rf.fcea0ba475ab287838ba58bef445f964.jpg  \n",
            " extracting: /content/Brain_Tumor_detection/train/00304_101_jpg.rf.fcea0ba475ab287838ba58bef445f964.xml  \n",
            " extracting: /content/Brain_Tumor_detection/train/00304_107_jpg.rf.a4cfbde660229f65c0bcadb15e1967a1.jpg  \n",
            " extracting: /content/Brain_Tumor_detection/train/00304_107_jpg.rf.a4cfbde660229f65c0bcadb15e1967a1.xml  \n",
            " extracting: /content/Brain_Tumor_detection/train/00304_113_jpg.rf.144320ea2cc68eaa3da06e73030cb6c7.jpg  \n",
            " extracting: /content/Brain_Tumor_detection/train/00304_113_jpg.rf.144320ea2cc68eaa3da06e73030cb6c7.xml  \n",
            " extracting: /content/Brain_Tumor_detection/train/00304_119_jpg.rf.4996be238fc7b96b412d9a52d6ae4db7.jpg  \n",
            " extracting: /content/Brain_Tumor_detection/train/00304_119_jpg.rf.4996be238fc7b96b412d9a52d6ae4db7.xml  \n",
            " extracting: /content/Brain_Tumor_detection/train/00304_98_jpg.rf.9fc602913b40df156510c054697401d2.jpg  \n",
            " extracting: /content/Brain_Tumor_detection/train/00304_98_jpg.rf.9fc602913b40df156510c054697401d2.xml  \n",
            " extracting: /content/Brain_Tumor_detection/train/00305_105_jpg.rf.18a65f1995f50ca4b84c9145f4d21fa4.jpg  \n",
            " extracting: /content/Brain_Tumor_detection/train/00305_105_jpg.rf.18a65f1995f50ca4b84c9145f4d21fa4.xml  \n",
            " extracting: /content/Brain_Tumor_detection/train/00305_107_jpg.rf.5a34423d2f877c03d2a4ae136626eccf.jpg  \n",
            " extracting: /content/Brain_Tumor_detection/train/00305_107_jpg.rf.5a34423d2f877c03d2a4ae136626eccf.xml  \n",
            " extracting: /content/Brain_Tumor_detection/train/00305_113_jpg.rf.8641300ae94976ad238114c5048688b0.jpg  \n",
            " extracting: /content/Brain_Tumor_detection/train/00305_113_jpg.rf.8641300ae94976ad238114c5048688b0.xml  \n",
            " extracting: /content/Brain_Tumor_detection/train/00305_116_jpg.rf.eb6c6b8ebb3007508eab02683259ee42.jpg  \n",
            " extracting: /content/Brain_Tumor_detection/train/00305_116_jpg.rf.eb6c6b8ebb3007508eab02683259ee42.xml  \n",
            " extracting: /content/Brain_Tumor_detection/train/00305_97_jpg.rf.a93ea63fd21889893867d7050f772920.jpg  \n",
            " extracting: /content/Brain_Tumor_detection/train/00305_97_jpg.rf.a93ea63fd21889893867d7050f772920.xml  \n",
            " extracting: /content/Brain_Tumor_detection/train/00305_98_jpg.rf.bc87faf77dff33a427cff77388dd5561.jpg  \n",
            " extracting: /content/Brain_Tumor_detection/train/00305_98_jpg.rf.bc87faf77dff33a427cff77388dd5561.xml  \n",
            " extracting: /content/Brain_Tumor_detection/train/00306_102_jpg.rf.9f65d88e5d905bc6959ffdcdf8bb5413.jpg  \n",
            " extracting: /content/Brain_Tumor_detection/train/00306_102_jpg.rf.9f65d88e5d905bc6959ffdcdf8bb5413.xml  \n",
            " extracting: /content/Brain_Tumor_detection/train/00306_109_jpg.rf.0126af947def8aaa0673558fb92f6497.jpg  \n",
            " extracting: /content/Brain_Tumor_detection/train/00306_109_jpg.rf.0126af947def8aaa0673558fb92f6497.xml  \n",
            " extracting: /content/Brain_Tumor_detection/train/00306_115_jpg.rf.73afc8e2938a6eb2efdf19599809ff8b.jpg  \n",
            " extracting: /content/Brain_Tumor_detection/train/00306_115_jpg.rf.73afc8e2938a6eb2efdf19599809ff8b.xml  \n",
            " extracting: /content/Brain_Tumor_detection/train/00306_92_jpg.rf.8e82e7a1233ec5e5b580c742159926e8.jpg  \n",
            " extracting: /content/Brain_Tumor_detection/train/00306_92_jpg.rf.8e82e7a1233ec5e5b580c742159926e8.xml  \n",
            " extracting: /content/Brain_Tumor_detection/train/00306_96_jpg.rf.7939ece03f06fc895f8909bc7d956f3d.jpg  \n",
            " extracting: /content/Brain_Tumor_detection/train/00306_96_jpg.rf.7939ece03f06fc895f8909bc7d956f3d.xml  \n",
            " extracting: /content/Brain_Tumor_detection/train/00311_105_jpg.rf.0464a5106ca0ac26a9115569cf9f76d5.jpg  \n",
            " extracting: /content/Brain_Tumor_detection/train/00311_105_jpg.rf.0464a5106ca0ac26a9115569cf9f76d5.xml  \n",
            " extracting: /content/Brain_Tumor_detection/train/00311_111_jpg.rf.d696bcffe95b49e648ee7140ed960cb0.jpg  \n",
            " extracting: /content/Brain_Tumor_detection/train/00311_111_jpg.rf.d696bcffe95b49e648ee7140ed960cb0.xml  \n",
            " extracting: /content/Brain_Tumor_detection/train/00311_117_jpg.rf.c1850717a9593d47c0a2f6bbef1a79e3.jpg  \n",
            " extracting: /content/Brain_Tumor_detection/train/00311_117_jpg.rf.c1850717a9593d47c0a2f6bbef1a79e3.xml  \n",
            " extracting: /content/Brain_Tumor_detection/train/00311_118_jpg.rf.1c7dd84613dc63d70f8c02be1a35ef99.jpg  \n",
            " extracting: /content/Brain_Tumor_detection/train/00311_118_jpg.rf.1c7dd84613dc63d70f8c02be1a35ef99.xml  \n",
            " extracting: /content/Brain_Tumor_detection/train/00311_123_jpg.rf.bc6dfaf1c15a6604a3ef280c8603caf9.jpg  \n",
            " extracting: /content/Brain_Tumor_detection/train/00311_123_jpg.rf.bc6dfaf1c15a6604a3ef280c8603caf9.xml  \n",
            " extracting: /content/Brain_Tumor_detection/train/00313_118_jpg.rf.ccdffd9fc31e72c94effc4f39ec2fb85.jpg  \n",
            " extracting: /content/Brain_Tumor_detection/train/00313_118_jpg.rf.ccdffd9fc31e72c94effc4f39ec2fb85.xml  \n",
            " extracting: /content/Brain_Tumor_detection/train/00313_119_jpg.rf.4f4482fa37670482338a6b6c73fa2777.jpg  \n",
            " extracting: /content/Brain_Tumor_detection/train/00313_119_jpg.rf.4f4482fa37670482338a6b6c73fa2777.xml  \n",
            " extracting: /content/Brain_Tumor_detection/train/00313_124_jpg.rf.08c220fee92db912f15cd16d543a482e.jpg  \n",
            " extracting: /content/Brain_Tumor_detection/train/00313_124_jpg.rf.08c220fee92db912f15cd16d543a482e.xml  \n",
            " extracting: /content/Brain_Tumor_detection/train/00313_126_jpg.rf.cd8f426ed9ee118c1640b03ff23b51ec.jpg  \n",
            " extracting: /content/Brain_Tumor_detection/train/00313_126_jpg.rf.cd8f426ed9ee118c1640b03ff23b51ec.xml  \n",
            " extracting: /content/Brain_Tumor_detection/train/00313_130_jpg.rf.00ebfc6973912b37dce4b985eeb66d3d.jpg  \n",
            " extracting: /content/Brain_Tumor_detection/train/00313_130_jpg.rf.00ebfc6973912b37dce4b985eeb66d3d.xml  \n",
            " extracting: /content/Brain_Tumor_detection/train/00313_133_jpg.rf.a81c425accb4da5c2212bfd851f6d844.jpg  \n",
            " extracting: /content/Brain_Tumor_detection/train/00313_133_jpg.rf.a81c425accb4da5c2212bfd851f6d844.xml  \n",
            " extracting: /content/Brain_Tumor_detection/train/00317_20_jpg.rf.ac38da6357d93c8c9edf1744683bfabb.jpg  \n",
            " extracting: /content/Brain_Tumor_detection/train/00317_20_jpg.rf.ac38da6357d93c8c9edf1744683bfabb.xml  \n",
            " extracting: /content/Brain_Tumor_detection/train/00317_21_jpg.rf.4d9ca6f2d0309c52507d88cb95808529.jpg  \n",
            " extracting: /content/Brain_Tumor_detection/train/00317_21_jpg.rf.4d9ca6f2d0309c52507d88cb95808529.xml  \n",
            " extracting: /content/Brain_Tumor_detection/train/00317_22_jpg.rf.265aea5a032c7ad60d2c85dafe9850f2.jpg  \n",
            " extracting: /content/Brain_Tumor_detection/train/00317_22_jpg.rf.265aea5a032c7ad60d2c85dafe9850f2.xml  \n",
            " extracting: /content/Brain_Tumor_detection/train/00317_23_jpg.rf.7054ec5ac8736fe333cc83299069ee6b.jpg  \n",
            " extracting: /content/Brain_Tumor_detection/train/00317_23_jpg.rf.7054ec5ac8736fe333cc83299069ee6b.xml  \n",
            " extracting: /content/Brain_Tumor_detection/train/00317_24_jpg.rf.3ea4d9a4f1268d416dbf2bf1726d5957.jpg  \n",
            " extracting: /content/Brain_Tumor_detection/train/00317_24_jpg.rf.3ea4d9a4f1268d416dbf2bf1726d5957.xml  \n",
            " extracting: /content/Brain_Tumor_detection/train/00317_25_jpg.rf.2d438aee1fec378e64fc47afdb394416.jpg  \n",
            " extracting: /content/Brain_Tumor_detection/train/00317_25_jpg.rf.2d438aee1fec378e64fc47afdb394416.xml  \n",
            " extracting: /content/Brain_Tumor_detection/train/00317_26_jpg.rf.0ac96b0fd57d387fed94849fc3c29f9c.jpg  \n",
            " extracting: /content/Brain_Tumor_detection/train/00317_26_jpg.rf.0ac96b0fd57d387fed94849fc3c29f9c.xml  \n",
            " extracting: /content/Brain_Tumor_detection/train/00317_27_jpg.rf.b923c267d8361c8ce5cbfbeb4aa4489b.jpg  \n",
            " extracting: /content/Brain_Tumor_detection/train/00317_27_jpg.rf.b923c267d8361c8ce5cbfbeb4aa4489b.xml  \n",
            " extracting: /content/Brain_Tumor_detection/train/00317_28_jpg.rf.7b117d15010b9b72444539cbf082e30f.jpg  \n",
            " extracting: /content/Brain_Tumor_detection/train/00317_28_jpg.rf.7b117d15010b9b72444539cbf082e30f.xml  \n",
            " extracting: /content/Brain_Tumor_detection/train/00322_108_jpg.rf.946afddf031524ea434873a418380f04.jpg  \n",
            " extracting: /content/Brain_Tumor_detection/train/00322_108_jpg.rf.946afddf031524ea434873a418380f04.xml  \n",
            " extracting: /content/Brain_Tumor_detection/train/00322_114_jpg.rf.b155db5f9f860a531b0ad2d993735aec.jpg  \n",
            " extracting: /content/Brain_Tumor_detection/train/00322_114_jpg.rf.b155db5f9f860a531b0ad2d993735aec.xml  \n",
            " extracting: /content/Brain_Tumor_detection/train/00322_115_jpg.rf.a30c9027fa3e9ec28ac29548dd9bf5de.jpg  \n",
            " extracting: /content/Brain_Tumor_detection/train/00322_115_jpg.rf.a30c9027fa3e9ec28ac29548dd9bf5de.xml  \n",
            " extracting: /content/Brain_Tumor_detection/train/00322_121_jpg.rf.4fb8f3c6f99c8c5cb6bb415875a2984e.jpg  \n",
            " extracting: /content/Brain_Tumor_detection/train/00322_121_jpg.rf.4fb8f3c6f99c8c5cb6bb415875a2984e.xml  \n",
            " extracting: /content/Brain_Tumor_detection/train/00322_122_jpg.rf.646bf1909c69d81b9b3aaffad9639547.jpg  \n",
            " extracting: /content/Brain_Tumor_detection/train/00322_122_jpg.rf.646bf1909c69d81b9b3aaffad9639547.xml  \n",
            " extracting: /content/Brain_Tumor_detection/train/00322_127_jpg.rf.59ceb5873fb1dad4d87d17b301758730.jpg  \n",
            " extracting: /content/Brain_Tumor_detection/train/00322_127_jpg.rf.59ceb5873fb1dad4d87d17b301758730.xml  \n",
            " extracting: /content/Brain_Tumor_detection/train/00322_130_jpg.rf.ce8426d784d1df882fea16f876534880.jpg  \n",
            " extracting: /content/Brain_Tumor_detection/train/00322_130_jpg.rf.ce8426d784d1df882fea16f876534880.xml  \n",
            " extracting: /content/Brain_Tumor_detection/train/00322_134_jpg.rf.7631a33aeb2491efa4635277d4bd5349.jpg  \n",
            " extracting: /content/Brain_Tumor_detection/train/00322_134_jpg.rf.7631a33aeb2491efa4635277d4bd5349.xml  \n",
            " extracting: /content/Brain_Tumor_detection/train/00322_140_jpg.rf.569bf07c0b09730aaa3caf4f4ee7089c.jpg  \n",
            " extracting: /content/Brain_Tumor_detection/train/00322_140_jpg.rf.569bf07c0b09730aaa3caf4f4ee7089c.xml  \n",
            " extracting: /content/Brain_Tumor_detection/train/00322_147_jpg.rf.fc51576cf6ddb41aa347ea934b2bcb50.jpg  \n",
            " extracting: /content/Brain_Tumor_detection/train/00322_147_jpg.rf.fc51576cf6ddb41aa347ea934b2bcb50.xml  \n",
            " extracting: /content/Brain_Tumor_detection/train/00322_153_jpg.rf.9549b20d470eab7e109cd27603cc0c74.jpg  \n",
            " extracting: /content/Brain_Tumor_detection/train/00322_153_jpg.rf.9549b20d470eab7e109cd27603cc0c74.xml  \n",
            " extracting: /content/Brain_Tumor_detection/train/00328_100_jpg.rf.3a992350d25335f4ab5f6ce05bf8ac88.jpg  \n",
            " extracting: /content/Brain_Tumor_detection/train/00328_100_jpg.rf.3a992350d25335f4ab5f6ce05bf8ac88.xml  \n",
            " extracting: /content/Brain_Tumor_detection/train/00328_90_jpg.rf.b5ab3cf15b3bcf88c9a1738548a34594.jpg  \n",
            " extracting: /content/Brain_Tumor_detection/train/00328_90_jpg.rf.b5ab3cf15b3bcf88c9a1738548a34594.xml  \n",
            " extracting: /content/Brain_Tumor_detection/train/00328_94_jpg.rf.b6e1d8d3d647476b5df4d3d4cdc4d0f5.jpg  \n",
            " extracting: /content/Brain_Tumor_detection/train/00328_94_jpg.rf.b6e1d8d3d647476b5df4d3d4cdc4d0f5.xml  \n",
            " extracting: /content/Brain_Tumor_detection/train/00329_87_jpg.rf.e7260cb0c537f1c2db613a40703e0d9b.jpg  \n",
            " extracting: /content/Brain_Tumor_detection/train/00329_87_jpg.rf.e7260cb0c537f1c2db613a40703e0d9b.xml  \n",
            " extracting: /content/Brain_Tumor_detection/train/00329_90_jpg.rf.8852e3ca6d3d9d3ce08b924d9151e6c1.jpg  \n",
            " extracting: /content/Brain_Tumor_detection/train/00329_90_jpg.rf.8852e3ca6d3d9d3ce08b924d9151e6c1.xml  \n",
            " extracting: /content/Brain_Tumor_detection/train/00332_141_jpg.rf.7a7710a943e2717cec03fe5bbdaab9bf.jpg  \n",
            " extracting: /content/Brain_Tumor_detection/train/00332_141_jpg.rf.7a7710a943e2717cec03fe5bbdaab9bf.xml  \n",
            " extracting: /content/Brain_Tumor_detection/train/00332_147_jpg.rf.b3671aa65420d2ba48ac6698d599b765.jpg  \n",
            " extracting: /content/Brain_Tumor_detection/train/00332_147_jpg.rf.b3671aa65420d2ba48ac6698d599b765.xml  \n",
            " extracting: /content/Brain_Tumor_detection/train/00334_101_jpg.rf.a5c0dd63a667d24dfb7b93ded33c87f2.jpg  \n",
            " extracting: /content/Brain_Tumor_detection/train/00334_101_jpg.rf.a5c0dd63a667d24dfb7b93ded33c87f2.xml  \n",
            " extracting: /content/Brain_Tumor_detection/train/00334_108_jpg.rf.e93576d89dbfa14a57c4d5dc5dd3edb5.jpg  \n",
            " extracting: /content/Brain_Tumor_detection/train/00334_108_jpg.rf.e93576d89dbfa14a57c4d5dc5dd3edb5.xml  \n",
            " extracting: /content/Brain_Tumor_detection/train/00334_114_jpg.rf.abe27b0baf9883bd5da4be33264ba342.jpg  \n",
            " extracting: /content/Brain_Tumor_detection/train/00334_114_jpg.rf.abe27b0baf9883bd5da4be33264ba342.xml  \n",
            " extracting: /content/Brain_Tumor_detection/train/00334_120_jpg.rf.d2fbf364fb81f060038c810e1fd2bee1.jpg  \n",
            " extracting: /content/Brain_Tumor_detection/train/00334_120_jpg.rf.d2fbf364fb81f060038c810e1fd2bee1.xml  \n",
            " extracting: /content/Brain_Tumor_detection/train/00334_121_jpg.rf.16e8544ebac79bfd50491556d1a78d04.jpg  \n",
            " extracting: /content/Brain_Tumor_detection/train/00334_121_jpg.rf.16e8544ebac79bfd50491556d1a78d04.xml  \n",
            " extracting: /content/Brain_Tumor_detection/train/00334_91_jpg.rf.a0da51410aa7cd79b9419a94c1f8b9d0.jpg  \n",
            " extracting: /content/Brain_Tumor_detection/train/00334_91_jpg.rf.a0da51410aa7cd79b9419a94c1f8b9d0.xml  \n",
            " extracting: /content/Brain_Tumor_detection/train/00334_95_jpg.rf.ed049d8a0a0b76ab042e4fe568bf39e7.jpg  \n",
            " extracting: /content/Brain_Tumor_detection/train/00334_95_jpg.rf.ed049d8a0a0b76ab042e4fe568bf39e7.xml  \n",
            " extracting: /content/Brain_Tumor_detection/train/00338_15_jpg.rf.5e37fde7eb4c58055dae0288e3ae5f09.jpg  \n",
            " extracting: /content/Brain_Tumor_detection/train/00338_15_jpg.rf.5e37fde7eb4c58055dae0288e3ae5f09.xml  \n",
            " extracting: /content/Brain_Tumor_detection/train/00340_119_jpg.rf.3d91a93dae26bcda1ae1f1dd5367946a.jpg  \n",
            " extracting: /content/Brain_Tumor_detection/train/00340_119_jpg.rf.3d91a93dae26bcda1ae1f1dd5367946a.xml  \n",
            " extracting: /content/Brain_Tumor_detection/train/00340_121_jpg.rf.043dd59a0395a99e86b5b5ad5103b1ef.jpg  \n",
            " extracting: /content/Brain_Tumor_detection/train/00340_121_jpg.rf.043dd59a0395a99e86b5b5ad5103b1ef.xml  \n",
            " extracting: /content/Brain_Tumor_detection/train/00340_126_jpg.rf.3461485c39c0a3c89ad7fec3017234e0.jpg  \n",
            " extracting: /content/Brain_Tumor_detection/train/00340_126_jpg.rf.3461485c39c0a3c89ad7fec3017234e0.xml  \n",
            " extracting: /content/Brain_Tumor_detection/train/00340_128_jpg.rf.8b3697dd0230539d77a6ed2c74ad64f6.jpg  \n",
            " extracting: /content/Brain_Tumor_detection/train/00340_128_jpg.rf.8b3697dd0230539d77a6ed2c74ad64f6.xml  \n",
            " extracting: /content/Brain_Tumor_detection/train/00340_132_jpg.rf.adb4a68d55e36223c809bd48b7782430.jpg  \n",
            " extracting: /content/Brain_Tumor_detection/train/00340_132_jpg.rf.adb4a68d55e36223c809bd48b7782430.xml  \n",
            " extracting: /content/Brain_Tumor_detection/train/00340_138_jpg.rf.716f9a029dd39c04cb6e70b75e933b35.jpg  \n",
            " extracting: /content/Brain_Tumor_detection/train/00340_138_jpg.rf.716f9a029dd39c04cb6e70b75e933b35.xml  \n",
            " extracting: /content/Brain_Tumor_detection/train/00350_126_jpg.rf.3a82e4c75846ce2edb9295d502a7c737.jpg  \n",
            " extracting: /content/Brain_Tumor_detection/train/00350_126_jpg.rf.3a82e4c75846ce2edb9295d502a7c737.xml  \n",
            " extracting: /content/Brain_Tumor_detection/train/00350_128_jpg.rf.52f8b1debefab0061c1f603e9d6d0936.jpg  \n",
            " extracting: /content/Brain_Tumor_detection/train/00350_128_jpg.rf.52f8b1debefab0061c1f603e9d6d0936.xml  \n",
            " extracting: /content/Brain_Tumor_detection/train/00350_132_jpg.rf.22fcd57530ed8035ed66140d73beaf9e.jpg  \n",
            " extracting: /content/Brain_Tumor_detection/train/00350_132_jpg.rf.22fcd57530ed8035ed66140d73beaf9e.xml  \n",
            " extracting: /content/Brain_Tumor_detection/train/00350_135_jpg.rf.c1beb4d2757d1a056b8cb8888411da1e.jpg  \n",
            " extracting: /content/Brain_Tumor_detection/train/00350_135_jpg.rf.c1beb4d2757d1a056b8cb8888411da1e.xml  \n",
            " extracting: /content/Brain_Tumor_detection/train/00350_139_jpg.rf.7f87118db79e19d6752ccad02e250350.jpg  \n",
            " extracting: /content/Brain_Tumor_detection/train/00350_139_jpg.rf.7f87118db79e19d6752ccad02e250350.xml  \n",
            " extracting: /content/Brain_Tumor_detection/train/00350_145_jpg.rf.55be9b8ddede3c4055bb50af84f22599.jpg  \n",
            " extracting: /content/Brain_Tumor_detection/train/00350_145_jpg.rf.55be9b8ddede3c4055bb50af84f22599.xml  \n",
            " extracting: /content/Brain_Tumor_detection/train/00350_151_jpg.rf.6ffbf0e956e22d1dfd8853ec89c81034.jpg  \n",
            " extracting: /content/Brain_Tumor_detection/train/00350_151_jpg.rf.6ffbf0e956e22d1dfd8853ec89c81034.xml  \n",
            " extracting: /content/Brain_Tumor_detection/train/00350_157_jpg.rf.994f266cc3cb2b3b05fa1b5ef22e760c.jpg  \n",
            " extracting: /content/Brain_Tumor_detection/train/00350_157_jpg.rf.994f266cc3cb2b3b05fa1b5ef22e760c.xml  \n",
            " extracting: /content/Brain_Tumor_detection/train/00352_103_jpg.rf.96ee4ba9f586eb832ce568d09369b432.jpg  \n",
            " extracting: /content/Brain_Tumor_detection/train/00352_103_jpg.rf.96ee4ba9f586eb832ce568d09369b432.xml  \n",
            " extracting: /content/Brain_Tumor_detection/train/00352_93_jpg.rf.05f385c0cc91185b8679e1ae78e801e9.jpg  \n",
            " extracting: /content/Brain_Tumor_detection/train/00352_93_jpg.rf.05f385c0cc91185b8679e1ae78e801e9.xml  \n",
            " extracting: /content/Brain_Tumor_detection/train/00352_97_jpg.rf.dce451a0fe73cfc50fb1b351984b323b.jpg  \n",
            " extracting: /content/Brain_Tumor_detection/train/00352_97_jpg.rf.dce451a0fe73cfc50fb1b351984b323b.xml  \n",
            " extracting: /content/Brain_Tumor_detection/train/00359_103_jpg.rf.b98cf779cfcdd8e245959666e6da844f.jpg  \n",
            " extracting: /content/Brain_Tumor_detection/train/00359_103_jpg.rf.b98cf779cfcdd8e245959666e6da844f.xml  \n",
            " extracting: /content/Brain_Tumor_detection/train/00359_109_jpg.rf.f32a6852a4537f2ea46f2b2c498ad40f.jpg  \n",
            " extracting: /content/Brain_Tumor_detection/train/00359_109_jpg.rf.f32a6852a4537f2ea46f2b2c498ad40f.xml  \n",
            " extracting: /content/Brain_Tumor_detection/train/00359_115_jpg.rf.a18e8dbc2389d8210e3390a056c9349e.jpg  \n",
            " extracting: /content/Brain_Tumor_detection/train/00359_115_jpg.rf.a18e8dbc2389d8210e3390a056c9349e.xml  \n",
            " extracting: /content/Brain_Tumor_detection/train/00359_116_jpg.rf.0e8de0db8ab19b36ece5262de4b8c891.jpg  \n",
            " extracting: /content/Brain_Tumor_detection/train/00359_116_jpg.rf.0e8de0db8ab19b36ece5262de4b8c891.xml  \n",
            " extracting: /content/Brain_Tumor_detection/train/00359_121_jpg.rf.f485cfc9daeec90a128f7447c9177057.jpg  \n",
            " extracting: /content/Brain_Tumor_detection/train/00359_121_jpg.rf.f485cfc9daeec90a128f7447c9177057.xml  \n",
            " extracting: /content/Brain_Tumor_detection/train/00359_123_jpg.rf.4129760f2b23b409de651750d0d69135.jpg  \n",
            " extracting: /content/Brain_Tumor_detection/train/00359_123_jpg.rf.4129760f2b23b409de651750d0d69135.xml  \n",
            " extracting: /content/Brain_Tumor_detection/train/00359_97_jpg.rf.72aa8386382f8ae61bf08dc713da6738.jpg  \n",
            " extracting: /content/Brain_Tumor_detection/train/00359_97_jpg.rf.72aa8386382f8ae61bf08dc713da6738.xml  \n",
            " extracting: /content/Brain_Tumor_detection/train/00360_102_jpg.rf.bbf0676b229fd668c56958819ebe864b.jpg  \n",
            " extracting: /content/Brain_Tumor_detection/train/00360_102_jpg.rf.bbf0676b229fd668c56958819ebe864b.xml  \n",
            " extracting: /content/Brain_Tumor_detection/train/00360_87_jpg.rf.8b20090061153ebb541a84a61f068632.jpg  \n",
            " extracting: /content/Brain_Tumor_detection/train/00360_87_jpg.rf.8b20090061153ebb541a84a61f068632.xml  \n",
            " extracting: /content/Brain_Tumor_detection/train/00360_90_jpg.rf.e8d8252c3e33e31c5a77f4678566e1c9.jpg  \n",
            " extracting: /content/Brain_Tumor_detection/train/00360_90_jpg.rf.e8d8252c3e33e31c5a77f4678566e1c9.xml  \n",
            " extracting: /content/Brain_Tumor_detection/train/00360_96_jpg.rf.4b9d1dae27ca960efbb9715736d16d99.jpg  \n",
            " extracting: /content/Brain_Tumor_detection/train/00360_96_jpg.rf.4b9d1dae27ca960efbb9715736d16d99.xml  \n"
          ]
        }
      ]
    },
    {
      "cell_type": "code",
      "source": [
        ""
      ],
      "metadata": {
        "id": "E7ACAvkvDAba"
      },
      "execution_count": null,
      "outputs": []
    },
    {
      "cell_type": "code",
      "source": [
        ""
      ],
      "metadata": {
        "id": "U1XFtOK4DAXO"
      },
      "execution_count": null,
      "outputs": []
    },
    {
      "cell_type": "code",
      "source": [
        ""
      ],
      "metadata": {
        "id": "tln9lPpADAUn"
      },
      "execution_count": null,
      "outputs": []
    },
    {
      "cell_type": "code",
      "source": [
        ""
      ],
      "metadata": {
        "id": "nEaAb5NEDASX"
      },
      "execution_count": null,
      "outputs": []
    },
    {
      "cell_type": "code",
      "source": [
        ""
      ],
      "metadata": {
        "id": "cXh0Q_oKDAPL"
      },
      "execution_count": null,
      "outputs": []
    },
    {
      "cell_type": "code",
      "source": [
        ""
      ],
      "metadata": {
        "id": "HQCOxG4YDAL5"
      },
      "execution_count": null,
      "outputs": []
    },
    {
      "cell_type": "markdown",
      "source": [
        "#Dataset Analysis"
      ],
      "metadata": {
        "id": "T9KeR5yCDSxM"
      }
    },
    {
      "cell_type": "code",
      "source": [
        "train_dir = '/content/Brain_Tumor_detection/train'\n",
        "test_dir  = '/content/Brain_Tumor_detection/test'\n",
        "count = [len(os.listdir(train_dir)),len(os.listdir(test_dir))]\n",
        "Class = ['train','test']"
      ],
      "metadata": {
        "id": "7PtlCaVMDaRC"
      },
      "execution_count": null,
      "outputs": []
    },
    {
      "cell_type": "code",
      "source": [
        "Images = {\n",
        "  \"train\": len(os.listdir(train_dir)),\n",
        "  \"test\": len(os.listdir(test_dir)),\n",
        "        }\n",
        "print(Images)\n",
        "\n",
        "keys = Images.keys()\n",
        "values = Images.values()\n",
        "\n",
        "plt.bar(keys, values)"
      ],
      "metadata": {
        "colab": {
          "base_uri": "https://localhost:8080/",
          "height": 301
        },
        "id": "OIJoqT8BGsi4",
        "outputId": "e52960bd-085d-4080-ed55-5c73fcb241a3"
      },
      "execution_count": null,
      "outputs": [
        {
          "output_type": "stream",
          "name": "stdout",
          "text": [
            "{'train': 592, 'test': 150}\n"
          ]
        },
        {
          "output_type": "execute_result",
          "data": {
            "text/plain": [
              "<BarContainer object of 2 artists>"
            ]
          },
          "metadata": {},
          "execution_count": 9
        },
        {
          "output_type": "display_data",
          "data": {
            "image/png": "[encoded data removed]",
            "text/plain": [
              "<Figure size 432x288 with 1 Axes>"
            ]
          },
          "metadata": {
            "needs_background": "light"
          }
        }
      ]
    },
    {
      "cell_type": "code",
      "source": [
        ""
      ],
      "metadata": {
        "id": "M_ph11UdDaNT"
      },
      "execution_count": null,
      "outputs": []
    },
    {
      "cell_type": "code",
      "source": [
        ""
      ],
      "metadata": {
        "id": "NO2wMcx4DaLJ"
      },
      "execution_count": null,
      "outputs": []
    },
    {
      "cell_type": "code",
      "source": [
        ""
      ],
      "metadata": {
        "id": "g4JMilrHDaJA"
      },
      "execution_count": null,
      "outputs": []
    },
    {
      "cell_type": "code",
      "source": [
        ""
      ],
      "metadata": {
        "id": "x0tw0ry2DaHN"
      },
      "execution_count": null,
      "outputs": []
    },
    {
      "cell_type": "code",
      "source": [
        ""
      ],
      "metadata": {
        "id": "69BB_NlpDaEy"
      },
      "execution_count": null,
      "outputs": []
    },
    {
      "cell_type": "code",
      "source": [
        ""
      ],
      "metadata": {
        "id": "YRUo6AIbDaCY"
      },
      "execution_count": null,
      "outputs": []
    },
    {
      "cell_type": "code",
      "source": [
        ""
      ],
      "metadata": {
        "id": "P6j5L4zeDaAS"
      },
      "execution_count": null,
      "outputs": []
    },
    {
      "cell_type": "code",
      "source": [
        ""
      ],
      "metadata": {
        "id": "pPpLBzOnDZ93"
      },
      "execution_count": null,
      "outputs": []
    },
    {
      "cell_type": "code",
      "source": [
        ""
      ],
      "metadata": {
        "id": "PsPTugo9DZ7y"
      },
      "execution_count": null,
      "outputs": []
    },
    {
      "cell_type": "code",
      "source": [
        ""
      ],
      "metadata": {
        "id": "zpURIl_ZDZ6B"
      },
      "execution_count": null,
      "outputs": []
    },
    {
      "cell_type": "code",
      "source": [
        ""
      ],
      "metadata": {
        "id": "M0f78BYHDZ3u"
      },
      "execution_count": null,
      "outputs": []
    },
    {
      "cell_type": "code",
      "source": [
        ""
      ],
      "metadata": {
        "id": "lFbpFA_JDZ1i"
      },
      "execution_count": null,
      "outputs": []
    },
    {
      "cell_type": "code",
      "source": [
        ""
      ],
      "metadata": {
        "id": "tN12Bu5-DZzY"
      },
      "execution_count": null,
      "outputs": []
    },
    {
      "cell_type": "code",
      "source": [
        ""
      ],
      "metadata": {
        "id": "XrXLzhzFDZxF"
      },
      "execution_count": null,
      "outputs": []
    },
    {
      "cell_type": "code",
      "source": [
        ""
      ],
      "metadata": {
        "id": "CQ2i4llnDZuv"
      },
      "execution_count": null,
      "outputs": []
    },
    {
      "cell_type": "code",
      "source": [
        ""
      ],
      "metadata": {
        "id": "vx7ot-NiDZrN"
      },
      "execution_count": null,
      "outputs": []
    },
    {
      "cell_type": "markdown",
      "source": [
        "#Data Visualisation"
      ],
      "metadata": {
        "id": "jSh5H4iiIpyY"
      }
    },
    {
      "cell_type": "code",
      "source": [
        "train = os.listdir(\"/content/Brain_Tumor_detection/images/train\")"
      ],
      "metadata": {
        "id": "oxbdtV4kJqxd"
      },
      "execution_count": null,
      "outputs": []
    },
    {
      "cell_type": "code",
      "source": [
        "# these two variables are \"the parameters\" of this cell\n",
        "w = 6\n",
        "h = 6\n",
        "\n",
        "# this function uses the open, resize and array functions we have seen before\n",
        "load_img = lambda filename: np.array(PIL.Image.open(f\"/content/Brain_Tumor_detection/images/train/{filename}\").resize((200, 200)))\n",
        "\n",
        "_, axes_list = plt.subplots(h, w, figsize=(2*w, 2*h)) # define a grid of (w, h)\n",
        "\n",
        "for axes in axes_list:\n",
        "    for ax in axes:\n",
        "        ax.axis('off')\n",
        "        img = np.random.choice(train_dir) # take a random train filename (like 000c34352.jpg)\n",
        "        ax.imshow(load_img(img)) # load and show\n",
        "        ax.set_title(img)"
      ],
      "metadata": {
        "id": "z4GsZNbSDZoh"
      },
      "execution_count": null,
      "outputs": []
    },
    {
      "cell_type": "code",
      "source": [
        "images = [cv2.imread(file) for file in glob.glob(\"/content/Brain_Tumor_detection/images/train*.jpg\")]\n",
        "images"
      ],
      "metadata": {
        "colab": {
          "base_uri": "https://localhost:8080/"
        },
        "id": "3RvhK94oDZj8",
        "outputId": "b0aa39ec-c62b-409d-bf17-7fe0d03c490d"
      },
      "execution_count": null,
      "outputs": [
        {
          "output_type": "execute_result",
          "data": {
            "text/plain": [
              "[]"
            ]
          },
          "metadata": {},
          "execution_count": 34
        }
      ]
    },
    {
      "cell_type": "code",
      "source": [
        "path = glob.glob(\"/content/Brain_Tumor_detection/images/train*.jpg\")\n",
        "cv_img = []\n",
        "for img in path:\n",
        "    n = cv.imread(img)\n",
        "    cv_img.append(n)\n",
        "cv2.imread(cv_img)"
      ],
      "metadata": {
        "id": "Gklw2TdwDZeL"
      },
      "execution_count": null,
      "outputs": []
    },
    {
      "cell_type": "code",
      "source": [
        ""
      ],
      "metadata": {
        "id": "MkWHOnMPDZJQ"
      },
      "execution_count": null,
      "outputs": []
    },
    {
      "cell_type": "markdown",
      "source": [
        "# Tensorflow Object Detection"
      ],
      "metadata": {
        "id": "FLHkfqoYO-tu"
      }
    },
    {
      "cell_type": "markdown",
      "source": [
        "##INSTALLATION"
      ],
      "metadata": {
        "id": "qtWfxQ3n6EWK"
      }
    },
    {
      "cell_type": "code",
      "source": [
        "cd /content/"
      ],
      "metadata": {
        "colab": {
          "base_uri": "https://localhost:8080/"
        },
        "id": "VMrjQEiblByw",
        "outputId": "5433fb45-d2b8-4e12-d8c5-103acbb44c89"
      },
      "execution_count": null,
      "outputs": [
        {
          "output_type": "stream",
          "name": "stdout",
          "text": [
            "/content\n"
          ]
        }
      ]
    },
    {
      "cell_type": "code",
      "source": [
        "!pip install tensorflow-gpu"
      ],
      "metadata": {
        "collapsed": true,
        "colab": {
          "base_uri": "https://localhost:8080/",
          "height": 1000
        },
        "id": "hskBnKJLI-Nr",
        "outputId": "ba80393b-07d1-4681-ba10-1d18fc0b8cae"
      },
      "execution_count": 6,
      "outputs": [
        {
          "output_type": "stream",
          "name": "stdout",
          "text": [
            "Requirement already satisfied: tensorflow-gpu in /usr/local/lib/python3.7/dist-packages (2.8.0)\n",
            "Requirement already satisfied: wrapt>=1.11.0 in /usr/local/lib/python3.7/dist-packages (from tensorflow-gpu) (1.13.3)\n",
            "Requirement already satisfied: grpcio<2.0,>=1.24.3 in /usr/local/lib/python3.7/dist-packages (from tensorflow-gpu) (1.43.0)\n",
            "Requirement already satisfied: setuptools in /usr/local/lib/python3.7/dist-packages (from tensorflow-gpu) (57.4.0)\n",
            "Requirement already satisfied: google-pasta>=0.1.1 in /usr/local/lib/python3.7/dist-packages (from tensorflow-gpu) (0.2.0)\n",
            "Requirement already satisfied: termcolor>=1.1.0 in /usr/local/lib/python3.7/dist-packages (from tensorflow-gpu) (1.1.0)\n",
            "Requirement already satisfied: six>=1.12.0 in /usr/local/lib/python3.7/dist-packages (from tensorflow-gpu) (1.15.0)\n",
            "Requirement already satisfied: absl-py>=0.4.0 in /usr/local/lib/python3.7/dist-packages (from tensorflow-gpu) (1.0.0)\n",
            "Collecting keras<2.9,>=2.8.0rc0\n",
            "  Downloading keras-2.8.0-py2.py3-none-any.whl (1.4 MB)\n",
            "\u001b[K     |████████████████████████████████| 1.4 MB 5.5 MB/s \n",
            "\u001b[?25hRequirement already satisfied: tf-estimator-nightly==2.8.0.dev2021122109 in /usr/local/lib/python3.7/dist-packages (from tensorflow-gpu) (2.8.0.dev2021122109)\n",
            "Requirement already satisfied: astunparse>=1.6.0 in /usr/local/lib/python3.7/dist-packages (from tensorflow-gpu) (1.6.3)\n",
            "Requirement already satisfied: typing-extensions>=3.6.6 in /usr/local/lib/python3.7/dist-packages (from tensorflow-gpu) (3.10.0.2)\n",
            "Requirement already satisfied: h5py>=2.9.0 in /usr/local/lib/python3.7/dist-packages (from tensorflow-gpu) (3.1.0)\n",
            "Requirement already satisfied: tensorflow-io-gcs-filesystem>=0.23.1 in /usr/local/lib/python3.7/dist-packages (from tensorflow-gpu) (0.24.0)\n",
            "Requirement already satisfied: tensorboard<2.9,>=2.8 in /usr/local/lib/python3.7/dist-packages (from tensorflow-gpu) (2.8.0)\n",
            "Requirement already satisfied: gast>=0.2.1 in /usr/local/lib/python3.7/dist-packages (from tensorflow-gpu) (0.4.0)\n",
            "Requirement already satisfied: keras-preprocessing>=1.1.1 in /usr/local/lib/python3.7/dist-packages (from tensorflow-gpu) (1.1.2)\n",
            "Requirement already satisfied: flatbuffers>=1.12 in /usr/local/lib/python3.7/dist-packages (from tensorflow-gpu) (2.0)\n",
            "Requirement already satisfied: protobuf>=3.9.2 in /usr/local/lib/python3.7/dist-packages (from tensorflow-gpu) (3.19.4)\n",
            "Requirement already satisfied: libclang>=9.0.1 in /usr/local/lib/python3.7/dist-packages (from tensorflow-gpu) (13.0.0)\n",
            "Requirement already satisfied: opt-einsum>=2.3.2 in /usr/local/lib/python3.7/dist-packages (from tensorflow-gpu) (3.3.0)\n",
            "Requirement already satisfied: numpy>=1.20 in /usr/local/lib/python3.7/dist-packages (from tensorflow-gpu) (1.21.5)\n",
            "Requirement already satisfied: wheel<1.0,>=0.23.0 in /usr/local/lib/python3.7/dist-packages (from astunparse>=1.6.0->tensorflow-gpu) (0.37.1)\n",
            "Requirement already satisfied: cached-property in /usr/local/lib/python3.7/dist-packages (from h5py>=2.9.0->tensorflow-gpu) (1.5.2)\n",
            "Requirement already satisfied: requests<3,>=2.21.0 in /usr/local/lib/python3.7/dist-packages (from tensorboard<2.9,>=2.8->tensorflow-gpu) (2.27.1)\n",
            "Requirement already satisfied: tensorboard-data-server<0.7.0,>=0.6.0 in /usr/local/lib/python3.7/dist-packages (from tensorboard<2.9,>=2.8->tensorflow-gpu) (0.6.1)\n",
            "Requirement already satisfied: google-auth-oauthlib<0.5,>=0.4.1 in /usr/local/lib/python3.7/dist-packages (from tensorboard<2.9,>=2.8->tensorflow-gpu) (0.4.6)\n",
            "Requirement already satisfied: werkzeug>=0.11.15 in /usr/local/lib/python3.7/dist-packages (from tensorboard<2.9,>=2.8->tensorflow-gpu) (1.0.1)\n",
            "Requirement already satisfied: markdown>=2.6.8 in /usr/local/lib/python3.7/dist-packages (from tensorboard<2.9,>=2.8->tensorflow-gpu) (3.3.6)\n",
            "Requirement already satisfied: tensorboard-plugin-wit>=1.6.0 in /usr/local/lib/python3.7/dist-packages (from tensorboard<2.9,>=2.8->tensorflow-gpu) (1.8.1)\n",
            "Requirement already satisfied: google-auth<3,>=1.6.3 in /usr/local/lib/python3.7/dist-packages (from tensorboard<2.9,>=2.8->tensorflow-gpu) (1.35.0)\n",
            "Requirement already satisfied: pyasn1-modules>=0.2.1 in /usr/local/lib/python3.7/dist-packages (from google-auth<3,>=1.6.3->tensorboard<2.9,>=2.8->tensorflow-gpu) (0.2.8)\n",
            "Requirement already satisfied: rsa<5,>=3.1.4 in /usr/local/lib/python3.7/dist-packages (from google-auth<3,>=1.6.3->tensorboard<2.9,>=2.8->tensorflow-gpu) (4.8)\n",
            "Requirement already satisfied: cachetools<5.0,>=2.0.0 in /usr/local/lib/python3.7/dist-packages (from google-auth<3,>=1.6.3->tensorboard<2.9,>=2.8->tensorflow-gpu) (4.2.4)\n",
            "Requirement already satisfied: requests-oauthlib>=0.7.0 in /usr/local/lib/python3.7/dist-packages (from google-auth-oauthlib<0.5,>=0.4.1->tensorboard<2.9,>=2.8->tensorflow-gpu) (1.3.1)\n",
            "Requirement already satisfied: importlib-metadata>=4.4 in /usr/local/lib/python3.7/dist-packages (from markdown>=2.6.8->tensorboard<2.9,>=2.8->tensorflow-gpu) (4.11.1)\n",
            "Requirement already satisfied: zipp>=0.5 in /usr/local/lib/python3.7/dist-packages (from importlib-metadata>=4.4->markdown>=2.6.8->tensorboard<2.9,>=2.8->tensorflow-gpu) (3.7.0)\n",
            "Requirement already satisfied: pyasn1<0.5.0,>=0.4.6 in /usr/local/lib/python3.7/dist-packages (from pyasn1-modules>=0.2.1->google-auth<3,>=1.6.3->tensorboard<2.9,>=2.8->tensorflow-gpu) (0.4.8)\n",
            "Requirement already satisfied: charset-normalizer~=2.0.0 in /usr/local/lib/python3.7/dist-packages (from requests<3,>=2.21.0->tensorboard<2.9,>=2.8->tensorflow-gpu) (2.0.12)\n",
            "Requirement already satisfied: certifi>=2017.4.17 in /usr/local/lib/python3.7/dist-packages (from requests<3,>=2.21.0->tensorboard<2.9,>=2.8->tensorflow-gpu) (2021.10.8)\n",
            "Requirement already satisfied: urllib3<1.27,>=1.21.1 in /usr/local/lib/python3.7/dist-packages (from requests<3,>=2.21.0->tensorboard<2.9,>=2.8->tensorflow-gpu) (1.24.3)\n",
            "Requirement already satisfied: idna<4,>=2.5 in /usr/local/lib/python3.7/dist-packages (from requests<3,>=2.21.0->tensorboard<2.9,>=2.8->tensorflow-gpu) (2.10)\n",
            "Requirement already satisfied: oauthlib>=3.0.0 in /usr/local/lib/python3.7/dist-packages (from requests-oauthlib>=0.7.0->google-auth-oauthlib<0.5,>=0.4.1->tensorboard<2.9,>=2.8->tensorflow-gpu) (3.2.0)\n",
            "Installing collected packages: keras\n",
            "  Attempting uninstall: keras\n",
            "    Found existing installation: keras 2.7.0\n",
            "    Uninstalling keras-2.7.0:\n",
            "      Successfully uninstalled keras-2.7.0\n",
            "\u001b[31mERROR: pip's dependency resolver does not currently take into account all the packages that are installed. This behaviour is the source of the following dependency conflicts.\n",
            "tensorflow 2.7.0 requires keras<2.8,>=2.7.0rc0, but you have keras 2.8.0 which is incompatible.\n",
            "tensorflow-text 2.8.1 requires tensorflow<2.9,>=2.8.0, but you have tensorflow 2.7.0 which is incompatible.\u001b[0m\n",
            "Successfully installed keras-2.8.0\n"
          ]
        },
        {
          "output_type": "display_data",
          "data": {
            "application/vnd.colab-display-data+json": {
              "pip_warning": {
                "packages": [
                  "keras"
                ]
              }
            }
          },
          "metadata": {}
        }
      ]
    },
    {
      "cell_type": "code",
      "source": [
        "import tensorflow as tf\n",
        "print(tf.__version__)"
      ],
      "metadata": {
        "colab": {
          "base_uri": "https://localhost:8080/"
        },
        "id": "7-wZ0mDaPGvJ",
        "outputId": "f6af3bef-9719-4867-b44d-24a9d6604c5b"
      },
      "execution_count": 1,
      "outputs": [
        {
          "output_type": "stream",
          "name": "stdout",
          "text": [
            "2.8.0\n"
          ]
        }
      ]
    },
    {
      "cell_type": "code",
      "source": [
        "!git clone https://github.com/Subhash-269/models.git"
      ],
      "metadata": {
        "colab": {
          "base_uri": "https://localhost:8080/"
        },
        "id": "Ai6yheuWPGs4",
        "outputId": "41849fdf-73ac-4f02-c9b9-8dc7e435ab1d"
      },
      "execution_count": null,
      "outputs": [
        {
          "output_type": "stream",
          "name": "stdout",
          "text": [
            "Cloning into 'models'...\n",
            "remote: Enumerating objects: 69341, done.\u001b[K\n",
            "remote: Total 69341 (delta 0), reused 0 (delta 0), pack-reused 69341\u001b[K\n",
            "Receiving objects: 100% (69341/69341), 577.33 MiB | 29.24 MiB/s, done.\n",
            "Resolving deltas: 100% (48860/48860), done.\n"
          ]
        }
      ]
    },
    {
      "cell_type": "code",
      "source": [
        "cd '/content/models/research'\n"
      ],
      "metadata": {
        "colab": {
          "base_uri": "https://localhost:8080/"
        },
        "id": "ocQ2OChaPGps",
        "outputId": "674f5c67-c8c4-42a0-e030-46101946eb9c"
      },
      "execution_count": null,
      "outputs": [
        {
          "output_type": "stream",
          "name": "stdout",
          "text": [
            "/content/models/research\n"
          ]
        }
      ]
    },
    {
      "cell_type": "code",
      "source": [
        "!protoc object_detection/protos/*.proto --python_out=."
      ],
      "metadata": {
        "id": "PRMVi0GvPGnS"
      },
      "execution_count": null,
      "outputs": []
    },
    {
      "cell_type": "code",
      "source": [
        "!git clone https://github.com/cocodataset/cocoapi.git"
      ],
      "metadata": {
        "colab": {
          "base_uri": "https://localhost:8080/"
        },
        "id": "dk4zHnmSPGib",
        "outputId": "5ffb0af3-cee9-4062-b733-c4b41daa4224"
      },
      "execution_count": null,
      "outputs": [
        {
          "output_type": "stream",
          "name": "stdout",
          "text": [
            "Cloning into 'cocoapi'...\n",
            "remote: Enumerating objects: 975, done.\u001b[K\n",
            "remote: Total 975 (delta 0), reused 0 (delta 0), pack-reused 975\u001b[K\n",
            "Receiving objects: 100% (975/975), 11.72 MiB | 22.57 MiB/s, done.\n",
            "Resolving deltas: 100% (576/576), done.\n"
          ]
        }
      ]
    },
    {
      "cell_type": "code",
      "source": [
        "cd cocoapi/PythonAPI"
      ],
      "metadata": {
        "colab": {
          "base_uri": "https://localhost:8080/"
        },
        "id": "xjoz9GYbPGf1",
        "outputId": "5b181576-747f-4c77-a9c0-3d8f129b3cb0"
      },
      "execution_count": null,
      "outputs": [
        {
          "output_type": "stream",
          "name": "stdout",
          "text": [
            "/content/models/research/cocoapi/PythonAPI\n"
          ]
        }
      ]
    },
    {
      "cell_type": "code",
      "source": [
        "!make"
      ],
      "metadata": {
        "colab": {
          "base_uri": "https://localhost:8080/"
        },
        "collapsed": true,
        "id": "pUFOfI7SPGdH",
        "outputId": "41272bd4-09aa-479e-ffc1-8ce2dd48f194"
      },
      "execution_count": null,
      "outputs": [
        {
          "output_type": "stream",
          "name": "stdout",
          "text": [
            "python setup.py build_ext --inplace\n",
            "running build_ext\n",
            "cythoning pycocotools/_mask.pyx to pycocotools/_mask.c\n",
            "/usr/local/lib/python3.7/dist-packages/Cython/Compiler/Main.py:369: FutureWarning: Cython directive 'language_level' not set, using 2 for now (Py2). This will change in a later release! File: /content/models/research/cocoapi/PythonAPI/pycocotools/_mask.pyx\n",
            "  tree = Parsing.p_module(s, pxd, full_module_name)\n",
            "building 'pycocotools._mask' extension\n",
            "creating build\n",
            "creating build/common\n",
            "creating build/temp.linux-x86_64-3.7\n",
            "creating build/temp.linux-x86_64-3.7/pycocotools\n",
            "x86_64-linux-gnu-gcc -pthread -Wno-unused-result -Wsign-compare -DNDEBUG -g -fwrapv -O2 -Wall -g -fdebug-prefix-map=/build/python3.7-pX47U3/python3.7-3.7.12=. -fstack-protector-strong -Wformat -Werror=format-security -g -fdebug-prefix-map=/build/python3.7-pX47U3/python3.7-3.7.12=. -fstack-protector-strong -Wformat -Werror=format-security -Wdate-time -D_FORTIFY_SOURCE=2 -fPIC -I/usr/local/lib/python3.7/dist-packages/numpy/core/include -I../common -I/usr/include/python3.7m -c ../common/maskApi.c -o build/temp.linux-x86_64-3.7/../common/maskApi.o -Wno-cpp -Wno-unused-function -std=c99\n",
            "\u001b[01m\u001b[K../common/maskApi.c:\u001b[m\u001b[K In function ‘\u001b[01m\u001b[KrleDecode\u001b[m\u001b[K’:\n",
            "\u001b[01m\u001b[K../common/maskApi.c:46:7:\u001b[m\u001b[K \u001b[01;35m\u001b[Kwarning: \u001b[m\u001b[Kthis ‘\u001b[01m\u001b[Kfor\u001b[m\u001b[K’ clause does not guard... [\u001b[01;35m\u001b[K-Wmisleading-indentation\u001b[m\u001b[K]\n",
            "       \u001b[01;35m\u001b[Kfor\u001b[m\u001b[K( k=0; k<R[i].cnts[j]; k++ ) *(M++)=v; v=!v; }}\n",
            "       \u001b[01;35m\u001b[K^~~\u001b[m\u001b[K\n",
            "\u001b[01m\u001b[K../common/maskApi.c:46:49:\u001b[m\u001b[K \u001b[01;36m\u001b[Knote: \u001b[m\u001b[K...this statement, but the latter is misleadingly indented as if it were guarded by the ‘\u001b[01m\u001b[Kfor\u001b[m\u001b[K’\n",
            "       for( k=0; k<R[i].cnts[j]; k++ ) *(M++)=v; \u001b[01;36m\u001b[Kv\u001b[m\u001b[K=!v; }}\n",
            "                                                 \u001b[01;36m\u001b[K^\u001b[m\u001b[K\n",
            "\u001b[01m\u001b[K../common/maskApi.c:\u001b[m\u001b[K In function ‘\u001b[01m\u001b[KrleFrPoly\u001b[m\u001b[K’:\n",
            "\u001b[01m\u001b[K../common/maskApi.c:166:3:\u001b[m\u001b[K \u001b[01;35m\u001b[Kwarning: \u001b[m\u001b[Kthis ‘\u001b[01m\u001b[Kfor\u001b[m\u001b[K’ clause does not guard... [\u001b[01;35m\u001b[K-Wmisleading-indentation\u001b[m\u001b[K]\n",
            "   \u001b[01;35m\u001b[Kfor\u001b[m\u001b[K(j=0; j<k; j++) x[j]=(int)(scale*xy[j*2+0]+.5); x[k]=x[0];\n",
            "   \u001b[01;35m\u001b[K^~~\u001b[m\u001b[K\n",
            "\u001b[01m\u001b[K../common/maskApi.c:166:54:\u001b[m\u001b[K \u001b[01;36m\u001b[Knote: \u001b[m\u001b[K...this statement, but the latter is misleadingly indented as if it were guarded by the ‘\u001b[01m\u001b[Kfor\u001b[m\u001b[K’\n",
            "   for(j=0; j<k; j++) x[j]=(int)(scale*xy[j*2+0]+.5); \u001b[01;36m\u001b[Kx\u001b[m\u001b[K[k]=x[0];\n",
            "                                                      \u001b[01;36m\u001b[K^\u001b[m\u001b[K\n",
            "\u001b[01m\u001b[K../common/maskApi.c:167:3:\u001b[m\u001b[K \u001b[01;35m\u001b[Kwarning: \u001b[m\u001b[Kthis ‘\u001b[01m\u001b[Kfor\u001b[m\u001b[K’ clause does not guard... [\u001b[01;35m\u001b[K-Wmisleading-indentation\u001b[m\u001b[K]\n",
            "   \u001b[01;35m\u001b[Kfor\u001b[m\u001b[K(j=0; j<k; j++) y[j]=(int)(scale*xy[j*2+1]+.5); y[k]=y[0];\n",
            "   \u001b[01;35m\u001b[K^~~\u001b[m\u001b[K\n",
            "\u001b[01m\u001b[K../common/maskApi.c:167:54:\u001b[m\u001b[K \u001b[01;36m\u001b[Knote: \u001b[m\u001b[K...this statement, but the latter is misleadingly indented as if it were guarded by the ‘\u001b[01m\u001b[Kfor\u001b[m\u001b[K’\n",
            "   for(j=0; j<k; j++) y[j]=(int)(scale*xy[j*2+1]+.5); \u001b[01;36m\u001b[Ky\u001b[m\u001b[K[k]=y[0];\n",
            "                                                      \u001b[01;36m\u001b[K^\u001b[m\u001b[K\n",
            "\u001b[01m\u001b[K../common/maskApi.c:\u001b[m\u001b[K In function ‘\u001b[01m\u001b[KrleToString\u001b[m\u001b[K’:\n",
            "\u001b[01m\u001b[K../common/maskApi.c:212:7:\u001b[m\u001b[K \u001b[01;35m\u001b[Kwarning: \u001b[m\u001b[Kthis ‘\u001b[01m\u001b[Kif\u001b[m\u001b[K’ clause does not guard... [\u001b[01;35m\u001b[K-Wmisleading-indentation\u001b[m\u001b[K]\n",
            "       \u001b[01;35m\u001b[Kif\u001b[m\u001b[K(more) c |= 0x20; c+=48; s[p++]=c;\n",
            "       \u001b[01;35m\u001b[K^~\u001b[m\u001b[K\n",
            "\u001b[01m\u001b[K../common/maskApi.c:212:27:\u001b[m\u001b[K \u001b[01;36m\u001b[Knote: \u001b[m\u001b[K...this statement, but the latter is misleadingly indented as if it were guarded by the ‘\u001b[01m\u001b[Kif\u001b[m\u001b[K’\n",
            "       if(more) c |= 0x20; \u001b[01;36m\u001b[Kc\u001b[m\u001b[K+=48; s[p++]=c;\n",
            "                           \u001b[01;36m\u001b[K^\u001b[m\u001b[K\n",
            "\u001b[01m\u001b[K../common/maskApi.c:\u001b[m\u001b[K In function ‘\u001b[01m\u001b[KrleFrString\u001b[m\u001b[K’:\n",
            "\u001b[01m\u001b[K../common/maskApi.c:220:3:\u001b[m\u001b[K \u001b[01;35m\u001b[Kwarning: \u001b[m\u001b[Kthis ‘\u001b[01m\u001b[Kwhile\u001b[m\u001b[K’ clause does not guard... [\u001b[01;35m\u001b[K-Wmisleading-indentation\u001b[m\u001b[K]\n",
            "   \u001b[01;35m\u001b[Kwhile\u001b[m\u001b[K( s[m] ) m++; cnts=malloc(sizeof(uint)*m); m=0;\n",
            "   \u001b[01;35m\u001b[K^~~~~\u001b[m\u001b[K\n",
            "\u001b[01m\u001b[K../common/maskApi.c:220:22:\u001b[m\u001b[K \u001b[01;36m\u001b[Knote: \u001b[m\u001b[K...this statement, but the latter is misleadingly indented as if it were guarded by the ‘\u001b[01m\u001b[Kwhile\u001b[m\u001b[K’\n",
            "   while( s[m] ) m++; \u001b[01;36m\u001b[Kcnts\u001b[m\u001b[K=malloc(sizeof(uint)*m); m=0;\n",
            "                      \u001b[01;36m\u001b[K^~~~\u001b[m\u001b[K\n",
            "\u001b[01m\u001b[K../common/maskApi.c:228:5:\u001b[m\u001b[K \u001b[01;35m\u001b[Kwarning: \u001b[m\u001b[Kthis ‘\u001b[01m\u001b[Kif\u001b[m\u001b[K’ clause does not guard... [\u001b[01;35m\u001b[K-Wmisleading-indentation\u001b[m\u001b[K]\n",
            "     \u001b[01;35m\u001b[Kif\u001b[m\u001b[K(m>2) x+=(long) cnts[m-2]; cnts[m++]=(uint) x;\n",
            "     \u001b[01;35m\u001b[K^~\u001b[m\u001b[K\n",
            "\u001b[01m\u001b[K../common/maskApi.c:228:34:\u001b[m\u001b[K \u001b[01;36m\u001b[Knote: \u001b[m\u001b[K...this statement, but the latter is misleadingly indented as if it were guarded by the ‘\u001b[01m\u001b[Kif\u001b[m\u001b[K’\n",
            "     if(m>2) x+=(long) cnts[m-2]; \u001b[01;36m\u001b[Kcnts\u001b[m\u001b[K[m++]=(uint) x;\n",
            "                                  \u001b[01;36m\u001b[K^~~~\u001b[m\u001b[K\n",
            "\u001b[01m\u001b[K../common/maskApi.c:\u001b[m\u001b[K In function ‘\u001b[01m\u001b[KrleToBbox\u001b[m\u001b[K’:\n",
            "\u001b[01m\u001b[K../common/maskApi.c:141:31:\u001b[m\u001b[K \u001b[01;35m\u001b[Kwarning: \u001b[m\u001b[K‘\u001b[01m\u001b[Kxp\u001b[m\u001b[K’ may be used uninitialized in this function [\u001b[01;35m\u001b[K-Wmaybe-uninitialized\u001b[m\u001b[K]\n",
            "       if(j%2==0) xp=x; else if\u001b[01;35m\u001b[K(\u001b[m\u001b[Kxp<x) { ys=0; ye=h-1; }\n",
            "                               \u001b[01;35m\u001b[K^\u001b[m\u001b[K\n",
            "x86_64-linux-gnu-gcc -pthread -Wno-unused-result -Wsign-compare -DNDEBUG -g -fwrapv -O2 -Wall -g -fdebug-prefix-map=/build/python3.7-pX47U3/python3.7-3.7.12=. -fstack-protector-strong -Wformat -Werror=format-security -g -fdebug-prefix-map=/build/python3.7-pX47U3/python3.7-3.7.12=. -fstack-protector-strong -Wformat -Werror=format-security -Wdate-time -D_FORTIFY_SOURCE=2 -fPIC -I/usr/local/lib/python3.7/dist-packages/numpy/core/include -I../common -I/usr/include/python3.7m -c pycocotools/_mask.c -o build/temp.linux-x86_64-3.7/pycocotools/_mask.o -Wno-cpp -Wno-unused-function -std=c99\n",
            "creating build/lib.linux-x86_64-3.7\n",
            "creating build/lib.linux-x86_64-3.7/pycocotools\n",
            "x86_64-linux-gnu-gcc -pthread -shared -Wl,-O1 -Wl,-Bsymbolic-functions -Wl,-Bsymbolic-functions -Wl,-z,relro -Wl,-Bsymbolic-functions -Wl,-z,relro -g -fdebug-prefix-map=/build/python3.7-pX47U3/python3.7-3.7.12=. -fstack-protector-strong -Wformat -Werror=format-security -Wdate-time -D_FORTIFY_SOURCE=2 build/temp.linux-x86_64-3.7/../common/maskApi.o build/temp.linux-x86_64-3.7/pycocotools/_mask.o -o build/lib.linux-x86_64-3.7/pycocotools/_mask.cpython-37m-x86_64-linux-gnu.so\n",
            "copying build/lib.linux-x86_64-3.7/pycocotools/_mask.cpython-37m-x86_64-linux-gnu.so -> pycocotools\n",
            "rm -rf build\n"
          ]
        }
      ]
    },
    {
      "cell_type": "code",
      "source": [
        "cp -r pycocotools /content/models/research"
      ],
      "metadata": {
        "id": "rfG5EcOsPGaI"
      },
      "execution_count": null,
      "outputs": []
    },
    {
      "cell_type": "markdown",
      "source": [
        "#Install the Object Detection API"
      ],
      "metadata": {
        "id": "KRalEmlwXHV4"
      }
    },
    {
      "cell_type": "code",
      "source": [
        "cd /content/models/research"
      ],
      "metadata": {
        "colab": {
          "base_uri": "https://localhost:8080/"
        },
        "id": "S05gjUHQPGOb",
        "outputId": "753951ed-aa7c-413e-f328-a28162490de5"
      },
      "execution_count": null,
      "outputs": [
        {
          "output_type": "stream",
          "name": "stdout",
          "text": [
            "/content/models/research\n"
          ]
        }
      ]
    },
    {
      "cell_type": "code",
      "source": [
        "cp object_detection/packages/tf2/setup.py ."
      ],
      "metadata": {
        "id": "Nrn7pIsyXjgu"
      },
      "execution_count": null,
      "outputs": []
    },
    {
      "cell_type": "code",
      "source": [
        "!python -m pip install ."
      ],
      "metadata": {
        "colab": {
          "base_uri": "https://localhost:8080/"
        },
        "collapsed": true,
        "id": "bcBVZw6qXy3S",
        "outputId": "8e134b26-5be3-491d-a3ef-e4f56a7b37b0"
      },
      "execution_count": null,
      "outputs": [
        {
          "output_type": "stream",
          "name": "stdout",
          "text": [
            "Processing /content/models/research\n",
            "\u001b[33m  DEPRECATION: A future pip version will change local packages to be built in-place without first copying to a temporary directory. We recommend you use --use-feature=in-tree-build to test your packages with this new behavior before it becomes the default.\n",
            "   pip 21.3 will remove support for this functionality. You can find discussion regarding this at https://github.com/pypa/pip/issues/7555.\u001b[0m\n",
            "Collecting avro-python3\n",
            "  Downloading avro-python3-1.10.2.tar.gz (38 kB)\n",
            "Collecting apache-beam\n",
            "  Downloading apache_beam-2.36.0-cp37-cp37m-manylinux2010_x86_64.whl (10.1 MB)\n",
            "\u001b[K     |████████████████████████████████| 10.1 MB 8.6 MB/s \n",
            "\u001b[?25hRequirement already satisfied: pillow in /usr/local/lib/python3.7/dist-packages (from object-detection==0.1) (7.1.2)\n",
            "Requirement already satisfied: lxml in /usr/local/lib/python3.7/dist-packages (from object-detection==0.1) (4.2.6)\n",
            "Requirement already satisfied: matplotlib in /usr/local/lib/python3.7/dist-packages (from object-detection==0.1) (3.2.2)\n",
            "Requirement already satisfied: Cython in /usr/local/lib/python3.7/dist-packages (from object-detection==0.1) (0.29.28)\n",
            "Requirement already satisfied: contextlib2 in /usr/local/lib/python3.7/dist-packages (from object-detection==0.1) (0.5.5)\n",
            "Collecting tf-slim\n",
            "  Downloading tf_slim-1.1.0-py2.py3-none-any.whl (352 kB)\n",
            "\u001b[K     |████████████████████████████████| 352 kB 47.2 MB/s \n",
            "\u001b[?25hRequirement already satisfied: six in /usr/local/lib/python3.7/dist-packages (from object-detection==0.1) (1.15.0)\n",
            "Requirement already satisfied: pycocotools in /usr/local/lib/python3.7/dist-packages (from object-detection==0.1) (2.0.4)\n",
            "Collecting lvis\n",
            "  Downloading lvis-0.5.3-py3-none-any.whl (14 kB)\n",
            "Requirement already satisfied: scipy in /usr/local/lib/python3.7/dist-packages (from object-detection==0.1) (1.4.1)\n",
            "Requirement already satisfied: pandas in /usr/local/lib/python3.7/dist-packages (from object-detection==0.1) (1.3.5)\n",
            "Collecting tf-models-official>=2.5.1\n",
            "  Downloading tf_models_official-2.8.0-py2.py3-none-any.whl (2.2 MB)\n",
            "\u001b[K     |████████████████████████████████| 2.2 MB 39.1 MB/s \n",
            "\u001b[?25hCollecting tensorflow_io\n",
            "  Downloading tensorflow_io-0.24.0-cp37-cp37m-manylinux_2_12_x86_64.manylinux2010_x86_64.whl (23.4 MB)\n",
            "\u001b[K     |████████████████████████████████| 23.4 MB 52.8 MB/s \n",
            "\u001b[?25hRequirement already satisfied: keras in /usr/local/lib/python3.7/dist-packages (from object-detection==0.1) (2.8.0)\n",
            "Requirement already satisfied: psutil>=5.4.3 in /usr/local/lib/python3.7/dist-packages (from tf-models-official>=2.5.1->object-detection==0.1) (5.4.8)\n",
            "Collecting tensorflow-addons\n",
            "  Downloading tensorflow_addons-0.16.1-cp37-cp37m-manylinux_2_12_x86_64.manylinux2010_x86_64.whl (1.1 MB)\n",
            "\u001b[K     |████████████████████████████████| 1.1 MB 35.3 MB/s \n",
            "\u001b[?25hCollecting seqeval\n",
            "  Downloading seqeval-1.2.2.tar.gz (43 kB)\n",
            "\u001b[K     |████████████████████████████████| 43 kB 2.1 MB/s \n",
            "\u001b[?25hCollecting sacrebleu\n",
            "  Downloading sacrebleu-2.0.0-py3-none-any.whl (90 kB)\n",
            "\u001b[K     |████████████████████████████████| 90 kB 8.4 MB/s \n",
            "\u001b[?25hRequirement already satisfied: kaggle>=1.3.9 in /usr/local/lib/python3.7/dist-packages (from tf-models-official>=2.5.1->object-detection==0.1) (1.5.12)\n",
            "Collecting sentencepiece\n",
            "  Downloading sentencepiece-0.1.96-cp37-cp37m-manylinux_2_17_x86_64.manylinux2014_x86_64.whl (1.2 MB)\n",
            "\u001b[K     |████████████████████████████████| 1.2 MB 42.9 MB/s \n",
            "\u001b[?25hCollecting opencv-python-headless\n",
            "  Downloading opencv_python_headless-4.5.5.62-cp36-abi3-manylinux_2_17_x86_64.manylinux2014_x86_64.whl (47.7 MB)\n",
            "\u001b[K     |████████████████████████████████| 47.7 MB 1.5 MB/s \n",
            "\u001b[?25hRequirement already satisfied: tensorflow-hub>=0.6.0 in /usr/local/lib/python3.7/dist-packages (from tf-models-official>=2.5.1->object-detection==0.1) (0.12.0)\n",
            "Collecting tensorflow-model-optimization>=0.4.1\n",
            "  Downloading tensorflow_model_optimization-0.7.1-py2.py3-none-any.whl (234 kB)\n",
            "\u001b[K     |████████████████████████████████| 234 kB 47.6 MB/s \n",
            "\u001b[?25hRequirement already satisfied: oauth2client in /usr/local/lib/python3.7/dist-packages (from tf-models-official>=2.5.1->object-detection==0.1) (4.1.3)\n",
            "Requirement already satisfied: gin-config in /usr/local/lib/python3.7/dist-packages (from tf-models-official>=2.5.1->object-detection==0.1) (0.5.0)\n",
            "Collecting tensorflow-text~=2.8.0\n",
            "  Downloading tensorflow_text-2.8.1-cp37-cp37m-manylinux_2_12_x86_64.manylinux2010_x86_64.whl (4.9 MB)\n",
            "\u001b[K     |████████████████████████████████| 4.9 MB 40.4 MB/s \n",
            "\u001b[?25hRequirement already satisfied: tensorflow~=2.8.0 in /usr/local/lib/python3.7/dist-packages (from tf-models-official>=2.5.1->object-detection==0.1) (2.8.0)\n",
            "Requirement already satisfied: google-api-python-client>=1.6.7 in /usr/local/lib/python3.7/dist-packages (from tf-models-official>=2.5.1->object-detection==0.1) (1.12.10)\n",
            "Collecting py-cpuinfo>=3.3.0\n",
            "  Downloading py-cpuinfo-8.0.0.tar.gz (99 kB)\n",
            "\u001b[K     |████████████████████████████████| 99 kB 8.6 MB/s \n",
            "\u001b[?25hRequirement already satisfied: tensorflow-datasets in /usr/local/lib/python3.7/dist-packages (from tf-models-official>=2.5.1->object-detection==0.1) (4.0.1)\n",
            "Collecting pyyaml<6.0,>=5.1\n",
            "  Downloading PyYAML-5.4.1-cp37-cp37m-manylinux1_x86_64.whl (636 kB)\n",
            "\u001b[K     |████████████████████████████████| 636 kB 44.3 MB/s \n",
            "\u001b[?25hRequirement already satisfied: numpy>=1.15.4 in /usr/local/lib/python3.7/dist-packages (from tf-models-official>=2.5.1->object-detection==0.1) (1.21.5)\n",
            "Requirement already satisfied: google-auth-httplib2>=0.0.3 in /usr/local/lib/python3.7/dist-packages (from google-api-python-client>=1.6.7->tf-models-official>=2.5.1->object-detection==0.1) (0.0.4)\n",
            "Requirement already satisfied: google-auth<3dev,>=1.16.0 in /usr/local/lib/python3.7/dist-packages (from google-api-python-client>=1.6.7->tf-models-official>=2.5.1->object-detection==0.1) (1.35.0)\n",
            "Requirement already satisfied: httplib2<1dev,>=0.15.0 in /usr/local/lib/python3.7/dist-packages (from google-api-python-client>=1.6.7->tf-models-official>=2.5.1->object-detection==0.1) (0.17.4)\n",
            "Requirement already satisfied: uritemplate<4dev,>=3.0.0 in /usr/local/lib/python3.7/dist-packages (from google-api-python-client>=1.6.7->tf-models-official>=2.5.1->object-detection==0.1) (3.0.1)\n",
            "Requirement already satisfied: google-api-core<3dev,>=1.21.0 in /usr/local/lib/python3.7/dist-packages (from google-api-python-client>=1.6.7->tf-models-official>=2.5.1->object-detection==0.1) (1.26.3)\n",
            "Requirement already satisfied: requests<3.0.0dev,>=2.18.0 in /usr/local/lib/python3.7/dist-packages (from google-api-core<3dev,>=1.21.0->google-api-python-client>=1.6.7->tf-models-official>=2.5.1->object-detection==0.1) (2.23.0)\n",
            "Requirement already satisfied: pytz in /usr/local/lib/python3.7/dist-packages (from google-api-core<3dev,>=1.21.0->google-api-python-client>=1.6.7->tf-models-official>=2.5.1->object-detection==0.1) (2018.9)\n",
            "Requirement already satisfied: packaging>=14.3 in /usr/local/lib/python3.7/dist-packages (from google-api-core<3dev,>=1.21.0->google-api-python-client>=1.6.7->tf-models-official>=2.5.1->object-detection==0.1) (21.3)\n",
            "Requirement already satisfied: protobuf>=3.12.0 in /usr/local/lib/python3.7/dist-packages (from google-api-core<3dev,>=1.21.0->google-api-python-client>=1.6.7->tf-models-official>=2.5.1->object-detection==0.1) (3.17.3)\n",
            "Requirement already satisfied: setuptools>=40.3.0 in /usr/local/lib/python3.7/dist-packages (from google-api-core<3dev,>=1.21.0->google-api-python-client>=1.6.7->tf-models-official>=2.5.1->object-detection==0.1) (57.4.0)\n",
            "Requirement already satisfied: googleapis-common-protos<2.0dev,>=1.6.0 in /usr/local/lib/python3.7/dist-packages (from google-api-core<3dev,>=1.21.0->google-api-python-client>=1.6.7->tf-models-official>=2.5.1->object-detection==0.1) (1.54.0)\n",
            "Requirement already satisfied: rsa<5,>=3.1.4 in /usr/local/lib/python3.7/dist-packages (from google-auth<3dev,>=1.16.0->google-api-python-client>=1.6.7->tf-models-official>=2.5.1->object-detection==0.1) (4.8)\n",
            "Requirement already satisfied: cachetools<5.0,>=2.0.0 in /usr/local/lib/python3.7/dist-packages (from google-auth<3dev,>=1.16.0->google-api-python-client>=1.6.7->tf-models-official>=2.5.1->object-detection==0.1) (4.2.4)\n",
            "Requirement already satisfied: pyasn1-modules>=0.2.1 in /usr/local/lib/python3.7/dist-packages (from google-auth<3dev,>=1.16.0->google-api-python-client>=1.6.7->tf-models-official>=2.5.1->object-detection==0.1) (0.2.8)\n",
            "Requirement already satisfied: python-dateutil in /usr/local/lib/python3.7/dist-packages (from kaggle>=1.3.9->tf-models-official>=2.5.1->object-detection==0.1) (2.8.2)\n",
            "Requirement already satisfied: certifi in /usr/local/lib/python3.7/dist-packages (from kaggle>=1.3.9->tf-models-official>=2.5.1->object-detection==0.1) (2021.10.8)\n",
            "Requirement already satisfied: tqdm in /usr/local/lib/python3.7/dist-packages (from kaggle>=1.3.9->tf-models-official>=2.5.1->object-detection==0.1) (4.62.3)\n",
            "Requirement already satisfied: urllib3 in /usr/local/lib/python3.7/dist-packages (from kaggle>=1.3.9->tf-models-official>=2.5.1->object-detection==0.1) (1.24.3)\n",
            "Requirement already satisfied: python-slugify in /usr/local/lib/python3.7/dist-packages (from kaggle>=1.3.9->tf-models-official>=2.5.1->object-detection==0.1) (6.0.1)\n",
            "Requirement already satisfied: pyparsing!=3.0.5,>=2.0.2 in /usr/local/lib/python3.7/dist-packages (from packaging>=14.3->google-api-core<3dev,>=1.21.0->google-api-python-client>=1.6.7->tf-models-official>=2.5.1->object-detection==0.1) (3.0.7)\n",
            "Requirement already satisfied: pyasn1<0.5.0,>=0.4.6 in /usr/local/lib/python3.7/dist-packages (from pyasn1-modules>=0.2.1->google-auth<3dev,>=1.16.0->google-api-python-client>=1.6.7->tf-models-official>=2.5.1->object-detection==0.1) (0.4.8)\n",
            "Requirement already satisfied: idna<3,>=2.5 in /usr/local/lib/python3.7/dist-packages (from requests<3.0.0dev,>=2.18.0->google-api-core<3dev,>=1.21.0->google-api-python-client>=1.6.7->tf-models-official>=2.5.1->object-detection==0.1) (2.10)\n",
            "Requirement already satisfied: chardet<4,>=3.0.2 in /usr/local/lib/python3.7/dist-packages (from requests<3.0.0dev,>=2.18.0->google-api-core<3dev,>=1.21.0->google-api-python-client>=1.6.7->tf-models-official>=2.5.1->object-detection==0.1) (3.0.4)\n",
            "Requirement already satisfied: libclang>=9.0.1 in /usr/local/lib/python3.7/dist-packages (from tensorflow~=2.8.0->tf-models-official>=2.5.1->object-detection==0.1) (13.0.0)\n",
            "Requirement already satisfied: grpcio<2.0,>=1.24.3 in /usr/local/lib/python3.7/dist-packages (from tensorflow~=2.8.0->tf-models-official>=2.5.1->object-detection==0.1) (1.43.0)\n",
            "Requirement already satisfied: termcolor>=1.1.0 in /usr/local/lib/python3.7/dist-packages (from tensorflow~=2.8.0->tf-models-official>=2.5.1->object-detection==0.1) (1.1.0)\n",
            "Requirement already satisfied: astunparse>=1.6.0 in /usr/local/lib/python3.7/dist-packages (from tensorflow~=2.8.0->tf-models-official>=2.5.1->object-detection==0.1) (1.6.3)\n",
            "Requirement already satisfied: absl-py>=0.4.0 in /usr/local/lib/python3.7/dist-packages (from tensorflow~=2.8.0->tf-models-official>=2.5.1->object-detection==0.1) (1.0.0)\n",
            "Requirement already satisfied: tensorflow-io-gcs-filesystem>=0.23.1 in /usr/local/lib/python3.7/dist-packages (from tensorflow~=2.8.0->tf-models-official>=2.5.1->object-detection==0.1) (0.24.0)\n",
            "Requirement already satisfied: tf-estimator-nightly==2.8.0.dev2021122109 in /usr/local/lib/python3.7/dist-packages (from tensorflow~=2.8.0->tf-models-official>=2.5.1->object-detection==0.1) (2.8.0.dev2021122109)\n",
            "Requirement already satisfied: gast>=0.2.1 in /usr/local/lib/python3.7/dist-packages (from tensorflow~=2.8.0->tf-models-official>=2.5.1->object-detection==0.1) (0.5.3)\n",
            "Requirement already satisfied: wrapt>=1.11.0 in /usr/local/lib/python3.7/dist-packages (from tensorflow~=2.8.0->tf-models-official>=2.5.1->object-detection==0.1) (1.13.3)\n",
            "Requirement already satisfied: h5py>=2.9.0 in /usr/local/lib/python3.7/dist-packages (from tensorflow~=2.8.0->tf-models-official>=2.5.1->object-detection==0.1) (3.1.0)\n",
            "Requirement already satisfied: typing-extensions>=3.6.6 in /usr/local/lib/python3.7/dist-packages (from tensorflow~=2.8.0->tf-models-official>=2.5.1->object-detection==0.1) (3.10.0.2)\n",
            "Requirement already satisfied: keras-preprocessing>=1.1.1 in /usr/local/lib/python3.7/dist-packages (from tensorflow~=2.8.0->tf-models-official>=2.5.1->object-detection==0.1) (1.1.2)\n",
            "Requirement already satisfied: opt-einsum>=2.3.2 in /usr/local/lib/python3.7/dist-packages (from tensorflow~=2.8.0->tf-models-official>=2.5.1->object-detection==0.1) (3.3.0)\n",
            "Requirement already satisfied: tensorboard<2.9,>=2.8 in /usr/local/lib/python3.7/dist-packages (from tensorflow~=2.8.0->tf-models-official>=2.5.1->object-detection==0.1) (2.8.0)\n",
            "Requirement already satisfied: google-pasta>=0.1.1 in /usr/local/lib/python3.7/dist-packages (from tensorflow~=2.8.0->tf-models-official>=2.5.1->object-detection==0.1) (0.2.0)\n",
            "Requirement already satisfied: flatbuffers>=1.12 in /usr/local/lib/python3.7/dist-packages (from tensorflow~=2.8.0->tf-models-official>=2.5.1->object-detection==0.1) (2.0)\n",
            "Requirement already satisfied: wheel<1.0,>=0.23.0 in /usr/local/lib/python3.7/dist-packages (from astunparse>=1.6.0->tensorflow~=2.8.0->tf-models-official>=2.5.1->object-detection==0.1) (0.37.1)\n",
            "Requirement already satisfied: cached-property in /usr/local/lib/python3.7/dist-packages (from h5py>=2.9.0->tensorflow~=2.8.0->tf-models-official>=2.5.1->object-detection==0.1) (1.5.2)\n",
            "Requirement already satisfied: tensorboard-plugin-wit>=1.6.0 in /usr/local/lib/python3.7/dist-packages (from tensorboard<2.9,>=2.8->tensorflow~=2.8.0->tf-models-official>=2.5.1->object-detection==0.1) (1.8.1)\n",
            "Requirement already satisfied: werkzeug>=0.11.15 in /usr/local/lib/python3.7/dist-packages (from tensorboard<2.9,>=2.8->tensorflow~=2.8.0->tf-models-official>=2.5.1->object-detection==0.1) (1.0.1)\n",
            "Requirement already satisfied: tensorboard-data-server<0.7.0,>=0.6.0 in /usr/local/lib/python3.7/dist-packages (from tensorboard<2.9,>=2.8->tensorflow~=2.8.0->tf-models-official>=2.5.1->object-detection==0.1) (0.6.1)\n",
            "Requirement already satisfied: markdown>=2.6.8 in /usr/local/lib/python3.7/dist-packages (from tensorboard<2.9,>=2.8->tensorflow~=2.8.0->tf-models-official>=2.5.1->object-detection==0.1) (3.3.6)\n",
            "Requirement already satisfied: google-auth-oauthlib<0.5,>=0.4.1 in /usr/local/lib/python3.7/dist-packages (from tensorboard<2.9,>=2.8->tensorflow~=2.8.0->tf-models-official>=2.5.1->object-detection==0.1) (0.4.6)\n",
            "Requirement already satisfied: requests-oauthlib>=0.7.0 in /usr/local/lib/python3.7/dist-packages (from google-auth-oauthlib<0.5,>=0.4.1->tensorboard<2.9,>=2.8->tensorflow~=2.8.0->tf-models-official>=2.5.1->object-detection==0.1) (1.3.1)\n",
            "Requirement already satisfied: importlib-metadata>=4.4 in /usr/local/lib/python3.7/dist-packages (from markdown>=2.6.8->tensorboard<2.9,>=2.8->tensorflow~=2.8.0->tf-models-official>=2.5.1->object-detection==0.1) (4.11.1)\n",
            "Requirement already satisfied: zipp>=0.5 in /usr/local/lib/python3.7/dist-packages (from importlib-metadata>=4.4->markdown>=2.6.8->tensorboard<2.9,>=2.8->tensorflow~=2.8.0->tf-models-official>=2.5.1->object-detection==0.1) (3.7.0)\n",
            "Requirement already satisfied: oauthlib>=3.0.0 in /usr/local/lib/python3.7/dist-packages (from requests-oauthlib>=0.7.0->google-auth-oauthlib<0.5,>=0.4.1->tensorboard<2.9,>=2.8->tensorflow~=2.8.0->tf-models-official>=2.5.1->object-detection==0.1) (3.2.0)\n",
            "Requirement already satisfied: dm-tree~=0.1.1 in /usr/local/lib/python3.7/dist-packages (from tensorflow-model-optimization>=0.4.1->tf-models-official>=2.5.1->object-detection==0.1) (0.1.6)\n",
            "Requirement already satisfied: pyarrow<7.0.0,>=0.15.1 in /usr/local/lib/python3.7/dist-packages (from apache-beam->object-detection==0.1) (6.0.1)\n",
            "Collecting orjson<4.0\n",
            "  Downloading orjson-3.6.7-cp37-cp37m-manylinux_2_24_x86_64.whl (255 kB)\n",
            "\u001b[K     |████████████████████████████████| 255 kB 48.2 MB/s \n",
            "\u001b[?25hRequirement already satisfied: pydot<2,>=1.2.0 in /usr/local/lib/python3.7/dist-packages (from apache-beam->object-detection==0.1) (1.3.0)\n",
            "Collecting fastavro<2,>=0.21.4\n",
            "  Downloading fastavro-1.4.9-cp37-cp37m-manylinux_2_17_x86_64.manylinux2014_x86_64.whl (2.3 MB)\n",
            "\u001b[K     |████████████████████████████████| 2.3 MB 38.7 MB/s \n",
            "\u001b[?25hCollecting pymongo<4.0.0,>=3.8.0\n",
            "  Downloading pymongo-3.12.3-cp37-cp37m-manylinux_2_17_x86_64.manylinux2014_x86_64.whl (508 kB)\n",
            "\u001b[K     |████████████████████████████████| 508 kB 44.1 MB/s \n",
            "\u001b[?25hCollecting proto-plus<2,>=1.7.1\n",
            "  Downloading proto_plus-1.20.3-py3-none-any.whl (46 kB)\n",
            "\u001b[K     |████████████████████████████████| 46 kB 3.7 MB/s \n",
            "\u001b[?25hCollecting cloudpickle<3,>=2.0.0\n",
            "  Downloading cloudpickle-2.0.0-py3-none-any.whl (25 kB)\n",
            "Collecting hdfs<3.0.0,>=2.1.0\n",
            "  Downloading hdfs-2.6.0-py3-none-any.whl (33 kB)\n",
            "Collecting dill<0.3.2,>=0.3.1.1\n",
            "  Downloading dill-0.3.1.1.tar.gz (151 kB)\n",
            "\u001b[K     |████████████████████████████████| 151 kB 40.8 MB/s \n",
            "\u001b[?25hRequirement already satisfied: crcmod<2.0,>=1.7 in /usr/local/lib/python3.7/dist-packages (from apache-beam->object-detection==0.1) (1.7)\n",
            "Collecting requests<3.0.0dev,>=2.18.0\n",
            "  Downloading requests-2.27.1-py2.py3-none-any.whl (63 kB)\n",
            "\u001b[K     |████████████████████████████████| 63 kB 1.4 MB/s \n",
            "\u001b[?25hRequirement already satisfied: docopt in /usr/local/lib/python3.7/dist-packages (from hdfs<3.0.0,>=2.1.0->apache-beam->object-detection==0.1) (0.6.2)\n",
            "Collecting protobuf>=3.12.0\n",
            "  Downloading protobuf-3.19.4-cp37-cp37m-manylinux_2_17_x86_64.manylinux2014_x86_64.whl (1.1 MB)\n",
            "\u001b[K     |████████████████████████████████| 1.1 MB 43.4 MB/s \n",
            "\u001b[?25hRequirement already satisfied: charset-normalizer~=2.0.0 in /usr/local/lib/python3.7/dist-packages (from requests<3.0.0dev,>=2.18.0->google-api-core<3dev,>=1.21.0->google-api-python-client>=1.6.7->tf-models-official>=2.5.1->object-detection==0.1) (2.0.12)\n",
            "Requirement already satisfied: cycler>=0.10.0 in /usr/local/lib/python3.7/dist-packages (from lvis->object-detection==0.1) (0.11.0)\n",
            "Requirement already satisfied: kiwisolver>=1.1.0 in /usr/local/lib/python3.7/dist-packages (from lvis->object-detection==0.1) (1.3.2)\n",
            "Requirement already satisfied: opencv-python>=4.1.0.25 in /usr/local/lib/python3.7/dist-packages (from lvis->object-detection==0.1) (4.1.2.30)\n",
            "Requirement already satisfied: text-unidecode>=1.3 in /usr/local/lib/python3.7/dist-packages (from python-slugify->kaggle>=1.3.9->tf-models-official>=2.5.1->object-detection==0.1) (1.3)\n",
            "Requirement already satisfied: regex in /usr/local/lib/python3.7/dist-packages (from sacrebleu->tf-models-official>=2.5.1->object-detection==0.1) (2019.12.20)\n",
            "Collecting portalocker\n",
            "  Downloading portalocker-2.4.0-py2.py3-none-any.whl (16 kB)\n",
            "Collecting colorama\n",
            "  Downloading colorama-0.4.4-py2.py3-none-any.whl (16 kB)\n",
            "Requirement already satisfied: tabulate>=0.8.9 in /usr/local/lib/python3.7/dist-packages (from sacrebleu->tf-models-official>=2.5.1->object-detection==0.1) (0.8.9)\n",
            "Requirement already satisfied: scikit-learn>=0.21.3 in /usr/local/lib/python3.7/dist-packages (from seqeval->tf-models-official>=2.5.1->object-detection==0.1) (1.0.2)\n",
            "Requirement already satisfied: threadpoolctl>=2.0.0 in /usr/local/lib/python3.7/dist-packages (from scikit-learn>=0.21.3->seqeval->tf-models-official>=2.5.1->object-detection==0.1) (3.1.0)\n",
            "Requirement already satisfied: joblib>=0.11 in /usr/local/lib/python3.7/dist-packages (from scikit-learn>=0.21.3->seqeval->tf-models-official>=2.5.1->object-detection==0.1) (1.1.0)\n",
            "Requirement already satisfied: typeguard>=2.7 in /usr/local/lib/python3.7/dist-packages (from tensorflow-addons->tf-models-official>=2.5.1->object-detection==0.1) (2.7.1)\n",
            "Requirement already satisfied: future in /usr/local/lib/python3.7/dist-packages (from tensorflow-datasets->tf-models-official>=2.5.1->object-detection==0.1) (0.16.0)\n",
            "Requirement already satisfied: attrs>=18.1.0 in /usr/local/lib/python3.7/dist-packages (from tensorflow-datasets->tf-models-official>=2.5.1->object-detection==0.1) (21.4.0)\n",
            "Requirement already satisfied: importlib-resources in /usr/local/lib/python3.7/dist-packages (from tensorflow-datasets->tf-models-official>=2.5.1->object-detection==0.1) (5.4.0)\n",
            "Requirement already satisfied: promise in /usr/local/lib/python3.7/dist-packages (from tensorflow-datasets->tf-models-official>=2.5.1->object-detection==0.1) (2.3)\n",
            "Requirement already satisfied: tensorflow-metadata in /usr/local/lib/python3.7/dist-packages (from tensorflow-datasets->tf-models-official>=2.5.1->object-detection==0.1) (1.6.0)\n",
            "Building wheels for collected packages: object-detection, py-cpuinfo, dill, avro-python3, seqeval\n",
            "  Building wheel for object-detection (setup.py) ... \u001b[?25l\u001b[?25hdone\n",
            "  Created wheel for object-detection: filename=object_detection-0.1-py3-none-any.whl size=1686356 sha256=ac6c6706558ddb10ba0f561fbfb657bd5484753b37ab621883565579a74e287d\n",
            "  Stored in directory: /tmp/pip-ephem-wheel-cache-0sf4r3zp/wheels/fa/a4/d2/e9a5057e414fd46c8e543d2706cd836d64e1fcd9eccceb2329\n",
            "  Building wheel for py-cpuinfo (setup.py) ... \u001b[?25l\u001b[?25hdone\n",
            "  Created wheel for py-cpuinfo: filename=py_cpuinfo-8.0.0-py3-none-any.whl size=22257 sha256=535d74bdaf09a5ace68d58e32ef78eb35b2e4ce9c5f63c6e3d695dd02909bc6c\n",
            "  Stored in directory: /root/.cache/pip/wheels/d2/f1/1f/041add21dc9c4220157f1bd2bd6afe1f1a49524c3396b94401\n",
            "  Building wheel for dill (setup.py) ... \u001b[?25l\u001b[?25hdone\n",
            "  Created wheel for dill: filename=dill-0.3.1.1-py3-none-any.whl size=78544 sha256=a60c3670bae4eb5fa2ee9377414b8b6cbe5fd0ed4fbd74d61ccf27c85df913c8\n",
            "  Stored in directory: /root/.cache/pip/wheels/a4/61/fd/c57e374e580aa78a45ed78d5859b3a44436af17e22ca53284f\n",
            "  Building wheel for avro-python3 (setup.py) ... \u001b[?25l\u001b[?25hdone\n",
            "  Created wheel for avro-python3: filename=avro_python3-1.10.2-py3-none-any.whl size=44010 sha256=a54148bdfdfa7e4365fb31937e0af1f18bc3ab2dc06b00374e8d70d6c03f02e0\n",
            "  Stored in directory: /root/.cache/pip/wheels/d6/e5/b1/6b151d9b535ee50aaa6ab27d145a0104b6df02e5636f0376da\n",
            "  Building wheel for seqeval (setup.py) ... \u001b[?25l\u001b[?25hdone\n",
            "  Created wheel for seqeval: filename=seqeval-1.2.2-py3-none-any.whl size=16180 sha256=09e0451f5d911b658759d16e8afec9bc19c4664a3fc1a0be02a31414fc00c995\n",
            "  Stored in directory: /root/.cache/pip/wheels/05/96/ee/7cac4e74f3b19e3158dce26a20a1c86b3533c43ec72a549fd7\n",
            "Successfully built object-detection py-cpuinfo dill avro-python3 seqeval\n",
            "Installing collected packages: requests, protobuf, portalocker, dill, colorama, tf-slim, tensorflow-text, tensorflow-model-optimization, tensorflow-addons, seqeval, sentencepiece, sacrebleu, pyyaml, pymongo, py-cpuinfo, proto-plus, orjson, opencv-python-headless, hdfs, fastavro, cloudpickle, tf-models-official, tensorflow-io, lvis, avro-python3, apache-beam, object-detection\n",
            "  Attempting uninstall: requests\n",
            "    Found existing installation: requests 2.23.0\n",
            "    Uninstalling requests-2.23.0:\n",
            "      Successfully uninstalled requests-2.23.0\n",
            "  Attempting uninstall: protobuf\n",
            "    Found existing installation: protobuf 3.17.3\n",
            "    Uninstalling protobuf-3.17.3:\n",
            "      Successfully uninstalled protobuf-3.17.3\n",
            "  Attempting uninstall: dill\n",
            "    Found existing installation: dill 0.3.4\n",
            "    Uninstalling dill-0.3.4:\n",
            "      Successfully uninstalled dill-0.3.4\n",
            "  Attempting uninstall: pyyaml\n",
            "    Found existing installation: PyYAML 3.13\n",
            "    Uninstalling PyYAML-3.13:\n",
            "      Successfully uninstalled PyYAML-3.13\n",
            "  Attempting uninstall: pymongo\n",
            "    Found existing installation: pymongo 4.0.1\n",
            "    Uninstalling pymongo-4.0.1:\n",
            "      Successfully uninstalled pymongo-4.0.1\n",
            "  Attempting uninstall: cloudpickle\n",
            "    Found existing installation: cloudpickle 1.3.0\n",
            "    Uninstalling cloudpickle-1.3.0:\n",
            "      Successfully uninstalled cloudpickle-1.3.0\n",
            "\u001b[31mERROR: pip's dependency resolver does not currently take into account all the packages that are installed. This behaviour is the source of the following dependency conflicts.\n",
            "multiprocess 0.70.12.2 requires dill>=0.3.4, but you have dill 0.3.1.1 which is incompatible.\n",
            "gym 0.17.3 requires cloudpickle<1.7.0,>=1.2.0, but you have cloudpickle 2.0.0 which is incompatible.\n",
            "google-colab 1.0.0 requires requests~=2.23.0, but you have requests 2.27.1 which is incompatible.\n",
            "datascience 0.10.6 requires folium==0.2.1, but you have folium 0.8.3 which is incompatible.\u001b[0m\n",
            "Successfully installed apache-beam-2.36.0 avro-python3-1.10.2 cloudpickle-2.0.0 colorama-0.4.4 dill-0.3.1.1 fastavro-1.4.9 hdfs-2.6.0 lvis-0.5.3 object-detection-0.1 opencv-python-headless-4.5.5.62 orjson-3.6.7 portalocker-2.4.0 proto-plus-1.20.3 protobuf-3.19.4 py-cpuinfo-8.0.0 pymongo-3.12.3 pyyaml-5.4.1 requests-2.27.1 sacrebleu-2.0.0 sentencepiece-0.1.96 seqeval-1.2.2 tensorflow-addons-0.16.1 tensorflow-io-0.24.0 tensorflow-model-optimization-0.7.1 tensorflow-text-2.8.1 tf-models-official-2.8.0 tf-slim-1.1.0\n"
          ]
        }
      ]
    },
    {
      "cell_type": "code",
      "source": [
        "#Testing installation\n",
        "# From within TensorFlow/models/research/\n",
        "!python object_detection/builders/model_builder_tf2_test.py"
      ],
      "metadata": {
        "colab": {
          "base_uri": "https://localhost:8080/"
        },
        "collapsed": true,
        "id": "Dd6RCRyJXy09",
        "outputId": "a1abba8b-bf29-49da-b3bd-4cee419365dd"
      },
      "execution_count": null,
      "outputs": [
        {
          "output_type": "stream",
          "name": "stdout",
          "text": [
            "Running tests under Python 3.7.12: /usr/bin/python3\n",
            "[ RUN      ] ModelBuilderTF2Test.test_create_center_net_deepmac\n",
            "2022-02-28 09:11:14.626589: W tensorflow/core/common_runtime/gpu/gpu_bfc_allocator.cc:39] Overriding allow_growth setting because the TF_FORCE_GPU_ALLOW_GROWTH environment variable is set. Original config value was 0.\n",
            "W0228 09:11:15.042165 140071914043264 model_builder.py:1100] Building experimental DeepMAC meta-arch. Some features may be omitted.\n",
            "INFO:tensorflow:time(__main__.ModelBuilderTF2Test.test_create_center_net_deepmac): 1.41s\n",
            "I0228 09:11:15.379790 140071914043264 test_util.py:2374] time(__main__.ModelBuilderTF2Test.test_create_center_net_deepmac): 1.41s\n",
            "[       OK ] ModelBuilderTF2Test.test_create_center_net_deepmac\n",
            "[ RUN      ] ModelBuilderTF2Test.test_create_center_net_model0 (customize_head_params=True)\n",
            "INFO:tensorflow:time(__main__.ModelBuilderTF2Test.test_create_center_net_model0 (customize_head_params=True)): 0.68s\n",
            "I0228 09:11:16.060037 140071914043264 test_util.py:2374] time(__main__.ModelBuilderTF2Test.test_create_center_net_model0 (customize_head_params=True)): 0.68s\n",
            "[       OK ] ModelBuilderTF2Test.test_create_center_net_model0 (customize_head_params=True)\n",
            "[ RUN      ] ModelBuilderTF2Test.test_create_center_net_model1 (customize_head_params=False)\n",
            "INFO:tensorflow:time(__main__.ModelBuilderTF2Test.test_create_center_net_model1 (customize_head_params=False)): 0.36s\n",
            "I0228 09:11:16.424793 140071914043264 test_util.py:2374] time(__main__.ModelBuilderTF2Test.test_create_center_net_model1 (customize_head_params=False)): 0.36s\n",
            "[       OK ] ModelBuilderTF2Test.test_create_center_net_model1 (customize_head_params=False)\n",
            "[ RUN      ] ModelBuilderTF2Test.test_create_center_net_model_from_keypoints\n",
            "INFO:tensorflow:time(__main__.ModelBuilderTF2Test.test_create_center_net_model_from_keypoints): 0.33s\n",
            "I0228 09:11:16.755274 140071914043264 test_util.py:2374] time(__main__.ModelBuilderTF2Test.test_create_center_net_model_from_keypoints): 0.33s\n",
            "[       OK ] ModelBuilderTF2Test.test_create_center_net_model_from_keypoints\n",
            "[ RUN      ] ModelBuilderTF2Test.test_create_center_net_model_mobilenet\n",
            "INFO:tensorflow:time(__main__.ModelBuilderTF2Test.test_create_center_net_model_mobilenet): 2.29s\n",
            "I0228 09:11:19.047775 140071914043264 test_util.py:2374] time(__main__.ModelBuilderTF2Test.test_create_center_net_model_mobilenet): 2.29s\n",
            "[       OK ] ModelBuilderTF2Test.test_create_center_net_model_mobilenet\n",
            "[ RUN      ] ModelBuilderTF2Test.test_create_experimental_model\n",
            "INFO:tensorflow:time(__main__.ModelBuilderTF2Test.test_create_experimental_model): 0.0s\n",
            "I0228 09:11:19.048963 140071914043264 test_util.py:2374] time(__main__.ModelBuilderTF2Test.test_create_experimental_model): 0.0s\n",
            "[       OK ] ModelBuilderTF2Test.test_create_experimental_model\n",
            "[ RUN      ] ModelBuilderTF2Test.test_create_faster_rcnn_from_config_with_crop_feature0 (True)\n",
            "INFO:tensorflow:time(__main__.ModelBuilderTF2Test.test_create_faster_rcnn_from_config_with_crop_feature0 (True)): 0.03s\n",
            "I0228 09:11:19.078068 140071914043264 test_util.py:2374] time(__main__.ModelBuilderTF2Test.test_create_faster_rcnn_from_config_with_crop_feature0 (True)): 0.03s\n",
            "[       OK ] ModelBuilderTF2Test.test_create_faster_rcnn_from_config_with_crop_feature0 (True)\n",
            "[ RUN      ] ModelBuilderTF2Test.test_create_faster_rcnn_from_config_with_crop_feature1 (False)\n",
            "INFO:tensorflow:time(__main__.ModelBuilderTF2Test.test_create_faster_rcnn_from_config_with_crop_feature1 (False)): 0.02s\n",
            "I0228 09:11:19.097648 140071914043264 test_util.py:2374] time(__main__.ModelBuilderTF2Test.test_create_faster_rcnn_from_config_with_crop_feature1 (False)): 0.02s\n",
            "[       OK ] ModelBuilderTF2Test.test_create_faster_rcnn_from_config_with_crop_feature1 (False)\n",
            "[ RUN      ] ModelBuilderTF2Test.test_create_faster_rcnn_model_from_config_with_example_miner\n",
            "INFO:tensorflow:time(__main__.ModelBuilderTF2Test.test_create_faster_rcnn_model_from_config_with_example_miner): 0.02s\n",
            "I0228 09:11:19.119244 140071914043264 test_util.py:2374] time(__main__.ModelBuilderTF2Test.test_create_faster_rcnn_model_from_config_with_example_miner): 0.02s\n",
            "[       OK ] ModelBuilderTF2Test.test_create_faster_rcnn_model_from_config_with_example_miner\n",
            "[ RUN      ] ModelBuilderTF2Test.test_create_faster_rcnn_models_from_config_faster_rcnn_with_matmul\n",
            "INFO:tensorflow:time(__main__.ModelBuilderTF2Test.test_create_faster_rcnn_models_from_config_faster_rcnn_with_matmul): 0.12s\n",
            "I0228 09:11:19.243006 140071914043264 test_util.py:2374] time(__main__.ModelBuilderTF2Test.test_create_faster_rcnn_models_from_config_faster_rcnn_with_matmul): 0.12s\n",
            "[       OK ] ModelBuilderTF2Test.test_create_faster_rcnn_models_from_config_faster_rcnn_with_matmul\n",
            "[ RUN      ] ModelBuilderTF2Test.test_create_faster_rcnn_models_from_config_faster_rcnn_without_matmul\n",
            "INFO:tensorflow:time(__main__.ModelBuilderTF2Test.test_create_faster_rcnn_models_from_config_faster_rcnn_without_matmul): 0.12s\n",
            "I0228 09:11:19.365328 140071914043264 test_util.py:2374] time(__main__.ModelBuilderTF2Test.test_create_faster_rcnn_models_from_config_faster_rcnn_without_matmul): 0.12s\n",
            "[       OK ] ModelBuilderTF2Test.test_create_faster_rcnn_models_from_config_faster_rcnn_without_matmul\n",
            "[ RUN      ] ModelBuilderTF2Test.test_create_faster_rcnn_models_from_config_mask_rcnn_with_matmul\n",
            "INFO:tensorflow:time(__main__.ModelBuilderTF2Test.test_create_faster_rcnn_models_from_config_mask_rcnn_with_matmul): 0.12s\n",
            "I0228 09:11:19.490452 140071914043264 test_util.py:2374] time(__main__.ModelBuilderTF2Test.test_create_faster_rcnn_models_from_config_mask_rcnn_with_matmul): 0.12s\n",
            "[       OK ] ModelBuilderTF2Test.test_create_faster_rcnn_models_from_config_mask_rcnn_with_matmul\n",
            "[ RUN      ] ModelBuilderTF2Test.test_create_faster_rcnn_models_from_config_mask_rcnn_without_matmul\n",
            "INFO:tensorflow:time(__main__.ModelBuilderTF2Test.test_create_faster_rcnn_models_from_config_mask_rcnn_without_matmul): 0.12s\n",
            "I0228 09:11:19.614433 140071914043264 test_util.py:2374] time(__main__.ModelBuilderTF2Test.test_create_faster_rcnn_models_from_config_mask_rcnn_without_matmul): 0.12s\n",
            "[       OK ] ModelBuilderTF2Test.test_create_faster_rcnn_models_from_config_mask_rcnn_without_matmul\n",
            "[ RUN      ] ModelBuilderTF2Test.test_create_rfcn_model_from_config\n",
            "INFO:tensorflow:time(__main__.ModelBuilderTF2Test.test_create_rfcn_model_from_config): 0.13s\n",
            "I0228 09:11:19.740128 140071914043264 test_util.py:2374] time(__main__.ModelBuilderTF2Test.test_create_rfcn_model_from_config): 0.13s\n",
            "[       OK ] ModelBuilderTF2Test.test_create_rfcn_model_from_config\n",
            "[ RUN      ] ModelBuilderTF2Test.test_create_ssd_fpn_model_from_config\n",
            "INFO:tensorflow:time(__main__.ModelBuilderTF2Test.test_create_ssd_fpn_model_from_config): 0.03s\n",
            "I0228 09:11:19.774379 140071914043264 test_util.py:2374] time(__main__.ModelBuilderTF2Test.test_create_ssd_fpn_model_from_config): 0.03s\n",
            "[       OK ] ModelBuilderTF2Test.test_create_ssd_fpn_model_from_config\n",
            "[ RUN      ] ModelBuilderTF2Test.test_create_ssd_models_from_config\n",
            "I0228 09:11:20.000978 140071914043264 ssd_efficientnet_bifpn_feature_extractor.py:146] EfficientDet EfficientNet backbone version: efficientnet-b0\n",
            "I0228 09:11:20.001196 140071914043264 ssd_efficientnet_bifpn_feature_extractor.py:147] EfficientDet BiFPN num filters: 64\n",
            "I0228 09:11:20.001299 140071914043264 ssd_efficientnet_bifpn_feature_extractor.py:149] EfficientDet BiFPN num iterations: 3\n",
            "I0228 09:11:20.003908 140071914043264 efficientnet_model.py:144] round_filter input=32 output=32\n",
            "I0228 09:11:20.026728 140071914043264 efficientnet_model.py:144] round_filter input=32 output=32\n",
            "I0228 09:11:20.026888 140071914043264 efficientnet_model.py:144] round_filter input=16 output=16\n",
            "I0228 09:11:20.099012 140071914043264 efficientnet_model.py:144] round_filter input=16 output=16\n",
            "I0228 09:11:20.099198 140071914043264 efficientnet_model.py:144] round_filter input=24 output=24\n",
            "I0228 09:11:20.299369 140071914043264 efficientnet_model.py:144] round_filter input=24 output=24\n",
            "I0228 09:11:20.299611 140071914043264 efficientnet_model.py:144] round_filter input=40 output=40\n",
            "I0228 09:11:20.690834 140071914043264 efficientnet_model.py:144] round_filter input=40 output=40\n",
            "I0228 09:11:20.691076 140071914043264 efficientnet_model.py:144] round_filter input=80 output=80\n",
            "I0228 09:11:20.987671 140071914043264 efficientnet_model.py:144] round_filter input=80 output=80\n",
            "I0228 09:11:20.987942 140071914043264 efficientnet_model.py:144] round_filter input=112 output=112\n",
            "I0228 09:11:21.316958 140071914043264 efficientnet_model.py:144] round_filter input=112 output=112\n",
            "I0228 09:11:21.317194 140071914043264 efficientnet_model.py:144] round_filter input=192 output=192\n",
            "I0228 09:11:21.719771 140071914043264 efficientnet_model.py:144] round_filter input=192 output=192\n",
            "I0228 09:11:21.719979 140071914043264 efficientnet_model.py:144] round_filter input=320 output=320\n",
            "I0228 09:11:21.817728 140071914043264 efficientnet_model.py:144] round_filter input=1280 output=1280\n",
            "I0228 09:11:21.856016 140071914043264 efficientnet_model.py:454] Building model efficientnet with params ModelConfig(width_coefficient=1.0, depth_coefficient=1.0, resolution=224, dropout_rate=0.2, blocks=(BlockConfig(input_filters=32, output_filters=16, kernel_size=3, num_repeat=1, expand_ratio=1, strides=(1, 1), se_ratio=0.25, id_skip=True, fused_conv=False, conv_type='depthwise'), BlockConfig(input_filters=16, output_filters=24, kernel_size=3, num_repeat=2, expand_ratio=6, strides=(2, 2), se_ratio=0.25, id_skip=True, fused_conv=False, conv_type='depthwise'), BlockConfig(input_filters=24, output_filters=40, kernel_size=5, num_repeat=2, expand_ratio=6, strides=(2, 2), se_ratio=0.25, id_skip=True, fused_conv=False, conv_type='depthwise'), BlockConfig(input_filters=40, output_filters=80, kernel_size=3, num_repeat=3, expand_ratio=6, strides=(2, 2), se_ratio=0.25, id_skip=True, fused_conv=False, conv_type='depthwise'), BlockConfig(input_filters=80, output_filters=112, kernel_size=5, num_repeat=3, expand_ratio=6, strides=(1, 1), se_ratio=0.25, id_skip=True, fused_conv=False, conv_type='depthwise'), BlockConfig(input_filters=112, output_filters=192, kernel_size=5, num_repeat=4, expand_ratio=6, strides=(2, 2), se_ratio=0.25, id_skip=True, fused_conv=False, conv_type='depthwise'), BlockConfig(input_filters=192, output_filters=320, kernel_size=3, num_repeat=1, expand_ratio=6, strides=(1, 1), se_ratio=0.25, id_skip=True, fused_conv=False, conv_type='depthwise')), stem_base_filters=32, top_base_filters=1280, activation='simple_swish', batch_norm='default', bn_momentum=0.99, bn_epsilon=0.001, weight_decay=5e-06, drop_connect_rate=0.2, depth_divisor=8, min_depth=None, use_se=True, input_channels=3, num_classes=1000, model_name='efficientnet', rescale_input=False, data_format='channels_last', dtype='float32')\n",
            "I0228 09:11:21.916740 140071914043264 ssd_efficientnet_bifpn_feature_extractor.py:146] EfficientDet EfficientNet backbone version: efficientnet-b1\n",
            "I0228 09:11:21.916896 140071914043264 ssd_efficientnet_bifpn_feature_extractor.py:147] EfficientDet BiFPN num filters: 88\n",
            "I0228 09:11:21.917016 140071914043264 ssd_efficientnet_bifpn_feature_extractor.py:149] EfficientDet BiFPN num iterations: 4\n",
            "I0228 09:11:21.918868 140071914043264 efficientnet_model.py:144] round_filter input=32 output=32\n",
            "I0228 09:11:21.937464 140071914043264 efficientnet_model.py:144] round_filter input=32 output=32\n",
            "I0228 09:11:21.937614 140071914043264 efficientnet_model.py:144] round_filter input=16 output=16\n",
            "I0228 09:11:22.092040 140071914043264 efficientnet_model.py:144] round_filter input=16 output=16\n",
            "I0228 09:11:22.092211 140071914043264 efficientnet_model.py:144] round_filter input=24 output=24\n",
            "I0228 09:11:22.396127 140071914043264 efficientnet_model.py:144] round_filter input=24 output=24\n",
            "I0228 09:11:22.396327 140071914043264 efficientnet_model.py:144] round_filter input=40 output=40\n",
            "I0228 09:11:22.702704 140071914043264 efficientnet_model.py:144] round_filter input=40 output=40\n",
            "I0228 09:11:22.703089 140071914043264 efficientnet_model.py:144] round_filter input=80 output=80\n",
            "I0228 09:11:23.097355 140071914043264 efficientnet_model.py:144] round_filter input=80 output=80\n",
            "I0228 09:11:23.097542 140071914043264 efficientnet_model.py:144] round_filter input=112 output=112\n",
            "I0228 09:11:23.495466 140071914043264 efficientnet_model.py:144] round_filter input=112 output=112\n",
            "I0228 09:11:23.495659 140071914043264 efficientnet_model.py:144] round_filter input=192 output=192\n",
            "I0228 09:11:23.986150 140071914043264 efficientnet_model.py:144] round_filter input=192 output=192\n",
            "I0228 09:11:23.986386 140071914043264 efficientnet_model.py:144] round_filter input=320 output=320\n",
            "I0228 09:11:24.188138 140071914043264 efficientnet_model.py:144] round_filter input=1280 output=1280\n",
            "I0228 09:11:24.226738 140071914043264 efficientnet_model.py:454] Building model efficientnet with params ModelConfig(width_coefficient=1.0, depth_coefficient=1.1, resolution=240, dropout_rate=0.2, blocks=(BlockConfig(input_filters=32, output_filters=16, kernel_size=3, num_repeat=1, expand_ratio=1, strides=(1, 1), se_ratio=0.25, id_skip=True, fused_conv=False, conv_type='depthwise'), BlockConfig(input_filters=16, output_filters=24, kernel_size=3, num_repeat=2, expand_ratio=6, strides=(2, 2), se_ratio=0.25, id_skip=True, fused_conv=False, conv_type='depthwise'), BlockConfig(input_filters=24, output_filters=40, kernel_size=5, num_repeat=2, expand_ratio=6, strides=(2, 2), se_ratio=0.25, id_skip=True, fused_conv=False, conv_type='depthwise'), BlockConfig(input_filters=40, output_filters=80, kernel_size=3, num_repeat=3, expand_ratio=6, strides=(2, 2), se_ratio=0.25, id_skip=True, fused_conv=False, conv_type='depthwise'), BlockConfig(input_filters=80, output_filters=112, kernel_size=5, num_repeat=3, expand_ratio=6, strides=(1, 1), se_ratio=0.25, id_skip=True, fused_conv=False, conv_type='depthwise'), BlockConfig(input_filters=112, output_filters=192, kernel_size=5, num_repeat=4, expand_ratio=6, strides=(2, 2), se_ratio=0.25, id_skip=True, fused_conv=False, conv_type='depthwise'), BlockConfig(input_filters=192, output_filters=320, kernel_size=3, num_repeat=1, expand_ratio=6, strides=(1, 1), se_ratio=0.25, id_skip=True, fused_conv=False, conv_type='depthwise')), stem_base_filters=32, top_base_filters=1280, activation='simple_swish', batch_norm='default', bn_momentum=0.99, bn_epsilon=0.001, weight_decay=5e-06, drop_connect_rate=0.2, depth_divisor=8, min_depth=None, use_se=True, input_channels=3, num_classes=1000, model_name='efficientnet', rescale_input=False, data_format='channels_last', dtype='float32')\n",
            "I0228 09:11:24.315006 140071914043264 ssd_efficientnet_bifpn_feature_extractor.py:146] EfficientDet EfficientNet backbone version: efficientnet-b2\n",
            "I0228 09:11:24.315217 140071914043264 ssd_efficientnet_bifpn_feature_extractor.py:147] EfficientDet BiFPN num filters: 112\n",
            "I0228 09:11:24.315346 140071914043264 ssd_efficientnet_bifpn_feature_extractor.py:149] EfficientDet BiFPN num iterations: 5\n",
            "I0228 09:11:24.317441 140071914043264 efficientnet_model.py:144] round_filter input=32 output=32\n",
            "I0228 09:11:24.337496 140071914043264 efficientnet_model.py:144] round_filter input=32 output=32\n",
            "I0228 09:11:24.337684 140071914043264 efficientnet_model.py:144] round_filter input=16 output=16\n",
            "I0228 09:11:24.507383 140071914043264 efficientnet_model.py:144] round_filter input=16 output=16\n",
            "I0228 09:11:24.507615 140071914043264 efficientnet_model.py:144] round_filter input=24 output=24\n",
            "I0228 09:11:24.827264 140071914043264 efficientnet_model.py:144] round_filter input=24 output=24\n",
            "I0228 09:11:24.827459 140071914043264 efficientnet_model.py:144] round_filter input=40 output=48\n",
            "I0228 09:11:25.136054 140071914043264 efficientnet_model.py:144] round_filter input=40 output=48\n",
            "I0228 09:11:25.136292 140071914043264 efficientnet_model.py:144] round_filter input=80 output=88\n",
            "I0228 09:11:25.534297 140071914043264 efficientnet_model.py:144] round_filter input=80 output=88\n",
            "I0228 09:11:25.534516 140071914043264 efficientnet_model.py:144] round_filter input=112 output=120\n",
            "I0228 09:11:26.138674 140071914043264 efficientnet_model.py:144] round_filter input=112 output=120\n",
            "I0228 09:11:26.139040 140071914043264 efficientnet_model.py:144] round_filter input=192 output=208\n",
            "I0228 09:11:26.667832 140071914043264 efficientnet_model.py:144] round_filter input=192 output=208\n",
            "I0228 09:11:26.668048 140071914043264 efficientnet_model.py:144] round_filter input=320 output=352\n",
            "I0228 09:11:26.870178 140071914043264 efficientnet_model.py:144] round_filter input=1280 output=1408\n",
            "I0228 09:11:26.906483 140071914043264 efficientnet_model.py:454] Building model efficientnet with params ModelConfig(width_coefficient=1.1, depth_coefficient=1.2, resolution=260, dropout_rate=0.3, blocks=(BlockConfig(input_filters=32, output_filters=16, kernel_size=3, num_repeat=1, expand_ratio=1, strides=(1, 1), se_ratio=0.25, id_skip=True, fused_conv=False, conv_type='depthwise'), BlockConfig(input_filters=16, output_filters=24, kernel_size=3, num_repeat=2, expand_ratio=6, strides=(2, 2), se_ratio=0.25, id_skip=True, fused_conv=False, conv_type='depthwise'), BlockConfig(input_filters=24, output_filters=40, kernel_size=5, num_repeat=2, expand_ratio=6, strides=(2, 2), se_ratio=0.25, id_skip=True, fused_conv=False, conv_type='depthwise'), BlockConfig(input_filters=40, output_filters=80, kernel_size=3, num_repeat=3, expand_ratio=6, strides=(2, 2), se_ratio=0.25, id_skip=True, fused_conv=False, conv_type='depthwise'), BlockConfig(input_filters=80, output_filters=112, kernel_size=5, num_repeat=3, expand_ratio=6, strides=(1, 1), se_ratio=0.25, id_skip=True, fused_conv=False, conv_type='depthwise'), BlockConfig(input_filters=112, output_filters=192, kernel_size=5, num_repeat=4, expand_ratio=6, strides=(2, 2), se_ratio=0.25, id_skip=True, fused_conv=False, conv_type='depthwise'), BlockConfig(input_filters=192, output_filters=320, kernel_size=3, num_repeat=1, expand_ratio=6, strides=(1, 1), se_ratio=0.25, id_skip=True, fused_conv=False, conv_type='depthwise')), stem_base_filters=32, top_base_filters=1280, activation='simple_swish', batch_norm='default', bn_momentum=0.99, bn_epsilon=0.001, weight_decay=5e-06, drop_connect_rate=0.2, depth_divisor=8, min_depth=None, use_se=True, input_channels=3, num_classes=1000, model_name='efficientnet', rescale_input=False, data_format='channels_last', dtype='float32')\n",
            "I0228 09:11:26.993352 140071914043264 ssd_efficientnet_bifpn_feature_extractor.py:146] EfficientDet EfficientNet backbone version: efficientnet-b3\n",
            "I0228 09:11:26.993536 140071914043264 ssd_efficientnet_bifpn_feature_extractor.py:147] EfficientDet BiFPN num filters: 160\n",
            "I0228 09:11:26.993652 140071914043264 ssd_efficientnet_bifpn_feature_extractor.py:149] EfficientDet BiFPN num iterations: 6\n",
            "I0228 09:11:26.995777 140071914043264 efficientnet_model.py:144] round_filter input=32 output=40\n",
            "I0228 09:11:27.017781 140071914043264 efficientnet_model.py:144] round_filter input=32 output=40\n",
            "I0228 09:11:27.017933 140071914043264 efficientnet_model.py:144] round_filter input=16 output=24\n",
            "I0228 09:11:27.174513 140071914043264 efficientnet_model.py:144] round_filter input=16 output=24\n",
            "I0228 09:11:27.174703 140071914043264 efficientnet_model.py:144] round_filter input=24 output=32\n",
            "I0228 09:11:27.478908 140071914043264 efficientnet_model.py:144] round_filter input=24 output=32\n",
            "I0228 09:11:27.479107 140071914043264 efficientnet_model.py:144] round_filter input=40 output=48\n",
            "I0228 09:11:27.776510 140071914043264 efficientnet_model.py:144] round_filter input=40 output=48\n",
            "I0228 09:11:27.776796 140071914043264 efficientnet_model.py:144] round_filter input=80 output=96\n",
            "I0228 09:11:28.269338 140071914043264 efficientnet_model.py:144] round_filter input=80 output=96\n",
            "I0228 09:11:28.269577 140071914043264 efficientnet_model.py:144] round_filter input=112 output=136\n",
            "I0228 09:11:28.757864 140071914043264 efficientnet_model.py:144] round_filter input=112 output=136\n",
            "I0228 09:11:28.758093 140071914043264 efficientnet_model.py:144] round_filter input=192 output=232\n",
            "I0228 09:11:29.394098 140071914043264 efficientnet_model.py:144] round_filter input=192 output=232\n",
            "I0228 09:11:29.394301 140071914043264 efficientnet_model.py:144] round_filter input=320 output=384\n",
            "I0228 09:11:29.594717 140071914043264 efficientnet_model.py:144] round_filter input=1280 output=1536\n",
            "I0228 09:11:29.633002 140071914043264 efficientnet_model.py:454] Building model efficientnet with params ModelConfig(width_coefficient=1.2, depth_coefficient=1.4, resolution=300, dropout_rate=0.3, blocks=(BlockConfig(input_filters=32, output_filters=16, kernel_size=3, num_repeat=1, expand_ratio=1, strides=(1, 1), se_ratio=0.25, id_skip=True, fused_conv=False, conv_type='depthwise'), BlockConfig(input_filters=16, output_filters=24, kernel_size=3, num_repeat=2, expand_ratio=6, strides=(2, 2), se_ratio=0.25, id_skip=True, fused_conv=False, conv_type='depthwise'), BlockConfig(input_filters=24, output_filters=40, kernel_size=5, num_repeat=2, expand_ratio=6, strides=(2, 2), se_ratio=0.25, id_skip=True, fused_conv=False, conv_type='depthwise'), BlockConfig(input_filters=40, output_filters=80, kernel_size=3, num_repeat=3, expand_ratio=6, strides=(2, 2), se_ratio=0.25, id_skip=True, fused_conv=False, conv_type='depthwise'), BlockConfig(input_filters=80, output_filters=112, kernel_size=5, num_repeat=3, expand_ratio=6, strides=(1, 1), se_ratio=0.25, id_skip=True, fused_conv=False, conv_type='depthwise'), BlockConfig(input_filters=112, output_filters=192, kernel_size=5, num_repeat=4, expand_ratio=6, strides=(2, 2), se_ratio=0.25, id_skip=True, fused_conv=False, conv_type='depthwise'), BlockConfig(input_filters=192, output_filters=320, kernel_size=3, num_repeat=1, expand_ratio=6, strides=(1, 1), se_ratio=0.25, id_skip=True, fused_conv=False, conv_type='depthwise')), stem_base_filters=32, top_base_filters=1280, activation='simple_swish', batch_norm='default', bn_momentum=0.99, bn_epsilon=0.001, weight_decay=5e-06, drop_connect_rate=0.2, depth_divisor=8, min_depth=None, use_se=True, input_channels=3, num_classes=1000, model_name='efficientnet', rescale_input=False, data_format='channels_last', dtype='float32')\n",
            "I0228 09:11:29.721108 140071914043264 ssd_efficientnet_bifpn_feature_extractor.py:146] EfficientDet EfficientNet backbone version: efficientnet-b4\n",
            "I0228 09:11:29.721374 140071914043264 ssd_efficientnet_bifpn_feature_extractor.py:147] EfficientDet BiFPN num filters: 224\n",
            "I0228 09:11:29.721493 140071914043264 ssd_efficientnet_bifpn_feature_extractor.py:149] EfficientDet BiFPN num iterations: 7\n",
            "I0228 09:11:29.723424 140071914043264 efficientnet_model.py:144] round_filter input=32 output=48\n",
            "I0228 09:11:29.743519 140071914043264 efficientnet_model.py:144] round_filter input=32 output=48\n",
            "I0228 09:11:29.743650 140071914043264 efficientnet_model.py:144] round_filter input=16 output=24\n",
            "I0228 09:11:29.913893 140071914043264 efficientnet_model.py:144] round_filter input=16 output=24\n",
            "I0228 09:11:29.914096 140071914043264 efficientnet_model.py:144] round_filter input=24 output=32\n",
            "I0228 09:11:30.333137 140071914043264 efficientnet_model.py:144] round_filter input=24 output=32\n",
            "I0228 09:11:30.333337 140071914043264 efficientnet_model.py:144] round_filter input=40 output=56\n",
            "I0228 09:11:30.733005 140071914043264 efficientnet_model.py:144] round_filter input=40 output=56\n",
            "I0228 09:11:30.733203 140071914043264 efficientnet_model.py:144] round_filter input=80 output=112\n",
            "I0228 09:11:31.344178 140071914043264 efficientnet_model.py:144] round_filter input=80 output=112\n",
            "I0228 09:11:31.344386 140071914043264 efficientnet_model.py:144] round_filter input=112 output=160\n",
            "I0228 09:11:31.936854 140071914043264 efficientnet_model.py:144] round_filter input=112 output=160\n",
            "I0228 09:11:31.937092 140071914043264 efficientnet_model.py:144] round_filter input=192 output=272\n",
            "I0228 09:11:33.025166 140071914043264 efficientnet_model.py:144] round_filter input=192 output=272\n",
            "I0228 09:11:33.025378 140071914043264 efficientnet_model.py:144] round_filter input=320 output=448\n",
            "I0228 09:11:33.225466 140071914043264 efficientnet_model.py:144] round_filter input=1280 output=1792\n",
            "I0228 09:11:33.262397 140071914043264 efficientnet_model.py:454] Building model efficientnet with params ModelConfig(width_coefficient=1.4, depth_coefficient=1.8, resolution=380, dropout_rate=0.4, blocks=(BlockConfig(input_filters=32, output_filters=16, kernel_size=3, num_repeat=1, expand_ratio=1, strides=(1, 1), se_ratio=0.25, id_skip=True, fused_conv=False, conv_type='depthwise'), BlockConfig(input_filters=16, output_filters=24, kernel_size=3, num_repeat=2, expand_ratio=6, strides=(2, 2), se_ratio=0.25, id_skip=True, fused_conv=False, conv_type='depthwise'), BlockConfig(input_filters=24, output_filters=40, kernel_size=5, num_repeat=2, expand_ratio=6, strides=(2, 2), se_ratio=0.25, id_skip=True, fused_conv=False, conv_type='depthwise'), BlockConfig(input_filters=40, output_filters=80, kernel_size=3, num_repeat=3, expand_ratio=6, strides=(2, 2), se_ratio=0.25, id_skip=True, fused_conv=False, conv_type='depthwise'), BlockConfig(input_filters=80, output_filters=112, kernel_size=5, num_repeat=3, expand_ratio=6, strides=(1, 1), se_ratio=0.25, id_skip=True, fused_conv=False, conv_type='depthwise'), BlockConfig(input_filters=112, output_filters=192, kernel_size=5, num_repeat=4, expand_ratio=6, strides=(2, 2), se_ratio=0.25, id_skip=True, fused_conv=False, conv_type='depthwise'), BlockConfig(input_filters=192, output_filters=320, kernel_size=3, num_repeat=1, expand_ratio=6, strides=(1, 1), se_ratio=0.25, id_skip=True, fused_conv=False, conv_type='depthwise')), stem_base_filters=32, top_base_filters=1280, activation='simple_swish', batch_norm='default', bn_momentum=0.99, bn_epsilon=0.001, weight_decay=5e-06, drop_connect_rate=0.2, depth_divisor=8, min_depth=None, use_se=True, input_channels=3, num_classes=1000, model_name='efficientnet', rescale_input=False, data_format='channels_last', dtype='float32')\n",
            "I0228 09:11:33.362594 140071914043264 ssd_efficientnet_bifpn_feature_extractor.py:146] EfficientDet EfficientNet backbone version: efficientnet-b5\n",
            "I0228 09:11:33.362782 140071914043264 ssd_efficientnet_bifpn_feature_extractor.py:147] EfficientDet BiFPN num filters: 288\n",
            "I0228 09:11:33.362931 140071914043264 ssd_efficientnet_bifpn_feature_extractor.py:149] EfficientDet BiFPN num iterations: 7\n",
            "I0228 09:11:33.365059 140071914043264 efficientnet_model.py:144] round_filter input=32 output=48\n",
            "I0228 09:11:33.384539 140071914043264 efficientnet_model.py:144] round_filter input=32 output=48\n",
            "I0228 09:11:33.384671 140071914043264 efficientnet_model.py:144] round_filter input=16 output=24\n",
            "I0228 09:11:33.634393 140071914043264 efficientnet_model.py:144] round_filter input=16 output=24\n",
            "I0228 09:11:33.634584 140071914043264 efficientnet_model.py:144] round_filter input=24 output=40\n",
            "I0228 09:11:34.131026 140071914043264 efficientnet_model.py:144] round_filter input=24 output=40\n",
            "I0228 09:11:34.131226 140071914043264 efficientnet_model.py:144] round_filter input=40 output=64\n",
            "I0228 09:11:34.630468 140071914043264 efficientnet_model.py:144] round_filter input=40 output=64\n",
            "I0228 09:11:34.630686 140071914043264 efficientnet_model.py:144] round_filter input=80 output=128\n",
            "I0228 09:11:35.349098 140071914043264 efficientnet_model.py:144] round_filter input=80 output=128\n",
            "I0228 09:11:35.349298 140071914043264 efficientnet_model.py:144] round_filter input=112 output=176\n",
            "I0228 09:11:36.047329 140071914043264 efficientnet_model.py:144] round_filter input=112 output=176\n",
            "I0228 09:11:36.047529 140071914043264 efficientnet_model.py:144] round_filter input=192 output=304\n",
            "I0228 09:11:36.931127 140071914043264 efficientnet_model.py:144] round_filter input=192 output=304\n",
            "I0228 09:11:36.931354 140071914043264 efficientnet_model.py:144] round_filter input=320 output=512\n",
            "I0228 09:11:37.233993 140071914043264 efficientnet_model.py:144] round_filter input=1280 output=2048\n",
            "I0228 09:11:37.270556 140071914043264 efficientnet_model.py:454] Building model efficientnet with params ModelConfig(width_coefficient=1.6, depth_coefficient=2.2, resolution=456, dropout_rate=0.4, blocks=(BlockConfig(input_filters=32, output_filters=16, kernel_size=3, num_repeat=1, expand_ratio=1, strides=(1, 1), se_ratio=0.25, id_skip=True, fused_conv=False, conv_type='depthwise'), BlockConfig(input_filters=16, output_filters=24, kernel_size=3, num_repeat=2, expand_ratio=6, strides=(2, 2), se_ratio=0.25, id_skip=True, fused_conv=False, conv_type='depthwise'), BlockConfig(input_filters=24, output_filters=40, kernel_size=5, num_repeat=2, expand_ratio=6, strides=(2, 2), se_ratio=0.25, id_skip=True, fused_conv=False, conv_type='depthwise'), BlockConfig(input_filters=40, output_filters=80, kernel_size=3, num_repeat=3, expand_ratio=6, strides=(2, 2), se_ratio=0.25, id_skip=True, fused_conv=False, conv_type='depthwise'), BlockConfig(input_filters=80, output_filters=112, kernel_size=5, num_repeat=3, expand_ratio=6, strides=(1, 1), se_ratio=0.25, id_skip=True, fused_conv=False, conv_type='depthwise'), BlockConfig(input_filters=112, output_filters=192, kernel_size=5, num_repeat=4, expand_ratio=6, strides=(2, 2), se_ratio=0.25, id_skip=True, fused_conv=False, conv_type='depthwise'), BlockConfig(input_filters=192, output_filters=320, kernel_size=3, num_repeat=1, expand_ratio=6, strides=(1, 1), se_ratio=0.25, id_skip=True, fused_conv=False, conv_type='depthwise')), stem_base_filters=32, top_base_filters=1280, activation='simple_swish', batch_norm='default', bn_momentum=0.99, bn_epsilon=0.001, weight_decay=5e-06, drop_connect_rate=0.2, depth_divisor=8, min_depth=None, use_se=True, input_channels=3, num_classes=1000, model_name='efficientnet', rescale_input=False, data_format='channels_last', dtype='float32')\n",
            "I0228 09:11:37.374412 140071914043264 ssd_efficientnet_bifpn_feature_extractor.py:146] EfficientDet EfficientNet backbone version: efficientnet-b6\n",
            "I0228 09:11:37.374603 140071914043264 ssd_efficientnet_bifpn_feature_extractor.py:147] EfficientDet BiFPN num filters: 384\n",
            "I0228 09:11:37.374755 140071914043264 ssd_efficientnet_bifpn_feature_extractor.py:149] EfficientDet BiFPN num iterations: 8\n",
            "I0228 09:11:37.376730 140071914043264 efficientnet_model.py:144] round_filter input=32 output=56\n",
            "I0228 09:11:37.396322 140071914043264 efficientnet_model.py:144] round_filter input=32 output=56\n",
            "I0228 09:11:37.396486 140071914043264 efficientnet_model.py:144] round_filter input=16 output=32\n",
            "I0228 09:11:37.641969 140071914043264 efficientnet_model.py:144] round_filter input=16 output=32\n",
            "I0228 09:11:37.642174 140071914043264 efficientnet_model.py:144] round_filter input=24 output=40\n",
            "I0228 09:11:38.284801 140071914043264 efficientnet_model.py:144] round_filter input=24 output=40\n",
            "I0228 09:11:38.285049 140071914043264 efficientnet_model.py:144] round_filter input=40 output=72\n",
            "I0228 09:11:39.215451 140071914043264 efficientnet_model.py:144] round_filter input=40 output=72\n",
            "I0228 09:11:39.215650 140071914043264 efficientnet_model.py:144] round_filter input=80 output=144\n",
            "I0228 09:11:40.561764 140071914043264 efficientnet_model.py:144] round_filter input=80 output=144\n",
            "I0228 09:11:40.561978 140071914043264 efficientnet_model.py:144] round_filter input=112 output=200\n",
            "I0228 09:11:42.436272 140071914043264 efficientnet_model.py:144] round_filter input=112 output=200\n",
            "I0228 09:11:42.436530 140071914043264 efficientnet_model.py:144] round_filter input=192 output=344\n",
            "I0228 09:11:43.598595 140071914043264 efficientnet_model.py:144] round_filter input=192 output=344\n",
            "I0228 09:11:43.598808 140071914043264 efficientnet_model.py:144] round_filter input=320 output=576\n",
            "I0228 09:11:43.891101 140071914043264 efficientnet_model.py:144] round_filter input=1280 output=2304\n",
            "I0228 09:11:43.925458 140071914043264 efficientnet_model.py:454] Building model efficientnet with params ModelConfig(width_coefficient=1.8, depth_coefficient=2.6, resolution=528, dropout_rate=0.5, blocks=(BlockConfig(input_filters=32, output_filters=16, kernel_size=3, num_repeat=1, expand_ratio=1, strides=(1, 1), se_ratio=0.25, id_skip=True, fused_conv=False, conv_type='depthwise'), BlockConfig(input_filters=16, output_filters=24, kernel_size=3, num_repeat=2, expand_ratio=6, strides=(2, 2), se_ratio=0.25, id_skip=True, fused_conv=False, conv_type='depthwise'), BlockConfig(input_filters=24, output_filters=40, kernel_size=5, num_repeat=2, expand_ratio=6, strides=(2, 2), se_ratio=0.25, id_skip=True, fused_conv=False, conv_type='depthwise'), BlockConfig(input_filters=40, output_filters=80, kernel_size=3, num_repeat=3, expand_ratio=6, strides=(2, 2), se_ratio=0.25, id_skip=True, fused_conv=False, conv_type='depthwise'), BlockConfig(input_filters=80, output_filters=112, kernel_size=5, num_repeat=3, expand_ratio=6, strides=(1, 1), se_ratio=0.25, id_skip=True, fused_conv=False, conv_type='depthwise'), BlockConfig(input_filters=112, output_filters=192, kernel_size=5, num_repeat=4, expand_ratio=6, strides=(2, 2), se_ratio=0.25, id_skip=True, fused_conv=False, conv_type='depthwise'), BlockConfig(input_filters=192, output_filters=320, kernel_size=3, num_repeat=1, expand_ratio=6, strides=(1, 1), se_ratio=0.25, id_skip=True, fused_conv=False, conv_type='depthwise')), stem_base_filters=32, top_base_filters=1280, activation='simple_swish', batch_norm='default', bn_momentum=0.99, bn_epsilon=0.001, weight_decay=5e-06, drop_connect_rate=0.2, depth_divisor=8, min_depth=None, use_se=True, input_channels=3, num_classes=1000, model_name='efficientnet', rescale_input=False, data_format='channels_last', dtype='float32')\n",
            "I0228 09:11:44.045839 140071914043264 ssd_efficientnet_bifpn_feature_extractor.py:146] EfficientDet EfficientNet backbone version: efficientnet-b7\n",
            "I0228 09:11:44.046103 140071914043264 ssd_efficientnet_bifpn_feature_extractor.py:147] EfficientDet BiFPN num filters: 384\n",
            "I0228 09:11:44.046216 140071914043264 ssd_efficientnet_bifpn_feature_extractor.py:149] EfficientDet BiFPN num iterations: 8\n",
            "I0228 09:11:44.048267 140071914043264 efficientnet_model.py:144] round_filter input=32 output=64\n",
            "I0228 09:11:44.069329 140071914043264 efficientnet_model.py:144] round_filter input=32 output=64\n",
            "I0228 09:11:44.069516 140071914043264 efficientnet_model.py:144] round_filter input=16 output=32\n",
            "I0228 09:11:44.407245 140071914043264 efficientnet_model.py:144] round_filter input=16 output=32\n",
            "I0228 09:11:44.407453 140071914043264 efficientnet_model.py:144] round_filter input=24 output=48\n",
            "I0228 09:11:45.156578 140071914043264 efficientnet_model.py:144] round_filter input=24 output=48\n",
            "I0228 09:11:45.156901 140071914043264 efficientnet_model.py:144] round_filter input=40 output=80\n",
            "I0228 09:11:45.906373 140071914043264 efficientnet_model.py:144] round_filter input=40 output=80\n",
            "I0228 09:11:45.906616 140071914043264 efficientnet_model.py:144] round_filter input=80 output=160\n",
            "I0228 09:11:46.872143 140071914043264 efficientnet_model.py:144] round_filter input=80 output=160\n",
            "I0228 09:11:46.872339 140071914043264 efficientnet_model.py:144] round_filter input=112 output=224\n",
            "I0228 09:11:48.152154 140071914043264 efficientnet_model.py:144] round_filter input=112 output=224\n",
            "I0228 09:11:48.152359 140071914043264 efficientnet_model.py:144] round_filter input=192 output=384\n",
            "I0228 09:11:49.480659 140071914043264 efficientnet_model.py:144] round_filter input=192 output=384\n",
            "I0228 09:11:49.480909 140071914043264 efficientnet_model.py:144] round_filter input=320 output=640\n",
            "I0228 09:11:49.877051 140071914043264 efficientnet_model.py:144] round_filter input=1280 output=2560\n",
            "I0228 09:11:49.928251 140071914043264 efficientnet_model.py:454] Building model efficientnet with params ModelConfig(width_coefficient=2.0, depth_coefficient=3.1, resolution=600, dropout_rate=0.5, blocks=(BlockConfig(input_filters=32, output_filters=16, kernel_size=3, num_repeat=1, expand_ratio=1, strides=(1, 1), se_ratio=0.25, id_skip=True, fused_conv=False, conv_type='depthwise'), BlockConfig(input_filters=16, output_filters=24, kernel_size=3, num_repeat=2, expand_ratio=6, strides=(2, 2), se_ratio=0.25, id_skip=True, fused_conv=False, conv_type='depthwise'), BlockConfig(input_filters=24, output_filters=40, kernel_size=5, num_repeat=2, expand_ratio=6, strides=(2, 2), se_ratio=0.25, id_skip=True, fused_conv=False, conv_type='depthwise'), BlockConfig(input_filters=40, output_filters=80, kernel_size=3, num_repeat=3, expand_ratio=6, strides=(2, 2), se_ratio=0.25, id_skip=True, fused_conv=False, conv_type='depthwise'), BlockConfig(input_filters=80, output_filters=112, kernel_size=5, num_repeat=3, expand_ratio=6, strides=(1, 1), se_ratio=0.25, id_skip=True, fused_conv=False, conv_type='depthwise'), BlockConfig(input_filters=112, output_filters=192, kernel_size=5, num_repeat=4, expand_ratio=6, strides=(2, 2), se_ratio=0.25, id_skip=True, fused_conv=False, conv_type='depthwise'), BlockConfig(input_filters=192, output_filters=320, kernel_size=3, num_repeat=1, expand_ratio=6, strides=(1, 1), se_ratio=0.25, id_skip=True, fused_conv=False, conv_type='depthwise')), stem_base_filters=32, top_base_filters=1280, activation='simple_swish', batch_norm='default', bn_momentum=0.99, bn_epsilon=0.001, weight_decay=5e-06, drop_connect_rate=0.2, depth_divisor=8, min_depth=None, use_se=True, input_channels=3, num_classes=1000, model_name='efficientnet', rescale_input=False, data_format='channels_last', dtype='float32')\n",
            "INFO:tensorflow:time(__main__.ModelBuilderTF2Test.test_create_ssd_models_from_config): 30.31s\n",
            "I0228 09:11:50.081947 140071914043264 test_util.py:2374] time(__main__.ModelBuilderTF2Test.test_create_ssd_models_from_config): 30.31s\n",
            "[       OK ] ModelBuilderTF2Test.test_create_ssd_models_from_config\n",
            "[ RUN      ] ModelBuilderTF2Test.test_invalid_faster_rcnn_batchnorm_update\n",
            "INFO:tensorflow:time(__main__.ModelBuilderTF2Test.test_invalid_faster_rcnn_batchnorm_update): 0.0s\n",
            "I0228 09:11:50.088984 140071914043264 test_util.py:2374] time(__main__.ModelBuilderTF2Test.test_invalid_faster_rcnn_batchnorm_update): 0.0s\n",
            "[       OK ] ModelBuilderTF2Test.test_invalid_faster_rcnn_batchnorm_update\n",
            "[ RUN      ] ModelBuilderTF2Test.test_invalid_first_stage_nms_iou_threshold\n",
            "INFO:tensorflow:time(__main__.ModelBuilderTF2Test.test_invalid_first_stage_nms_iou_threshold): 0.0s\n",
            "I0228 09:11:50.091030 140071914043264 test_util.py:2374] time(__main__.ModelBuilderTF2Test.test_invalid_first_stage_nms_iou_threshold): 0.0s\n",
            "[       OK ] ModelBuilderTF2Test.test_invalid_first_stage_nms_iou_threshold\n",
            "[ RUN      ] ModelBuilderTF2Test.test_invalid_model_config_proto\n",
            "INFO:tensorflow:time(__main__.ModelBuilderTF2Test.test_invalid_model_config_proto): 0.0s\n",
            "I0228 09:11:50.091651 140071914043264 test_util.py:2374] time(__main__.ModelBuilderTF2Test.test_invalid_model_config_proto): 0.0s\n",
            "[       OK ] ModelBuilderTF2Test.test_invalid_model_config_proto\n",
            "[ RUN      ] ModelBuilderTF2Test.test_invalid_second_stage_batch_size\n",
            "INFO:tensorflow:time(__main__.ModelBuilderTF2Test.test_invalid_second_stage_batch_size): 0.0s\n",
            "I0228 09:11:50.093605 140071914043264 test_util.py:2374] time(__main__.ModelBuilderTF2Test.test_invalid_second_stage_batch_size): 0.0s\n",
            "[       OK ] ModelBuilderTF2Test.test_invalid_second_stage_batch_size\n",
            "[ RUN      ] ModelBuilderTF2Test.test_session\n",
            "[  SKIPPED ] ModelBuilderTF2Test.test_session\n",
            "[ RUN      ] ModelBuilderTF2Test.test_unknown_faster_rcnn_feature_extractor\n",
            "INFO:tensorflow:time(__main__.ModelBuilderTF2Test.test_unknown_faster_rcnn_feature_extractor): 0.0s\n",
            "I0228 09:11:50.095340 140071914043264 test_util.py:2374] time(__main__.ModelBuilderTF2Test.test_unknown_faster_rcnn_feature_extractor): 0.0s\n",
            "[       OK ] ModelBuilderTF2Test.test_unknown_faster_rcnn_feature_extractor\n",
            "[ RUN      ] ModelBuilderTF2Test.test_unknown_meta_architecture\n",
            "INFO:tensorflow:time(__main__.ModelBuilderTF2Test.test_unknown_meta_architecture): 0.0s\n",
            "I0228 09:11:50.095921 140071914043264 test_util.py:2374] time(__main__.ModelBuilderTF2Test.test_unknown_meta_architecture): 0.0s\n",
            "[       OK ] ModelBuilderTF2Test.test_unknown_meta_architecture\n",
            "[ RUN      ] ModelBuilderTF2Test.test_unknown_ssd_feature_extractor\n",
            "INFO:tensorflow:time(__main__.ModelBuilderTF2Test.test_unknown_ssd_feature_extractor): 0.0s\n",
            "I0228 09:11:50.097141 140071914043264 test_util.py:2374] time(__main__.ModelBuilderTF2Test.test_unknown_ssd_feature_extractor): 0.0s\n",
            "[       OK ] ModelBuilderTF2Test.test_unknown_ssd_feature_extractor\n",
            "----------------------------------------------------------------------\n",
            "Ran 24 tests in 36.127s\n",
            "\n",
            "OK (skipped=1)\n"
          ]
        }
      ]
    },
    {
      "cell_type": "code",
      "source": [
        "!pip install tensorflow==2.8.0"
      ],
      "metadata": {
        "colab": {
          "base_uri": "https://localhost:8080/",
          "height": 1000
        },
        "id": "XiQy1Rz-2-7G",
        "outputId": "3b43c77f-afd5-4f80-c3b5-bf2c6859f873"
      },
      "execution_count": 2,
      "outputs": [
        {
          "output_type": "stream",
          "name": "stdout",
          "text": [
            "Collecting tensorflow==2.8.0\n",
            "  Downloading tensorflow-2.8.0-cp37-cp37m-manylinux2010_x86_64.whl (497.5 MB)\n",
            "\u001b[K     |████████████████████████████████| 497.5 MB 24 kB/s \n",
            "\u001b[?25hRequirement already satisfied: tf-estimator-nightly==2.8.0.dev2021122109 in /usr/local/lib/python3.7/dist-packages (from tensorflow==2.8.0) (2.8.0.dev2021122109)\n",
            "Requirement already satisfied: opt-einsum>=2.3.2 in /usr/local/lib/python3.7/dist-packages (from tensorflow==2.8.0) (3.3.0)\n",
            "Requirement already satisfied: absl-py>=0.4.0 in /usr/local/lib/python3.7/dist-packages (from tensorflow==2.8.0) (1.0.0)\n",
            "Requirement already satisfied: tensorflow-io-gcs-filesystem>=0.23.1 in /usr/local/lib/python3.7/dist-packages (from tensorflow==2.8.0) (0.24.0)\n",
            "Requirement already satisfied: libclang>=9.0.1 in /usr/local/lib/python3.7/dist-packages (from tensorflow==2.8.0) (13.0.0)\n",
            "Requirement already satisfied: flatbuffers>=1.12 in /usr/local/lib/python3.7/dist-packages (from tensorflow==2.8.0) (2.0)\n",
            "Requirement already satisfied: astunparse>=1.6.0 in /usr/local/lib/python3.7/dist-packages (from tensorflow==2.8.0) (1.6.3)\n",
            "Requirement already satisfied: keras<2.9,>=2.8.0rc0 in /usr/local/lib/python3.7/dist-packages (from tensorflow==2.8.0) (2.8.0)\n",
            "Requirement already satisfied: tensorboard<2.9,>=2.8 in /usr/local/lib/python3.7/dist-packages (from tensorflow==2.8.0) (2.8.0)\n",
            "Requirement already satisfied: wrapt>=1.11.0 in /usr/local/lib/python3.7/dist-packages (from tensorflow==2.8.0) (1.13.3)\n",
            "Requirement already satisfied: termcolor>=1.1.0 in /usr/local/lib/python3.7/dist-packages (from tensorflow==2.8.0) (1.1.0)\n",
            "Requirement already satisfied: h5py>=2.9.0 in /usr/local/lib/python3.7/dist-packages (from tensorflow==2.8.0) (3.1.0)\n",
            "Requirement already satisfied: google-pasta>=0.1.1 in /usr/local/lib/python3.7/dist-packages (from tensorflow==2.8.0) (0.2.0)\n",
            "Requirement already satisfied: keras-preprocessing>=1.1.1 in /usr/local/lib/python3.7/dist-packages (from tensorflow==2.8.0) (1.1.2)\n",
            "Requirement already satisfied: grpcio<2.0,>=1.24.3 in /usr/local/lib/python3.7/dist-packages (from tensorflow==2.8.0) (1.43.0)\n",
            "Requirement already satisfied: protobuf>=3.9.2 in /usr/local/lib/python3.7/dist-packages (from tensorflow==2.8.0) (3.19.4)\n",
            "Requirement already satisfied: typing-extensions>=3.6.6 in /usr/local/lib/python3.7/dist-packages (from tensorflow==2.8.0) (3.10.0.2)\n",
            "Requirement already satisfied: setuptools in /usr/local/lib/python3.7/dist-packages (from tensorflow==2.8.0) (57.4.0)\n",
            "Requirement already satisfied: six>=1.12.0 in /usr/local/lib/python3.7/dist-packages (from tensorflow==2.8.0) (1.15.0)\n",
            "Requirement already satisfied: gast>=0.2.1 in /usr/local/lib/python3.7/dist-packages (from tensorflow==2.8.0) (0.4.0)\n",
            "Requirement already satisfied: numpy>=1.20 in /usr/local/lib/python3.7/dist-packages (from tensorflow==2.8.0) (1.21.5)\n",
            "Requirement already satisfied: wheel<1.0,>=0.23.0 in /usr/local/lib/python3.7/dist-packages (from astunparse>=1.6.0->tensorflow==2.8.0) (0.37.1)\n",
            "Requirement already satisfied: cached-property in /usr/local/lib/python3.7/dist-packages (from h5py>=2.9.0->tensorflow==2.8.0) (1.5.2)\n",
            "Requirement already satisfied: google-auth-oauthlib<0.5,>=0.4.1 in /usr/local/lib/python3.7/dist-packages (from tensorboard<2.9,>=2.8->tensorflow==2.8.0) (0.4.6)\n",
            "Requirement already satisfied: tensorboard-data-server<0.7.0,>=0.6.0 in /usr/local/lib/python3.7/dist-packages (from tensorboard<2.9,>=2.8->tensorflow==2.8.0) (0.6.1)\n",
            "Requirement already satisfied: werkzeug>=0.11.15 in /usr/local/lib/python3.7/dist-packages (from tensorboard<2.9,>=2.8->tensorflow==2.8.0) (1.0.1)\n",
            "Requirement already satisfied: tensorboard-plugin-wit>=1.6.0 in /usr/local/lib/python3.7/dist-packages (from tensorboard<2.9,>=2.8->tensorflow==2.8.0) (1.8.1)\n",
            "Requirement already satisfied: markdown>=2.6.8 in /usr/local/lib/python3.7/dist-packages (from tensorboard<2.9,>=2.8->tensorflow==2.8.0) (3.3.6)\n",
            "Requirement already satisfied: google-auth<3,>=1.6.3 in /usr/local/lib/python3.7/dist-packages (from tensorboard<2.9,>=2.8->tensorflow==2.8.0) (1.35.0)\n",
            "Requirement already satisfied: requests<3,>=2.21.0 in /usr/local/lib/python3.7/dist-packages (from tensorboard<2.9,>=2.8->tensorflow==2.8.0) (2.27.1)\n",
            "Requirement already satisfied: pyasn1-modules>=0.2.1 in /usr/local/lib/python3.7/dist-packages (from google-auth<3,>=1.6.3->tensorboard<2.9,>=2.8->tensorflow==2.8.0) (0.2.8)\n",
            "Requirement already satisfied: rsa<5,>=3.1.4 in /usr/local/lib/python3.7/dist-packages (from google-auth<3,>=1.6.3->tensorboard<2.9,>=2.8->tensorflow==2.8.0) (4.8)\n",
            "Requirement already satisfied: cachetools<5.0,>=2.0.0 in /usr/local/lib/python3.7/dist-packages (from google-auth<3,>=1.6.3->tensorboard<2.9,>=2.8->tensorflow==2.8.0) (4.2.4)\n",
            "Requirement already satisfied: requests-oauthlib>=0.7.0 in /usr/local/lib/python3.7/dist-packages (from google-auth-oauthlib<0.5,>=0.4.1->tensorboard<2.9,>=2.8->tensorflow==2.8.0) (1.3.1)\n",
            "Requirement already satisfied: importlib-metadata>=4.4 in /usr/local/lib/python3.7/dist-packages (from markdown>=2.6.8->tensorboard<2.9,>=2.8->tensorflow==2.8.0) (4.11.1)\n",
            "Requirement already satisfied: zipp>=0.5 in /usr/local/lib/python3.7/dist-packages (from importlib-metadata>=4.4->markdown>=2.6.8->tensorboard<2.9,>=2.8->tensorflow==2.8.0) (3.7.0)\n",
            "Requirement already satisfied: pyasn1<0.5.0,>=0.4.6 in /usr/local/lib/python3.7/dist-packages (from pyasn1-modules>=0.2.1->google-auth<3,>=1.6.3->tensorboard<2.9,>=2.8->tensorflow==2.8.0) (0.4.8)\n",
            "Requirement already satisfied: idna<4,>=2.5 in /usr/local/lib/python3.7/dist-packages (from requests<3,>=2.21.0->tensorboard<2.9,>=2.8->tensorflow==2.8.0) (2.10)\n",
            "Requirement already satisfied: urllib3<1.27,>=1.21.1 in /usr/local/lib/python3.7/dist-packages (from requests<3,>=2.21.0->tensorboard<2.9,>=2.8->tensorflow==2.8.0) (1.24.3)\n",
            "Requirement already satisfied: certifi>=2017.4.17 in /usr/local/lib/python3.7/dist-packages (from requests<3,>=2.21.0->tensorboard<2.9,>=2.8->tensorflow==2.8.0) (2021.10.8)\n",
            "Requirement already satisfied: charset-normalizer~=2.0.0 in /usr/local/lib/python3.7/dist-packages (from requests<3,>=2.21.0->tensorboard<2.9,>=2.8->tensorflow==2.8.0) (2.0.12)\n",
            "Requirement already satisfied: oauthlib>=3.0.0 in /usr/local/lib/python3.7/dist-packages (from requests-oauthlib>=0.7.0->google-auth-oauthlib<0.5,>=0.4.1->tensorboard<2.9,>=2.8->tensorflow==2.8.0) (3.2.0)\n",
            "Installing collected packages: tensorflow\n",
            "  Attempting uninstall: tensorflow\n",
            "    Found existing installation: tensorflow 2.7.0\n",
            "    Uninstalling tensorflow-2.7.0:\n",
            "      Successfully uninstalled tensorflow-2.7.0\n",
            "Successfully installed tensorflow-2.8.0\n"
          ]
        },
        {
          "output_type": "display_data",
          "data": {
            "application/vnd.colab-display-data+json": {
              "pip_warning": {
                "packages": [
                  "tensorflow"
                ]
              }
            }
          },
          "metadata": {}
        }
      ]
    },
    {
      "cell_type": "markdown",
      "source": [
        "#Training Object Detection\n"
      ],
      "metadata": {
        "id": "1LEwq2aH7D0V"
      }
    },
    {
      "cell_type": "markdown",
      "source": [
        "###Preparing Dataset"
      ],
      "metadata": {
        "id": "M004WwTP8Be6"
      }
    },
    {
      "cell_type": "code",
      "source": [
        "cd /content/Brain_Tumor_detection"
      ],
      "metadata": {
        "colab": {
          "base_uri": "https://localhost:8080/"
        },
        "id": "1Vw_PAy8Xyyv",
        "outputId": "83aea254-3087-4a05-d41f-c78745946c93"
      },
      "execution_count": null,
      "outputs": [
        {
          "output_type": "stream",
          "name": "stdout",
          "text": [
            "/content/Brain_Tumor_detection\n"
          ]
        }
      ]
    },
    {
      "cell_type": "code",
      "source": [
        "!mkdir pretrained_model\n"
      ],
      "metadata": {
        "id": "6cC4VGymXyvw"
      },
      "execution_count": null,
      "outputs": []
    },
    {
      "cell_type": "code",
      "source": [
        "cd /content/Brain_Tumor_detection/pretrained_model"
      ],
      "metadata": {
        "colab": {
          "base_uri": "https://localhost:8080/"
        },
        "id": "h23SAL3lXytN",
        "outputId": "07435321-829a-43d5-effa-e1b930539e6b"
      },
      "execution_count": null,
      "outputs": [
        {
          "output_type": "stream",
          "name": "stdout",
          "text": [
            "/content/Brain_Tumor_detection/pretrained_model\n"
          ]
        }
      ]
    },
    {
      "cell_type": "code",
      "source": [
        "!wget http://download.tensorflow.org/models/object_detection/tf2/20200711/ssd_mobilenet_v2_320x320_coco17_tpu-8.tar.gz"
      ],
      "metadata": {
        "colab": {
          "base_uri": "https://localhost:8080/"
        },
        "collapsed": true,
        "id": "NHpp2Fl9Xyqr",
        "outputId": "94aea460-deba-444b-a335-95c383e3b70b"
      },
      "execution_count": null,
      "outputs": [
        {
          "output_type": "stream",
          "name": "stdout",
          "text": [
            "--2022-02-28 10:06:33--  http://download.tensorflow.org/models/object_detection/tf2/20200711/ssd_mobilenet_v2_320x320_coco17_tpu-8.tar.gz\n",
            "Resolving download.tensorflow.org (download.tensorflow.org)... 64.233.183.128, 2607:f8b0:4001:c0b::80\n",
            "Connecting to download.tensorflow.org (download.tensorflow.org)|64.233.183.128|:80... connected.\n",
            "HTTP request sent, awaiting response... 200 OK\n",
            "Length: 46042990 (44M) [application/x-tar]\n",
            "Saving to: ‘ssd_mobilenet_v2_320x320_coco17_tpu-8.tar.gz’\n",
            "\n",
            "ssd_mobilenet_v2_32 100%[===================>]  43.91M   279MB/s    in 0.2s    \n",
            "\n",
            "2022-02-28 10:06:33 (279 MB/s) - ‘ssd_mobilenet_v2_320x320_coco17_tpu-8.tar.gz’ saved [46042990/46042990]\n",
            "\n"
          ]
        }
      ]
    },
    {
      "cell_type": "code",
      "source": [
        "!tar -xvf ssd_mobilenet_v2_320x320_coco17_tpu-8.tar.gz"
      ],
      "metadata": {
        "colab": {
          "base_uri": "https://localhost:8080/"
        },
        "collapsed": true,
        "id": "YbgSmq29btd-",
        "outputId": "c459cd1f-aff1-43be-94ed-6184ee51c794"
      },
      "execution_count": null,
      "outputs": [
        {
          "output_type": "stream",
          "name": "stdout",
          "text": [
            "ssd_mobilenet_v2_320x320_coco17_tpu-8/\n",
            "ssd_mobilenet_v2_320x320_coco17_tpu-8/checkpoint/\n",
            "ssd_mobilenet_v2_320x320_coco17_tpu-8/checkpoint/ckpt-0.data-00000-of-00001\n",
            "ssd_mobilenet_v2_320x320_coco17_tpu-8/checkpoint/checkpoint\n",
            "ssd_mobilenet_v2_320x320_coco17_tpu-8/checkpoint/ckpt-0.index\n",
            "ssd_mobilenet_v2_320x320_coco17_tpu-8/pipeline.config\n",
            "ssd_mobilenet_v2_320x320_coco17_tpu-8/saved_model/\n",
            "ssd_mobilenet_v2_320x320_coco17_tpu-8/saved_model/saved_model.pb\n",
            "ssd_mobilenet_v2_320x320_coco17_tpu-8/saved_model/variables/\n",
            "ssd_mobilenet_v2_320x320_coco17_tpu-8/saved_model/variables/variables.data-00000-of-00001\n",
            "ssd_mobilenet_v2_320x320_coco17_tpu-8/saved_model/variables/variables.index\n"
          ]
        }
      ]
    },
    {
      "cell_type": "code",
      "source": [
        "!wget http://download.tensorflow.org/models/object_detection/tf2/20200713/centernet_hg104_512x512_coco17_tpu-8.tar.gz"
      ],
      "metadata": {
        "colab": {
          "base_uri": "https://localhost:8080/"
        },
        "id": "dpvKwAHS1H4K",
        "outputId": "86458830-71c7-44c6-cfdc-34ba3a8ed2d3"
      },
      "execution_count": null,
      "outputs": [
        {
          "output_type": "stream",
          "name": "stdout",
          "text": [
            "--2022-02-28 10:16:43--  http://download.tensorflow.org/models/object_detection/tf2/20200713/centernet_hg104_512x512_coco17_tpu-8.tar.gz\n",
            "Resolving download.tensorflow.org (download.tensorflow.org)... 64.233.183.128, 2607:f8b0:4001:c0b::80\n",
            "Connecting to download.tensorflow.org (download.tensorflow.org)|64.233.183.128|:80... connected.\n",
            "HTTP request sent, awaiting response... 200 OK\n",
            "Length: 1426099846 (1.3G) [application/x-tar]\n",
            "Saving to: ‘centernet_hg104_512x512_coco17_tpu-8.tar.gz’\n",
            "\n",
            "centernet_hg104_512 100%[===================>]   1.33G   151MB/s    in 10s     \n",
            "\n",
            "2022-02-28 10:16:53 (136 MB/s) - ‘centernet_hg104_512x512_coco17_tpu-8.tar.gz’ saved [1426099846/1426099846]\n",
            "\n"
          ]
        }
      ]
    },
    {
      "cell_type": "code",
      "source": [
        "!tar -xvf centernet_hg104_512x512_coco17_tpu-8.tar.gz"
      ],
      "metadata": {
        "colab": {
          "base_uri": "https://localhost:8080/"
        },
        "id": "ZBsdwLzW1UFU",
        "outputId": "2906b014-daf0-41a1-e31e-9d9c720ae79d"
      },
      "execution_count": null,
      "outputs": [
        {
          "output_type": "stream",
          "name": "stdout",
          "text": [
            "centernet_hg104_512x512_coco17_tpu-8/\n",
            "centernet_hg104_512x512_coco17_tpu-8/checkpoint/\n",
            "centernet_hg104_512x512_coco17_tpu-8/checkpoint/ckpt-0.data-00000-of-00001\n",
            "centernet_hg104_512x512_coco17_tpu-8/checkpoint/checkpoint\n",
            "centernet_hg104_512x512_coco17_tpu-8/checkpoint/ckpt-0.index\n",
            "centernet_hg104_512x512_coco17_tpu-8/pipeline.config\n",
            "centernet_hg104_512x512_coco17_tpu-8/saved_model/\n",
            "centernet_hg104_512x512_coco17_tpu-8/saved_model/saved_model.pb\n",
            "centernet_hg104_512x512_coco17_tpu-8/saved_model/assets/\n",
            "centernet_hg104_512x512_coco17_tpu-8/saved_model/variables/\n",
            "centernet_hg104_512x512_coco17_tpu-8/saved_model/variables/variables.data-00000-of-00001\n",
            "centernet_hg104_512x512_coco17_tpu-8/saved_model/variables/variables.index\n"
          ]
        }
      ]
    },
    {
      "cell_type": "markdown",
      "source": [
        "##Create Tensorflow Record\n"
      ],
      "metadata": {
        "id": "i5Vj2mFpYGwb"
      }
    },
    {
      "cell_type": "code",
      "source": [
        "cd /content/Brain_Tumor_detection"
      ],
      "metadata": {
        "colab": {
          "base_uri": "https://localhost:8080/"
        },
        "id": "e1YWFEv-9DhD",
        "outputId": "73b5e9e0-4f11-46ee-8ae2-51387070609c"
      },
      "execution_count": null,
      "outputs": [
        {
          "output_type": "stream",
          "name": "stdout",
          "text": [
            "/content/Brain_Tumor_detection\n"
          ]
        }
      ]
    },
    {
      "cell_type": "code",
      "source": [
        "# Create train data:\n",
        "!python generate_tfrecord.py -x /content/Brain_Tumor_detection/train -l /content/Brain_Tumor_detection/annotations/label_map.pbtxt -o /content/Brain_Tumor_detection/annotations/train.record\n",
        "\n",
        "# Create test data:\n",
        "!python generate_tfrecord.py -x /content/Brain_Tumor_detection/test -l /content/Brain_Tumor_detection/annotations/label_map.pbtxt -o /content/Brain_Tumor_detection/annotations/test.record\n",
        "\n",
        "# For example\n",
        "# python generate_tfrecord.py -x C:/Users/sglvladi/Documents/Tensorflow/workspace/training_demo/images/train -l C:/Users/sglvladi/Documents/Tensorflow/workspace/training_demo/annotations/label_map.pbtxt -o C:/Users/sglvladi/Documents/Tensorflow/workspace/training_demo/annotations/train.record\n",
        "# python generate_tfrecord.py -x C:/Users/sglvladi/Documents/Tensorflow/workspace/training_demo/images/test -l C:/Users/sglvladi/Documents/Tensorflow2/workspace/training_demo/annotations/label_map.pbtxt -o C:/Users/sglvladi/Documents/Tensorflow/workspace/training_demo/annotations/test.record"
      ],
      "metadata": {
        "colab": {
          "base_uri": "https://localhost:8080/"
        },
        "id": "MGMYA3ks_90u",
        "outputId": "3bffa842-6048-4cf8-8a12-328be389048b"
      },
      "execution_count": null,
      "outputs": [
        {
          "output_type": "stream",
          "name": "stdout",
          "text": [
            "Successfully created the TFRecord file: /content/Brain_Tumor_detection/annotations/train.record\n",
            "Successfully created the TFRecord file: /content/Brain_Tumor_detection/annotations/test.record\n"
          ]
        }
      ]
    },
    {
      "cell_type": "markdown",
      "source": [
        "#Training the Model"
      ],
      "metadata": {
        "id": "Bji-Y_EpDVrX"
      }
    },
    {
      "cell_type": "code",
      "source": [
        "cd /content/Brain_Tumor_detection"
      ],
      "metadata": {
        "colab": {
          "base_uri": "https://localhost:8080/"
        },
        "id": "aBN1oOanDhs3",
        "outputId": "ee2851d0-d6c3-431a-8760-2f9839111211"
      },
      "execution_count": 3,
      "outputs": [
        {
          "output_type": "stream",
          "name": "stdout",
          "text": [
            "/content/Brain_Tumor_detection\n"
          ]
        }
      ]
    },
    {
      "cell_type": "code",
      "source": [
        "ls"
      ],
      "metadata": {
        "colab": {
          "base_uri": "https://localhost:8080/"
        },
        "id": "McMTiNZxD044",
        "outputId": "609f47c3-7e72-4a29-9170-1344ab7051fb"
      },
      "execution_count": null,
      "outputs": [
        {
          "output_type": "stream",
          "name": "stdout",
          "text": [
            "\u001b[0m\u001b[01;34mannotations\u001b[0m/                model_main_tf2.py  README.dataset.txt\n",
            "exporter_main_v2.py         \u001b[01;34mmy_model\u001b[0m/          README.roboflow.txt\n",
            "export_tflite_graph_tf2.py  OD.v2-v2.voc.zip   \u001b[01;34mtest\u001b[0m/\n",
            "generate_tfrecord.py        \u001b[01;34mpretrained_model\u001b[0m/  \u001b[01;34mtrain\u001b[0m/\n"
          ]
        }
      ]
    },
    {
      "cell_type": "code",
      "source": [
        "!python -m pip install --upgrade opencv-contrib-python"
      ],
      "metadata": {
        "colab": {
          "base_uri": "https://localhost:8080/"
        },
        "id": "yOQJn8HNMJ9s",
        "outputId": "6eddccc4-f757-4f37-9f22-6bee42fe2616"
      },
      "execution_count": null,
      "outputs": [
        {
          "output_type": "stream",
          "name": "stdout",
          "text": [
            "Requirement already satisfied: opencv-contrib-python in /usr/local/lib/python3.7/dist-packages (4.5.5.62)\n",
            "Requirement already satisfied: numpy>=1.14.5 in /usr/local/lib/python3.7/dist-packages (from opencv-contrib-python) (1.21.5)\n"
          ]
        }
      ]
    },
    {
      "cell_type": "code",
      "source": [
        "!python model_main_tf2.py --model_dir=/content/Brain_Tumor_detection/my_model/centernet_hg104_512x512 --pipeline_config_path=/content/Brain_Tumor_detection/my_model/centernet_hg104_512x512/pipeline.config"
      ],
      "metadata": {
        "colab": {
          "base_uri": "https://localhost:8080/"
        },
        "collapsed": true,
        "id": "aVTarOuoA4EV",
        "outputId": "0214a19a-e3c3-449b-ca78-37754e9d29d0"
      },
      "execution_count": 4,
      "outputs": [
        {
          "output_type": "stream",
          "name": "stdout",
          "text": [
            "2022-02-28 10:36:54.445367: W tensorflow/core/common_runtime/gpu/gpu_bfc_allocator.cc:39] Overriding allow_growth setting because the TF_FORCE_GPU_ALLOW_GROWTH environment variable is set. Original config value was 0.\n",
            "INFO:tensorflow:Using MirroredStrategy with devices ('/job:localhost/replica:0/task:0/device:GPU:0',)\n",
            "I0228 10:36:54.455258 140141870339968 mirrored_strategy.py:374] Using MirroredStrategy with devices ('/job:localhost/replica:0/task:0/device:GPU:0',)\n",
            "INFO:tensorflow:Maybe overwriting train_steps: None\n",
            "I0228 10:36:54.462278 140141870339968 config_util.py:552] Maybe overwriting train_steps: None\n",
            "INFO:tensorflow:Maybe overwriting use_bfloat16: False\n",
            "I0228 10:36:54.462506 140141870339968 config_util.py:552] Maybe overwriting use_bfloat16: False\n",
            "WARNING:tensorflow:From /usr/local/lib/python3.7/dist-packages/object_detection/model_lib_v2.py:564: StrategyBase.experimental_distribute_datasets_from_function (from tensorflow.python.distribute.distribute_lib) is deprecated and will be removed in a future version.\n",
            "Instructions for updating:\n",
            "rename to distribute_datasets_from_function\n",
            "W0228 10:36:55.166095 140141870339968 deprecation.py:343] From /usr/local/lib/python3.7/dist-packages/object_detection/model_lib_v2.py:564: StrategyBase.experimental_distribute_datasets_from_function (from tensorflow.python.distribute.distribute_lib) is deprecated and will be removed in a future version.\n",
            "Instructions for updating:\n",
            "rename to distribute_datasets_from_function\n",
            "INFO:tensorflow:Reading unweighted datasets: ['/content/Brain_Tumor_detection/annotations/train.record']\n",
            "I0228 10:36:55.171516 140141870339968 dataset_builder.py:163] Reading unweighted datasets: ['/content/Brain_Tumor_detection/annotations/train.record']\n",
            "INFO:tensorflow:Reading record datasets for input file: ['/content/Brain_Tumor_detection/annotations/train.record']\n",
            "I0228 10:36:55.171766 140141870339968 dataset_builder.py:80] Reading record datasets for input file: ['/content/Brain_Tumor_detection/annotations/train.record']\n",
            "INFO:tensorflow:Number of filenames to read: 1\n",
            "I0228 10:36:55.171952 140141870339968 dataset_builder.py:81] Number of filenames to read: 1\n",
            "WARNING:tensorflow:num_readers has been reduced to 1 to match input file shards.\n",
            "W0228 10:36:55.172117 140141870339968 dataset_builder.py:88] num_readers has been reduced to 1 to match input file shards.\n",
            "WARNING:tensorflow:From /usr/local/lib/python3.7/dist-packages/object_detection/builders/dataset_builder.py:105: parallel_interleave (from tensorflow.python.data.experimental.ops.interleave_ops) is deprecated and will be removed in a future version.\n",
            "Instructions for updating:\n",
            "Use `tf.data.Dataset.interleave(map_func, cycle_length, block_length, num_parallel_calls=tf.data.AUTOTUNE)` instead. If sloppy execution is desired, use `tf.data.Options.deterministic`.\n",
            "W0228 10:36:55.175375 140141870339968 deprecation.py:343] From /usr/local/lib/python3.7/dist-packages/object_detection/builders/dataset_builder.py:105: parallel_interleave (from tensorflow.python.data.experimental.ops.interleave_ops) is deprecated and will be removed in a future version.\n",
            "Instructions for updating:\n",
            "Use `tf.data.Dataset.interleave(map_func, cycle_length, block_length, num_parallel_calls=tf.data.AUTOTUNE)` instead. If sloppy execution is desired, use `tf.data.Options.deterministic`.\n",
            "WARNING:tensorflow:From /usr/local/lib/python3.7/dist-packages/object_detection/builders/dataset_builder.py:237: DatasetV1.map_with_legacy_function (from tensorflow.python.data.ops.dataset_ops) is deprecated and will be removed in a future version.\n",
            "Instructions for updating:\n",
            "Use `tf.data.Dataset.map()\n",
            "W0228 10:36:55.200443 140141870339968 deprecation.py:343] From /usr/local/lib/python3.7/dist-packages/object_detection/builders/dataset_builder.py:237: DatasetV1.map_with_legacy_function (from tensorflow.python.data.ops.dataset_ops) is deprecated and will be removed in a future version.\n",
            "Instructions for updating:\n",
            "Use `tf.data.Dataset.map()\n",
            "WARNING:tensorflow:From /usr/local/lib/python3.7/dist-packages/tensorflow/python/util/dispatch.py:1082: sparse_to_dense (from tensorflow.python.ops.sparse_ops) is deprecated and will be removed in a future version.\n",
            "Instructions for updating:\n",
            "Create a `tf.sparse.SparseTensor` and use `tf.sparse.to_dense` instead.\n",
            "W0228 10:37:04.807080 140141870339968 deprecation.py:343] From /usr/local/lib/python3.7/dist-packages/tensorflow/python/util/dispatch.py:1082: sparse_to_dense (from tensorflow.python.ops.sparse_ops) is deprecated and will be removed in a future version.\n",
            "Instructions for updating:\n",
            "Create a `tf.sparse.SparseTensor` and use `tf.sparse.to_dense` instead.\n",
            "WARNING:tensorflow:From /usr/local/lib/python3.7/dist-packages/tensorflow/python/util/dispatch.py:1082: sample_distorted_bounding_box (from tensorflow.python.ops.image_ops_impl) is deprecated and will be removed in a future version.\n",
            "Instructions for updating:\n",
            "`seed2` arg is deprecated.Use sample_distorted_bounding_box_v2 instead.\n",
            "W0228 10:37:09.008678 140141870339968 deprecation.py:343] From /usr/local/lib/python3.7/dist-packages/tensorflow/python/util/dispatch.py:1082: sample_distorted_bounding_box (from tensorflow.python.ops.image_ops_impl) is deprecated and will be removed in a future version.\n",
            "Instructions for updating:\n",
            "`seed2` arg is deprecated.Use sample_distorted_bounding_box_v2 instead.\n",
            "WARNING:tensorflow:From /usr/local/lib/python3.7/dist-packages/tensorflow/python/util/dispatch.py:1082: to_float (from tensorflow.python.ops.math_ops) is deprecated and will be removed in a future version.\n",
            "Instructions for updating:\n",
            "Use `tf.cast` instead.\n",
            "W0228 10:37:13.036048 140141870339968 deprecation.py:343] From /usr/local/lib/python3.7/dist-packages/tensorflow/python/util/dispatch.py:1082: to_float (from tensorflow.python.ops.math_ops) is deprecated and will be removed in a future version.\n",
            "Instructions for updating:\n",
            "Use `tf.cast` instead.\n",
            "/usr/local/lib/python3.7/dist-packages/keras/backend.py:450: UserWarning: `tf.keras.backend.set_learning_phase` is deprecated and will be removed after 2020-10-11. To update it, simply pass a True/False value to the `training` argument of the `__call__` method of your layer or model.\n",
            "  warnings.warn('`tf.keras.backend.set_learning_phase` is deprecated and '\n",
            "2022-02-28 10:37:44.369557: E tensorflow/stream_executor/cuda/cuda_dnn.cc:361] Loaded runtime CuDNN library: 8.0.5 but source was compiled with: 8.1.0.  CuDNN library needs to have matching major version and equal or higher minor version. If using a binary install, upgrade your CuDNN library.  If building from sources, make sure the library loaded at runtime is compatible with the version specified during compile configuration.\n",
            "2022-02-28 10:37:44.371395: W tensorflow/core/framework/op_kernel.cc:1745] OP_REQUIRES failed at conv_ops.cc:1120 : UNIMPLEMENTED: DNN library is not found.\n",
            "Traceback (most recent call last):\n",
            "  File \"model_main_tf2.py\", line 113, in <module>\n",
            "    tf.compat.v1.app.run()\n",
            "  File \"/usr/local/lib/python3.7/dist-packages/tensorflow/python/platform/app.py\", line 36, in run\n",
            "    _run(main=main, argv=argv, flags_parser=_parse_flags_tolerate_undef)\n",
            "  File \"/usr/local/lib/python3.7/dist-packages/absl/app.py\", line 312, in run\n",
            "    _run_main(main, args)\n",
            "  File \"/usr/local/lib/python3.7/dist-packages/absl/app.py\", line 258, in _run_main\n",
            "    sys.exit(main(argv))\n",
            "  File \"model_main_tf2.py\", line 110, in main\n",
            "    record_summaries=FLAGS.record_summaries)\n",
            "  File \"/usr/local/lib/python3.7/dist-packages/object_detection/model_lib_v2.py\", line 609, in train_loop\n",
            "    train_input, unpad_groundtruth_tensors)\n",
            "  File \"/usr/local/lib/python3.7/dist-packages/object_detection/model_lib_v2.py\", line 400, in load_fine_tune_checkpoint\n",
            "    _ensure_model_is_built(model, input_dataset, unpad_groundtruth_tensors)\n",
            "  File \"/usr/local/lib/python3.7/dist-packages/object_detection/model_lib_v2.py\", line 178, in _ensure_model_is_built\n",
            "    labels,\n",
            "  File \"/usr/local/lib/python3.7/dist-packages/tensorflow/python/distribute/distribute_lib.py\", line 1312, in run\n",
            "    return self._extended.call_for_each_replica(fn, args=args, kwargs=kwargs)\n",
            "  File \"/usr/local/lib/python3.7/dist-packages/tensorflow/python/distribute/distribute_lib.py\", line 2888, in call_for_each_replica\n",
            "    return self._call_for_each_replica(fn, args, kwargs)\n",
            "  File \"/usr/local/lib/python3.7/dist-packages/tensorflow/python/distribute/mirrored_strategy.py\", line 677, in _call_for_each_replica\n",
            "    self._container_strategy(), fn, args, kwargs)\n",
            "  File \"/usr/local/lib/python3.7/dist-packages/tensorflow/python/distribute/mirrored_run.py\", line 82, in call_for_each_replica\n",
            "    return wrapped(args, kwargs)\n",
            "  File \"/usr/local/lib/python3.7/dist-packages/tensorflow/python/util/traceback_utils.py\", line 153, in error_handler\n",
            "    raise e.with_traceback(filtered_tb) from None\n",
            "  File \"/usr/local/lib/python3.7/dist-packages/tensorflow/python/eager/execute.py\", line 55, in quick_execute\n",
            "    inputs, attrs, num_outputs)\n",
            "tensorflow.python.framework.errors_impl.UnimplementedError: Graph execution error:\n",
            "\n",
            "Detected at node 'center_net_hourglass_feature_extractor/hourglass_network/input_downsample_block/convolutional_block/conv2d/Conv2D' defined at (most recent call last):\n",
            "    File \"/usr/lib/python3.7/threading.py\", line 890, in _bootstrap\n",
            "      self._bootstrap_inner()\n",
            "    File \"/usr/lib/python3.7/threading.py\", line 926, in _bootstrap_inner\n",
            "      self.run()\n",
            "    File \"/usr/local/lib/python3.7/dist-packages/object_detection/model_lib_v2.py\", line 170, in _dummy_computation_fn\n",
            "      return _compute_losses_and_predictions_dicts(model, features, labels,\n",
            "    File \"/usr/local/lib/python3.7/dist-packages/object_detection/model_lib_v2.py\", line 123, in _compute_losses_and_predictions_dicts\n",
            "      prediction_dict = model.predict(\n",
            "    File \"/usr/local/lib/python3.7/dist-packages/object_detection/meta_architectures/center_net_meta_arch.py\", line 3894, in predict\n",
            "      features_list = self._feature_extractor(preprocessed_inputs)\n",
            "    File \"/usr/local/lib/python3.7/dist-packages/keras/utils/traceback_utils.py\", line 64, in error_handler\n",
            "      return fn(*args, **kwargs)\n",
            "    File \"/usr/local/lib/python3.7/dist-packages/keras/engine/base_layer.py\", line 1096, in __call__\n",
            "      outputs = call_fn(inputs, *args, **kwargs)\n",
            "    File \"/usr/local/lib/python3.7/dist-packages/keras/utils/traceback_utils.py\", line 92, in error_handler\n",
            "      return fn(*args, **kwargs)\n",
            "    File \"/usr/local/lib/python3.7/dist-packages/object_detection/models/center_net_hourglass_feature_extractor.py\", line 53, in call\n",
            "      return self._network(inputs)\n",
            "    File \"/usr/local/lib/python3.7/dist-packages/keras/utils/traceback_utils.py\", line 64, in error_handler\n",
            "      return fn(*args, **kwargs)\n",
            "    File \"/usr/local/lib/python3.7/dist-packages/keras/engine/base_layer.py\", line 1096, in __call__\n",
            "      outputs = call_fn(inputs, *args, **kwargs)\n",
            "    File \"/usr/local/lib/python3.7/dist-packages/keras/utils/traceback_utils.py\", line 92, in error_handler\n",
            "      return fn(*args, **kwargs)\n",
            "    File \"/usr/local/lib/python3.7/dist-packages/object_detection/models/keras_models/hourglass_network.py\", line 431, in call\n",
            "      if self.initial_downsample:\n",
            "    File \"/usr/local/lib/python3.7/dist-packages/object_detection/models/keras_models/hourglass_network.py\", line 432, in call\n",
            "      inputs = self.downsample_input(inputs)\n",
            "    File \"/usr/local/lib/python3.7/dist-packages/keras/utils/traceback_utils.py\", line 64, in error_handler\n",
            "      return fn(*args, **kwargs)\n",
            "    File \"/usr/local/lib/python3.7/dist-packages/keras/engine/base_layer.py\", line 1096, in __call__\n",
            "      outputs = call_fn(inputs, *args, **kwargs)\n",
            "    File \"/usr/local/lib/python3.7/dist-packages/keras/utils/traceback_utils.py\", line 92, in error_handler\n",
            "      return fn(*args, **kwargs)\n",
            "    File \"/usr/local/lib/python3.7/dist-packages/object_detection/models/keras_models/hourglass_network.py\", line 174, in call\n",
            "      return self.residual_block(self.conv_block(inputs))\n",
            "    File \"/usr/local/lib/python3.7/dist-packages/keras/utils/traceback_utils.py\", line 64, in error_handler\n",
            "      return fn(*args, **kwargs)\n",
            "    File \"/usr/local/lib/python3.7/dist-packages/keras/engine/base_layer.py\", line 1096, in __call__\n",
            "      outputs = call_fn(inputs, *args, **kwargs)\n",
            "    File \"/usr/local/lib/python3.7/dist-packages/keras/utils/traceback_utils.py\", line 92, in error_handler\n",
            "      return fn(*args, **kwargs)\n",
            "    File \"/usr/local/lib/python3.7/dist-packages/object_detection/models/keras_models/hourglass_network.py\", line 94, in call\n",
            "      net = self.conv(net)\n",
            "    File \"/usr/local/lib/python3.7/dist-packages/keras/utils/traceback_utils.py\", line 64, in error_handler\n",
            "      return fn(*args, **kwargs)\n",
            "    File \"/usr/local/lib/python3.7/dist-packages/keras/engine/base_layer.py\", line 1096, in __call__\n",
            "      outputs = call_fn(inputs, *args, **kwargs)\n",
            "    File \"/usr/local/lib/python3.7/dist-packages/keras/utils/traceback_utils.py\", line 92, in error_handler\n",
            "      return fn(*args, **kwargs)\n",
            "    File \"/usr/local/lib/python3.7/dist-packages/keras/layers/convolutional.py\", line 248, in call\n",
            "      outputs = self.convolution_op(inputs, self.kernel)\n",
            "    File \"/usr/local/lib/python3.7/dist-packages/keras/layers/convolutional.py\", line 240, in convolution_op\n",
            "      name=self.__class__.__name__)\n",
            "Node: 'center_net_hourglass_feature_extractor/hourglass_network/input_downsample_block/convolutional_block/conv2d/Conv2D'\n",
            "Detected at node 'center_net_hourglass_feature_extractor/hourglass_network/input_downsample_block/convolutional_block/conv2d/Conv2D' defined at (most recent call last):\n",
            "    File \"/usr/lib/python3.7/threading.py\", line 890, in _bootstrap\n",
            "      self._bootstrap_inner()\n",
            "    File \"/usr/lib/python3.7/threading.py\", line 926, in _bootstrap_inner\n",
            "      self.run()\n",
            "    File \"/usr/local/lib/python3.7/dist-packages/object_detection/model_lib_v2.py\", line 170, in _dummy_computation_fn\n",
            "      return _compute_losses_and_predictions_dicts(model, features, labels,\n",
            "    File \"/usr/local/lib/python3.7/dist-packages/object_detection/model_lib_v2.py\", line 123, in _compute_losses_and_predictions_dicts\n",
            "      prediction_dict = model.predict(\n",
            "    File \"/usr/local/lib/python3.7/dist-packages/object_detection/meta_architectures/center_net_meta_arch.py\", line 3894, in predict\n",
            "      features_list = self._feature_extractor(preprocessed_inputs)\n",
            "    File \"/usr/local/lib/python3.7/dist-packages/keras/utils/traceback_utils.py\", line 64, in error_handler\n",
            "      return fn(*args, **kwargs)\n",
            "    File \"/usr/local/lib/python3.7/dist-packages/keras/engine/base_layer.py\", line 1096, in __call__\n",
            "      outputs = call_fn(inputs, *args, **kwargs)\n",
            "    File \"/usr/local/lib/python3.7/dist-packages/keras/utils/traceback_utils.py\", line 92, in error_handler\n",
            "      return fn(*args, **kwargs)\n",
            "    File \"/usr/local/lib/python3.7/dist-packages/object_detection/models/center_net_hourglass_feature_extractor.py\", line 53, in call\n",
            "      return self._network(inputs)\n",
            "    File \"/usr/local/lib/python3.7/dist-packages/keras/utils/traceback_utils.py\", line 64, in error_handler\n",
            "      return fn(*args, **kwargs)\n",
            "    File \"/usr/local/lib/python3.7/dist-packages/keras/engine/base_layer.py\", line 1096, in __call__\n",
            "      outputs = call_fn(inputs, *args, **kwargs)\n",
            "    File \"/usr/local/lib/python3.7/dist-packages/keras/utils/traceback_utils.py\", line 92, in error_handler\n",
            "      return fn(*args, **kwargs)\n",
            "    File \"/usr/local/lib/python3.7/dist-packages/object_detection/models/keras_models/hourglass_network.py\", line 431, in call\n",
            "      if self.initial_downsample:\n",
            "    File \"/usr/local/lib/python3.7/dist-packages/object_detection/models/keras_models/hourglass_network.py\", line 432, in call\n",
            "      inputs = self.downsample_input(inputs)\n",
            "    File \"/usr/local/lib/python3.7/dist-packages/keras/utils/traceback_utils.py\", line 64, in error_handler\n",
            "      return fn(*args, **kwargs)\n",
            "    File \"/usr/local/lib/python3.7/dist-packages/keras/engine/base_layer.py\", line 1096, in __call__\n",
            "      outputs = call_fn(inputs, *args, **kwargs)\n",
            "    File \"/usr/local/lib/python3.7/dist-packages/keras/utils/traceback_utils.py\", line 92, in error_handler\n",
            "      return fn(*args, **kwargs)\n",
            "    File \"/usr/local/lib/python3.7/dist-packages/object_detection/models/keras_models/hourglass_network.py\", line 174, in call\n",
            "      return self.residual_block(self.conv_block(inputs))\n",
            "    File \"/usr/local/lib/python3.7/dist-packages/keras/utils/traceback_utils.py\", line 64, in error_handler\n",
            "      return fn(*args, **kwargs)\n",
            "    File \"/usr/local/lib/python3.7/dist-packages/keras/engine/base_layer.py\", line 1096, in __call__\n",
            "      outputs = call_fn(inputs, *args, **kwargs)\n",
            "    File \"/usr/local/lib/python3.7/dist-packages/keras/utils/traceback_utils.py\", line 92, in error_handler\n",
            "      return fn(*args, **kwargs)\n",
            "    File \"/usr/local/lib/python3.7/dist-packages/object_detection/models/keras_models/hourglass_network.py\", line 94, in call\n",
            "      net = self.conv(net)\n",
            "    File \"/usr/local/lib/python3.7/dist-packages/keras/utils/traceback_utils.py\", line 64, in error_handler\n",
            "      return fn(*args, **kwargs)\n",
            "    File \"/usr/local/lib/python3.7/dist-packages/keras/engine/base_layer.py\", line 1096, in __call__\n",
            "      outputs = call_fn(inputs, *args, **kwargs)\n",
            "    File \"/usr/local/lib/python3.7/dist-packages/keras/utils/traceback_utils.py\", line 92, in error_handler\n",
            "      return fn(*args, **kwargs)\n",
            "    File \"/usr/local/lib/python3.7/dist-packages/keras/layers/convolutional.py\", line 248, in call\n",
            "      outputs = self.convolution_op(inputs, self.kernel)\n",
            "    File \"/usr/local/lib/python3.7/dist-packages/keras/layers/convolutional.py\", line 240, in convolution_op\n",
            "      name=self.__class__.__name__)\n",
            "Node: 'center_net_hourglass_feature_extractor/hourglass_network/input_downsample_block/convolutional_block/conv2d/Conv2D'\n",
            "2 root error(s) found.\n",
            "  (0) UNIMPLEMENTED:  DNN library is not found.\n",
            "\t [[{{node center_net_hourglass_feature_extractor/hourglass_network/input_downsample_block/convolutional_block/conv2d/Conv2D}}]]\n",
            "\t [[ToAbsoluteCoordinates_11/Assert/AssertGuard/pivot_f/_102/_139]]\n",
            "  (1) UNIMPLEMENTED:  DNN library is not found.\n",
            "\t [[{{node center_net_hourglass_feature_extractor/hourglass_network/input_downsample_block/convolutional_block/conv2d/Conv2D}}]]\n",
            "0 successful operations.\n",
            "0 derived errors ignored. [Op:__inference__dummy_computation_fn_18955]\n"
          ]
        }
      ]
    },
    {
      "cell_type": "code",
      "source": [
        "!python model_main_tf2.py --model_dir=/content/Brain_Tumor_detection/my_model/ssd_mobile_v2_320x320 --pipeline_config_path=/content/Brain_Tumor_detection/my_model/ssd_mobile_v2_320x320/pipeline.config"
      ],
      "metadata": {
        "id": "K3-uou41A4B-",
        "colab": {
          "base_uri": "https://localhost:8080/"
        },
        "outputId": "989a275e-662f-40b0-acba-218c1a70908d"
      },
      "execution_count": 7,
      "outputs": [
        {
          "output_type": "stream",
          "name": "stdout",
          "text": [
            "2022-02-28 11:15:23.121901: W tensorflow/core/common_runtime/gpu/gpu_bfc_allocator.cc:39] Overriding allow_growth setting because the TF_FORCE_GPU_ALLOW_GROWTH environment variable is set. Original config value was 0.\n",
            "INFO:tensorflow:Using MirroredStrategy with devices ('/job:localhost/replica:0/task:0/device:GPU:0',)\n",
            "I0228 11:15:23.128402 140377414289280 mirrored_strategy.py:374] Using MirroredStrategy with devices ('/job:localhost/replica:0/task:0/device:GPU:0',)\n",
            "INFO:tensorflow:Maybe overwriting train_steps: None\n",
            "I0228 11:15:23.133344 140377414289280 config_util.py:552] Maybe overwriting train_steps: None\n",
            "INFO:tensorflow:Maybe overwriting use_bfloat16: False\n",
            "I0228 11:15:23.133514 140377414289280 config_util.py:552] Maybe overwriting use_bfloat16: False\n",
            "WARNING:tensorflow:From /usr/local/lib/python3.7/dist-packages/object_detection/model_lib_v2.py:564: StrategyBase.experimental_distribute_datasets_from_function (from tensorflow.python.distribute.distribute_lib) is deprecated and will be removed in a future version.\n",
            "Instructions for updating:\n",
            "rename to distribute_datasets_from_function\n",
            "W0228 11:15:23.189669 140377414289280 deprecation.py:343] From /usr/local/lib/python3.7/dist-packages/object_detection/model_lib_v2.py:564: StrategyBase.experimental_distribute_datasets_from_function (from tensorflow.python.distribute.distribute_lib) is deprecated and will be removed in a future version.\n",
            "Instructions for updating:\n",
            "rename to distribute_datasets_from_function\n",
            "INFO:tensorflow:Reading unweighted datasets: ['/content/Brain_Tumor_detection/annotations/train.record']\n",
            "I0228 11:15:23.194745 140377414289280 dataset_builder.py:163] Reading unweighted datasets: ['/content/Brain_Tumor_detection/annotations/train.record']\n",
            "INFO:tensorflow:Reading record datasets for input file: ['/content/Brain_Tumor_detection/annotations/train.record']\n",
            "I0228 11:15:23.195028 140377414289280 dataset_builder.py:80] Reading record datasets for input file: ['/content/Brain_Tumor_detection/annotations/train.record']\n",
            "INFO:tensorflow:Number of filenames to read: 1\n",
            "I0228 11:15:23.195181 140377414289280 dataset_builder.py:81] Number of filenames to read: 1\n",
            "WARNING:tensorflow:num_readers has been reduced to 1 to match input file shards.\n",
            "W0228 11:15:23.195345 140377414289280 dataset_builder.py:88] num_readers has been reduced to 1 to match input file shards.\n",
            "WARNING:tensorflow:From /usr/local/lib/python3.7/dist-packages/object_detection/builders/dataset_builder.py:105: parallel_interleave (from tensorflow.python.data.experimental.ops.interleave_ops) is deprecated and will be removed in a future version.\n",
            "Instructions for updating:\n",
            "Use `tf.data.Dataset.interleave(map_func, cycle_length, block_length, num_parallel_calls=tf.data.AUTOTUNE)` instead. If sloppy execution is desired, use `tf.data.Options.deterministic`.\n",
            "W0228 11:15:23.198299 140377414289280 deprecation.py:343] From /usr/local/lib/python3.7/dist-packages/object_detection/builders/dataset_builder.py:105: parallel_interleave (from tensorflow.python.data.experimental.ops.interleave_ops) is deprecated and will be removed in a future version.\n",
            "Instructions for updating:\n",
            "Use `tf.data.Dataset.interleave(map_func, cycle_length, block_length, num_parallel_calls=tf.data.AUTOTUNE)` instead. If sloppy execution is desired, use `tf.data.Options.deterministic`.\n",
            "WARNING:tensorflow:From /usr/local/lib/python3.7/dist-packages/object_detection/builders/dataset_builder.py:237: DatasetV1.map_with_legacy_function (from tensorflow.python.data.ops.dataset_ops) is deprecated and will be removed in a future version.\n",
            "Instructions for updating:\n",
            "Use `tf.data.Dataset.map()\n",
            "W0228 11:15:23.224626 140377414289280 deprecation.py:343] From /usr/local/lib/python3.7/dist-packages/object_detection/builders/dataset_builder.py:237: DatasetV1.map_with_legacy_function (from tensorflow.python.data.ops.dataset_ops) is deprecated and will be removed in a future version.\n",
            "Instructions for updating:\n",
            "Use `tf.data.Dataset.map()\n",
            "WARNING:tensorflow:From /usr/local/lib/python3.7/dist-packages/tensorflow/python/util/dispatch.py:1082: sparse_to_dense (from tensorflow.python.ops.sparse_ops) is deprecated and will be removed in a future version.\n",
            "Instructions for updating:\n",
            "Create a `tf.sparse.SparseTensor` and use `tf.sparse.to_dense` instead.\n",
            "W0228 11:15:32.578060 140377414289280 deprecation.py:343] From /usr/local/lib/python3.7/dist-packages/tensorflow/python/util/dispatch.py:1082: sparse_to_dense (from tensorflow.python.ops.sparse_ops) is deprecated and will be removed in a future version.\n",
            "Instructions for updating:\n",
            "Create a `tf.sparse.SparseTensor` and use `tf.sparse.to_dense` instead.\n",
            "WARNING:tensorflow:From /usr/local/lib/python3.7/dist-packages/tensorflow/python/util/dispatch.py:1082: sample_distorted_bounding_box (from tensorflow.python.ops.image_ops_impl) is deprecated and will be removed in a future version.\n",
            "Instructions for updating:\n",
            "`seed2` arg is deprecated.Use sample_distorted_bounding_box_v2 instead.\n",
            "W0228 11:15:37.276172 140377414289280 deprecation.py:343] From /usr/local/lib/python3.7/dist-packages/tensorflow/python/util/dispatch.py:1082: sample_distorted_bounding_box (from tensorflow.python.ops.image_ops_impl) is deprecated and will be removed in a future version.\n",
            "Instructions for updating:\n",
            "`seed2` arg is deprecated.Use sample_distorted_bounding_box_v2 instead.\n",
            "WARNING:tensorflow:From /usr/local/lib/python3.7/dist-packages/tensorflow/python/util/dispatch.py:1082: to_float (from tensorflow.python.ops.math_ops) is deprecated and will be removed in a future version.\n",
            "Instructions for updating:\n",
            "Use `tf.cast` instead.\n",
            "W0228 11:15:40.875110 140377414289280 deprecation.py:343] From /usr/local/lib/python3.7/dist-packages/tensorflow/python/util/dispatch.py:1082: to_float (from tensorflow.python.ops.math_ops) is deprecated and will be removed in a future version.\n",
            "Instructions for updating:\n",
            "Use `tf.cast` instead.\n",
            "/usr/local/lib/python3.7/dist-packages/keras/backend.py:450: UserWarning: `tf.keras.backend.set_learning_phase` is deprecated and will be removed after 2020-10-11. To update it, simply pass a True/False value to the `training` argument of the `__call__` method of your layer or model.\n",
            "  warnings.warn('`tf.keras.backend.set_learning_phase` is deprecated and '\n",
            "INFO:tensorflow:depth of additional conv before box predictor: 0\n",
            "I0228 11:15:53.684181 140372792219392 convolutional_keras_box_predictor.py:154] depth of additional conv before box predictor: 0\n",
            "INFO:tensorflow:depth of additional conv before box predictor: 0\n",
            "I0228 11:15:53.684591 140372792219392 convolutional_keras_box_predictor.py:154] depth of additional conv before box predictor: 0\n",
            "INFO:tensorflow:depth of additional conv before box predictor: 0\n",
            "I0228 11:15:53.684874 140372792219392 convolutional_keras_box_predictor.py:154] depth of additional conv before box predictor: 0\n",
            "INFO:tensorflow:depth of additional conv before box predictor: 0\n",
            "I0228 11:15:53.685148 140372792219392 convolutional_keras_box_predictor.py:154] depth of additional conv before box predictor: 0\n",
            "INFO:tensorflow:depth of additional conv before box predictor: 0\n",
            "I0228 11:15:53.685384 140372792219392 convolutional_keras_box_predictor.py:154] depth of additional conv before box predictor: 0\n",
            "INFO:tensorflow:depth of additional conv before box predictor: 0\n",
            "I0228 11:15:53.685616 140372792219392 convolutional_keras_box_predictor.py:154] depth of additional conv before box predictor: 0\n",
            "2022-02-28 11:16:09.933369: E tensorflow/stream_executor/cuda/cuda_dnn.cc:361] Loaded runtime CuDNN library: 8.0.5 but source was compiled with: 8.1.0.  CuDNN library needs to have matching major version and equal or higher minor version. If using a binary install, upgrade your CuDNN library.  If building from sources, make sure the library loaded at runtime is compatible with the version specified during compile configuration.\n",
            "2022-02-28 11:16:09.935297: W tensorflow/core/framework/op_kernel.cc:1745] OP_REQUIRES failed at conv_ops.cc:1120 : UNIMPLEMENTED: DNN library is not found.\n",
            "Traceback (most recent call last):\n",
            "  File \"model_main_tf2.py\", line 114, in <module>\n",
            "    tf.compat.v1.app.run()\n",
            "  File \"/usr/local/lib/python3.7/dist-packages/tensorflow/python/platform/app.py\", line 36, in run\n",
            "    _run(main=main, argv=argv, flags_parser=_parse_flags_tolerate_undef)\n",
            "  File \"/usr/local/lib/python3.7/dist-packages/absl/app.py\", line 312, in run\n",
            "    _run_main(main, args)\n",
            "  File \"/usr/local/lib/python3.7/dist-packages/absl/app.py\", line 258, in _run_main\n",
            "    sys.exit(main(argv))\n",
            "  File \"model_main_tf2.py\", line 111, in main\n",
            "    record_summaries=FLAGS.record_summaries)\n",
            "  File \"/usr/local/lib/python3.7/dist-packages/object_detection/model_lib_v2.py\", line 609, in train_loop\n",
            "    train_input, unpad_groundtruth_tensors)\n",
            "  File \"/usr/local/lib/python3.7/dist-packages/object_detection/model_lib_v2.py\", line 400, in load_fine_tune_checkpoint\n",
            "    _ensure_model_is_built(model, input_dataset, unpad_groundtruth_tensors)\n",
            "  File \"/usr/local/lib/python3.7/dist-packages/object_detection/model_lib_v2.py\", line 178, in _ensure_model_is_built\n",
            "    labels,\n",
            "  File \"/usr/local/lib/python3.7/dist-packages/tensorflow/python/distribute/distribute_lib.py\", line 1312, in run\n",
            "    return self._extended.call_for_each_replica(fn, args=args, kwargs=kwargs)\n",
            "  File \"/usr/local/lib/python3.7/dist-packages/tensorflow/python/distribute/distribute_lib.py\", line 2888, in call_for_each_replica\n",
            "    return self._call_for_each_replica(fn, args, kwargs)\n",
            "  File \"/usr/local/lib/python3.7/dist-packages/tensorflow/python/distribute/mirrored_strategy.py\", line 677, in _call_for_each_replica\n",
            "    self._container_strategy(), fn, args, kwargs)\n",
            "  File \"/usr/local/lib/python3.7/dist-packages/tensorflow/python/distribute/mirrored_run.py\", line 82, in call_for_each_replica\n",
            "    return wrapped(args, kwargs)\n",
            "  File \"/usr/local/lib/python3.7/dist-packages/tensorflow/python/util/traceback_utils.py\", line 153, in error_handler\n",
            "    raise e.with_traceback(filtered_tb) from None\n",
            "  File \"/usr/local/lib/python3.7/dist-packages/tensorflow/python/eager/execute.py\", line 55, in quick_execute\n",
            "    inputs, attrs, num_outputs)\n",
            "tensorflow.python.framework.errors_impl.UnimplementedError: Graph execution error:\n",
            "\n",
            "Detected at node 'ssd_mobile_net_v2_keras_feature_extractor/model/Conv1/Conv2D' defined at (most recent call last):\n",
            "    File \"/usr/lib/python3.7/threading.py\", line 890, in _bootstrap\n",
            "      self._bootstrap_inner()\n",
            "    File \"/usr/lib/python3.7/threading.py\", line 926, in _bootstrap_inner\n",
            "      self.run()\n",
            "    File \"/usr/local/lib/python3.7/dist-packages/object_detection/model_lib_v2.py\", line 170, in _dummy_computation_fn\n",
            "      return _compute_losses_and_predictions_dicts(model, features, labels,\n",
            "    File \"/usr/local/lib/python3.7/dist-packages/object_detection/model_lib_v2.py\", line 123, in _compute_losses_and_predictions_dicts\n",
            "      prediction_dict = model.predict(\n",
            "    File \"/usr/local/lib/python3.7/dist-packages/object_detection/meta_architectures/ssd_meta_arch.py\", line 569, in predict\n",
            "      if self._feature_extractor.is_keras_model:\n",
            "    File \"/usr/local/lib/python3.7/dist-packages/object_detection/meta_architectures/ssd_meta_arch.py\", line 570, in predict\n",
            "      feature_maps = self._feature_extractor(preprocessed_inputs)\n",
            "    File \"/usr/local/lib/python3.7/dist-packages/keras/utils/traceback_utils.py\", line 64, in error_handler\n",
            "      return fn(*args, **kwargs)\n",
            "    File \"/usr/local/lib/python3.7/dist-packages/keras/engine/base_layer.py\", line 1096, in __call__\n",
            "      outputs = call_fn(inputs, *args, **kwargs)\n",
            "    File \"/usr/local/lib/python3.7/dist-packages/keras/utils/traceback_utils.py\", line 92, in error_handler\n",
            "      return fn(*args, **kwargs)\n",
            "    File \"/usr/local/lib/python3.7/dist-packages/object_detection/meta_architectures/ssd_meta_arch.py\", line 251, in call\n",
            "      return self._extract_features(inputs)\n",
            "    File \"/usr/local/lib/python3.7/dist-packages/object_detection/models/ssd_mobilenet_v2_keras_feature_extractor.py\", line 161, in _extract_features\n",
            "      image_features = self.classification_backbone(\n",
            "    File \"/usr/local/lib/python3.7/dist-packages/keras/utils/traceback_utils.py\", line 64, in error_handler\n",
            "      return fn(*args, **kwargs)\n",
            "    File \"/usr/local/lib/python3.7/dist-packages/keras/engine/base_layer.py\", line 1096, in __call__\n",
            "      outputs = call_fn(inputs, *args, **kwargs)\n",
            "    File \"/usr/local/lib/python3.7/dist-packages/keras/utils/traceback_utils.py\", line 92, in error_handler\n",
            "      return fn(*args, **kwargs)\n",
            "    File \"/usr/local/lib/python3.7/dist-packages/keras/engine/functional.py\", line 452, in call\n",
            "      inputs, training=training, mask=mask)\n",
            "    File \"/usr/local/lib/python3.7/dist-packages/keras/engine/functional.py\", line 589, in _run_internal_graph\n",
            "      outputs = node.layer(*args, **kwargs)\n",
            "    File \"/usr/local/lib/python3.7/dist-packages/keras/utils/traceback_utils.py\", line 64, in error_handler\n",
            "      return fn(*args, **kwargs)\n",
            "    File \"/usr/local/lib/python3.7/dist-packages/keras/engine/base_layer.py\", line 1096, in __call__\n",
            "      outputs = call_fn(inputs, *args, **kwargs)\n",
            "    File \"/usr/local/lib/python3.7/dist-packages/keras/utils/traceback_utils.py\", line 92, in error_handler\n",
            "      return fn(*args, **kwargs)\n",
            "    File \"/usr/local/lib/python3.7/dist-packages/keras/layers/convolutional.py\", line 248, in call\n",
            "      outputs = self.convolution_op(inputs, self.kernel)\n",
            "    File \"/usr/local/lib/python3.7/dist-packages/keras/layers/convolutional.py\", line 240, in convolution_op\n",
            "      name=self.__class__.__name__)\n",
            "Node: 'ssd_mobile_net_v2_keras_feature_extractor/model/Conv1/Conv2D'\n",
            "DNN library is not found.\n",
            "\t [[{{node ssd_mobile_net_v2_keras_feature_extractor/model/Conv1/Conv2D}}]] [Op:__inference__dummy_computation_fn_16980]\n"
          ]
        }
      ]
    },
    {
      "cell_type": "code",
      "source": [
        ""
      ],
      "metadata": {
        "id": "FMHxApfgA3-v"
      },
      "execution_count": null,
      "outputs": []
    },
    {
      "cell_type": "code",
      "source": [
        ""
      ],
      "metadata": {
        "id": "0rqP0g2HA38b"
      },
      "execution_count": null,
      "outputs": []
    },
    {
      "cell_type": "code",
      "source": [
        ""
      ],
      "metadata": {
        "id": "U3CSY8jVA35S"
      },
      "execution_count": null,
      "outputs": []
    }
  ]
}